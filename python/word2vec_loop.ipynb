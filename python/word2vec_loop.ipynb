{
 "cells": [
  {
   "cell_type": "code",
   "execution_count": 1,
   "metadata": {},
   "outputs": [
    {
     "name": "stderr",
     "output_type": "stream",
     "text": [
      "Using TensorFlow backend.\n"
     ]
    }
   ],
   "source": [
    "# Word2vec\n",
    "import gensim\n",
    "# nltk\n",
    "import nltk\n",
    "from nltk.corpus import stopwords\n",
    "from  nltk.stem import SnowballStemmer\n",
    "from keras.preprocessing.text import Tokenizer\n",
    "from sklearn.metrics.pairwise import cosine_similarity\n",
    "from collections import Counter\n",
    "\n",
    "import numpy as np\n",
    "import pandas as pd\n",
    "import re\n",
    "import os\n",
    "import string\n",
    "import json"
   ]
  },
  {
   "cell_type": "code",
   "execution_count": 2,
   "metadata": {},
   "outputs": [],
   "source": [
    "stop_words = stopwords.words(\"english\")\n",
    "stemmer = SnowballStemmer(\"english\")"
   ]
  },
  {
   "cell_type": "code",
   "execution_count": 4,
   "metadata": {},
   "outputs": [
    {
     "data": {
      "text/plain": [
       "<bound method EnglishStemmer.stem of <EnglishStemmer>>"
      ]
     },
     "execution_count": 4,
     "metadata": {},
     "output_type": "execute_result"
    }
   ],
   "source": [
    "stemmer.stem"
   ]
  },
  {
   "cell_type": "code",
   "execution_count": 3,
   "metadata": {},
   "outputs": [],
   "source": [
    "stop_words2 = stop_words[35:] # include i, we, they, it, etc."
   ]
  },
  {
   "cell_type": "code",
   "execution_count": 16,
   "metadata": {},
   "outputs": [],
   "source": [
    "def preprocess(text, stem=True):\n",
    "    # remove link, user and special characters\n",
    "    #text = re.sub(\"@\\S+|https?:\\S+|http?:\\S|[^A-Za-z0-9]+\", ' ', str(text).lower()).strip()\n",
    "    # Remove link\n",
    "    #text = re.sub(r'https?:\\/\\/(www\\.)?[-a-zA-Z0–9@:%._\\+~#=]{2,256}\\.[a-z]{2,6}\\b([-a-zA-Z0–9@:%_\\+.~#?&//=]*)', '', text, flags=re.MULTILINE) # to remove links that start with HTTP/HTTPS in the tweet\n",
    "    #text = re.sub(r'[-a-zA-Z0–9@:%._\\+~#=]{2,256}\\.[a-z]{2,6}\\b([-a-zA-Z0–9@:%_\\+.~#?&//=]*)', '', text, flags=re.MULTILINE) # to remove other url links\n",
    "    #text = re.sub(r'https?:\\S+|http?:\\S', ' ', str(text).lower()).strip()\n",
    "    text = re.sub(r\"(http?\\://|https?\\://|www)\\S+\", \" \", str(text).lower()).strip()\n",
    "    # change all to covid19\n",
    "    text = re.sub(r'(covid|c|cv)(\\s+|\\-|\\_)19', 'covid19 ', text)\n",
    "    text = re.sub(r'covid(\\s+|\\W|$)', 'covid19 ', text)\n",
    "    text = re.sub(r'coronavirus|caronavirus', 'covid19 ', text)\n",
    "    text = re.sub(r'corona', 'covid19 ', text)\n",
    "    text = re.sub(r'rona', 'covid19 ', text)\n",
    "    text = re.sub(r'c\\-19|c19|cv19|cv\\-19', 'covid19 ', text)\n",
    "    #text = re.sub(r'vaccinate|vaccination', 'vaccine', text)\n",
    "    #text = re.sub(r'depopulate', 'depopulation', text)\n",
    "    #text = re.sub(r'africa(n)?|melanin', 'black ', text)\n",
    "    #text = re.sub(r'immune', 'immunity', text)\n",
    "    text = re.sub(r'chip|microchipping', 'microchip', text)\n",
    "    #text = re.sub(r'deaths', 'death', text)\n",
    "    text = re.sub(r'laboratory', 'lab', text)\n",
    "    # remove newlines\n",
    "    text = re.sub(r'\\n', ' ', text)\n",
    "    # remove puctuations and special characters\n",
    "    text = re.sub(r'\\W+', ' ', text)\n",
    "    # Substituting multiple spaces with single space\n",
    "    text = re.sub(r'\\s+', ' ', text, flags=re.I)\n",
    "    # remove first space\n",
    "    text = re.sub(r'^\\s+', '', text)\n",
    "    # Removing prefixed 'b'\n",
    "    text = re.sub(r'^b\\s+', '', text)\n",
    "    \n",
    "    tokens = []\n",
    "    for token in text.split():\n",
    "        if token not in stop_words2:\n",
    "            if stem:\n",
    "                tokens.append(stemmer.stem(token))\n",
    "            else:\n",
    "                tokens.append(token)\n",
    "    return \" \".join(tokens)"
   ]
  },
  {
   "cell_type": "code",
   "execution_count": 17,
   "metadata": {},
   "outputs": [
    {
     "data": {
      "text/plain": [
       "'artilleri armor resist studi studi trump covid19 covid19 covid19 covid19 covid19 covid19 covid19 covid19 virus covid19'"
      ]
     },
     "execution_count": 17,
     "metadata": {},
     "output_type": "execute_result"
    }
   ],
   "source": [
    "preprocess(\"artillery armor resist study studied @trump covid\\n 19 and! covid-19. and, ...covid_19, and #covid? c19 c 19 cv-19 covid19-virus coronavirus\")"
   ]
  },
  {
   "cell_type": "code",
   "execution_count": 11,
   "metadata": {},
   "outputs": [
    {
     "data": {
      "text/plain": [
       "['covid_russia_week01_2020-01-24.csv',\n",
       " 'covid_russia_week02_2020-01-31.csv',\n",
       " 'covid_russia_week03_2020-02-07.csv',\n",
       " 'covid_russia_week04_2020-02-14.csv',\n",
       " 'covid_russia_week05_2020-02-21.csv',\n",
       " 'covid_russia_week06_2020-02-28.csv',\n",
       " 'covid_russia_week07_2020-03-06.csv',\n",
       " 'covid_russia_week08_2020-03-13.csv',\n",
       " 'covid_russia_week09_2020-03-20.csv',\n",
       " 'covid_russia_week10_2020-03-27.csv',\n",
       " 'covid_russia_week11_2020-04-03.csv',\n",
       " 'covid_russia_week12_2020-04-10.csv',\n",
       " 'covid_russia_week13_2020-04-17.csv',\n",
       " 'covid_russia_week14_2020-04-24.csv',\n",
       " 'covid_russia_week15_2020-05-01.csv',\n",
       " 'covid_russia_week16_2020-05-08.csv',\n",
       " 'covid_russia_week17_2020-05-15.csv',\n",
       " 'covid_russia_week18_2020-05-22.csv',\n",
       " 'covid_russia_week19_2020-05-29.csv',\n",
       " 'covid_russia_week20_2020-06-05.csv',\n",
       " 'covid_russia_week21_2020-06-12.csv',\n",
       " 'covid_russia_week22_2020-06-19.csv',\n",
       " 'covid_russia_week23_2020-06-26.csv',\n",
       " 'covid_russia_week24_2020-07-03.csv',\n",
       " 'covid_russia_week25_2020-07-10.csv',\n",
       " 'covid_russia_week26_2020-07-17.csv',\n",
       " 'covid_russia_week27_2020-07-24.csv',\n",
       " 'covid_russia_week28_2020-07-31.csv',\n",
       " 'covid_russia_week29_2020-08-07.csv',\n",
       " 'covid_russia_week30_2020-08-14.csv',\n",
       " 'covid_russia_week31_2020-08-21.csv',\n",
       " 'covid_russia_week32_2020-08-28.csv',\n",
       " 'covid_russia_week33_2020-09-04.csv',\n",
       " 'covid_russia_week34_2020-09-11.csv',\n",
       " 'covid_russia_week35_2020-09-18.csv',\n",
       " 'covid_russia_week36_2020-09-25.csv',\n",
       " 'covid_russia_week37_2020-10-02.csv',\n",
       " 'covid_russia_week38_2020-10-09.csv',\n",
       " 'covid_russia_week39_2020-10-16.csv',\n",
       " 'covid_russia_week40_2020-10-23.csv',\n",
       " 'covid_russia_week41_2020-10-30.csv',\n",
       " 'covid_russia_week42_2020-11-06.csv',\n",
       " 'covid_russia_week43_2020-11-13.csv',\n",
       " 'covid_russia_week44_2020-11-20.csv',\n",
       " 'covid_russia_week45_2020-11-27.csv',\n",
       " 'covid_russia_week46_2020-12-04.csv',\n",
       " 'covid_russia_week47_2020-12-11.csv',\n",
       " 'covid_russia_week48_2020-12-18.csv',\n",
       " 'covid_russia_week49_2020-12-25.csv',\n",
       " 'covid_russia_week50_2021-01-01.csv',\n",
       " 'covid_russia_week51_2021-01-08.csv',\n",
       " 'covid_russia_week52_2021-01-15.csv']"
      ]
     },
     "execution_count": 11,
     "metadata": {},
     "output_type": "execute_result"
    }
   ],
   "source": [
    "files = os.listdir('../data_week/russia')\n",
    "files.sort()\n",
    "files"
   ]
  },
  {
   "cell_type": "code",
   "execution_count": 39,
   "metadata": {},
   "outputs": [],
   "source": [
    "#files2 = [re.match(\"covid_usa_week[0-9][1-9].*\", f) for f in files]\n",
    "\n",
    "files2 = []\n",
    "for f in files:\n",
    "    m = re.match(\"covid_russia_week[0-9][1-9].*\", f)\n",
    "    if m is not None:\n",
    "        files2.append(m.group(0))"
   ]
  },
  {
   "cell_type": "code",
   "execution_count": 40,
   "metadata": {},
   "outputs": [],
   "source": [
    "files = files2"
   ]
  },
  {
   "cell_type": "code",
   "execution_count": 14,
   "metadata": {},
   "outputs": [
    {
     "data": {
      "text/plain": [
       "['covid_russia_week01_2020-1-24.csv',\n",
       " 'covid_russia_week02_2020-1-31.csv',\n",
       " 'covid_russia_week03_2020-2-7.csv',\n",
       " 'covid_russia_week04_2020-2-14.csv',\n",
       " 'covid_russia_week05_2020-2-21.csv',\n",
       " 'covid_russia_week06_2020-2-28.csv',\n",
       " 'covid_russia_week07_2020-3-6.csv',\n",
       " 'covid_russia_week08_2020-3-13.csv',\n",
       " 'covid_russia_week09_2020-3-20.csv',\n",
       " 'covid_russia_week10_2020-3-27.csv']"
      ]
     },
     "execution_count": 14,
     "metadata": {},
     "output_type": "execute_result"
    }
   ],
   "source": [
    "files = files[0:10]\n",
    "files"
   ]
  },
  {
   "cell_type": "code",
   "execution_count": 67,
   "metadata": {},
   "outputs": [
    {
     "data": {
      "text/plain": [
       "range(0, 13072)"
      ]
     },
     "execution_count": 67,
     "metadata": {},
     "output_type": "execute_result"
    }
   ],
   "source": [
    "## don't use this\n",
    "textp = []\n",
    "for i in range(len(df.text)):\n",
    "    textp.append(preprocess(df.text.values[i]))"
   ]
  },
  {
   "cell_type": "code",
   "execution_count": 18,
   "metadata": {},
   "outputs": [
    {
     "name": "stdout",
     "output_type": "stream",
     "text": [
      "covid_russia_week01_2020-01-24.csv\n",
      "covid_russia_week02_2020-01-31.csv\n",
      "covid_russia_week03_2020-02-07.csv\n",
      "covid_russia_week04_2020-02-14.csv\n",
      "covid_russia_week05_2020-02-21.csv\n",
      "covid_russia_week06_2020-02-28.csv\n",
      "covid_russia_week07_2020-03-06.csv\n",
      "covid_russia_week08_2020-03-13.csv\n",
      "covid_russia_week09_2020-03-20.csv\n",
      "covid_russia_week10_2020-03-27.csv\n"
     ]
    },
    {
     "name": "stderr",
     "output_type": "stream",
     "text": [
      "/home/lingshu/.local/lib/python3.7/site-packages/IPython/core/interactiveshell.py:3166: DtypeWarning: Columns (17) have mixed types. Specify dtype option on import or set low_memory=False.\n",
      "  interactivity=interactivity, compiler=compiler, result=result)\n"
     ]
    },
    {
     "name": "stdout",
     "output_type": "stream",
     "text": [
      "covid_russia_week11_2020-04-03.csv\n"
     ]
    },
    {
     "name": "stderr",
     "output_type": "stream",
     "text": [
      "/home/lingshu/.local/lib/python3.7/site-packages/IPython/core/interactiveshell.py:3166: DtypeWarning: Columns (17) have mixed types. Specify dtype option on import or set low_memory=False.\n",
      "  interactivity=interactivity, compiler=compiler, result=result)\n"
     ]
    },
    {
     "name": "stdout",
     "output_type": "stream",
     "text": [
      "covid_russia_week12_2020-04-10.csv\n",
      "covid_russia_week13_2020-04-17.csv\n"
     ]
    },
    {
     "name": "stderr",
     "output_type": "stream",
     "text": [
      "/home/lingshu/.local/lib/python3.7/site-packages/IPython/core/interactiveshell.py:3166: DtypeWarning: Columns (17) have mixed types. Specify dtype option on import or set low_memory=False.\n",
      "  interactivity=interactivity, compiler=compiler, result=result)\n"
     ]
    },
    {
     "name": "stdout",
     "output_type": "stream",
     "text": [
      "covid_russia_week14_2020-04-24.csv\n",
      "covid_russia_week15_2020-05-01.csv\n",
      "covid_russia_week16_2020-05-08.csv\n",
      "covid_russia_week17_2020-05-15.csv\n"
     ]
    },
    {
     "name": "stderr",
     "output_type": "stream",
     "text": [
      "/home/lingshu/.local/lib/python3.7/site-packages/IPython/core/interactiveshell.py:3166: DtypeWarning: Columns (17) have mixed types. Specify dtype option on import or set low_memory=False.\n",
      "  interactivity=interactivity, compiler=compiler, result=result)\n"
     ]
    },
    {
     "name": "stdout",
     "output_type": "stream",
     "text": [
      "covid_russia_week18_2020-05-22.csv\n"
     ]
    },
    {
     "name": "stderr",
     "output_type": "stream",
     "text": [
      "/home/lingshu/.local/lib/python3.7/site-packages/IPython/core/interactiveshell.py:3166: DtypeWarning: Columns (7,8,9,17,18,19,20,21,22,23,24,25,26,27,32,33,34,35,38,39,40,44,45,46,61,62,63,64,65,66,67) have mixed types. Specify dtype option on import or set low_memory=False.\n",
      "  interactivity=interactivity, compiler=compiler, result=result)\n"
     ]
    },
    {
     "name": "stdout",
     "output_type": "stream",
     "text": [
      "covid_russia_week19_2020-05-29.csv\n",
      "covid_russia_week20_2020-06-05.csv\n",
      "covid_russia_week21_2020-06-12.csv\n",
      "covid_russia_week22_2020-06-19.csv\n",
      "covid_russia_week23_2020-06-26.csv\n",
      "covid_russia_week24_2020-07-03.csv\n",
      "covid_russia_week25_2020-07-10.csv\n",
      "covid_russia_week26_2020-07-17.csv\n",
      "covid_russia_week27_2020-07-24.csv\n",
      "covid_russia_week28_2020-07-31.csv\n",
      "covid_russia_week29_2020-08-07.csv\n",
      "covid_russia_week30_2020-08-14.csv\n",
      "covid_russia_week31_2020-08-21.csv\n",
      "covid_russia_week32_2020-08-28.csv\n",
      "covid_russia_week33_2020-09-04.csv\n",
      "covid_russia_week34_2020-09-11.csv\n",
      "covid_russia_week35_2020-09-18.csv\n",
      "covid_russia_week36_2020-09-25.csv\n",
      "covid_russia_week37_2020-10-02.csv\n",
      "covid_russia_week38_2020-10-09.csv\n",
      "covid_russia_week39_2020-10-16.csv\n",
      "covid_russia_week40_2020-10-23.csv\n",
      "covid_russia_week41_2020-10-30.csv\n",
      "covid_russia_week42_2020-11-06.csv\n",
      "covid_russia_week43_2020-11-13.csv\n",
      "covid_russia_week44_2020-11-20.csv\n",
      "covid_russia_week45_2020-11-27.csv\n",
      "covid_russia_week46_2020-12-04.csv\n",
      "covid_russia_week47_2020-12-11.csv\n",
      "covid_russia_week48_2020-12-18.csv\n",
      "covid_russia_week49_2020-12-25.csv\n",
      "covid_russia_week50_2021-01-01.csv\n",
      "covid_russia_week51_2021-01-08.csv\n",
      "covid_russia_week52_2021-01-15.csv\n"
     ]
    }
   ],
   "source": [
    "for i in range(len(files)):\n",
    "    print(files[i])\n",
    "    df = pd.read_csv('../data_week/russia/'+files[i], encoding = \"UTF-8\")\n",
    "    textp = df.text.apply(lambda x: preprocess(x))\n",
    "    ## save text into a txt file\n",
    "    with open(\"../data_week_text/russia/\"+re.sub(\"\\.csv\", \"\",files[i])+\".txt\", 'w') as f:\n",
    "        for entry in textp:\n",
    "            f.write(entry+\"\\n\")\n",
    "    documents = [_text.split() for _text in textp] \n",
    "    w2v_model = gensim.models.word2vec.Word2Vec(size=100, \n",
    "                                            window=7, \n",
    "                                            min_count=10, \n",
    "                                            workers=8)\n",
    "    w2v_model.build_vocab(documents)\n",
    "    words = w2v_model.wv.vocab.keys()\n",
    "    vocab_size = len(words)\n",
    "    w2v_model.train(documents, total_examples=len(documents), epochs=32)\n",
    "    w2v_model.save(\"../embedding/Word2Vec/russia/\"+re.sub(\"\\.csv\", \"\",files[i])+\".w2v\")"
   ]
  },
  {
   "cell_type": "code",
   "execution_count": 20,
   "metadata": {},
   "outputs": [
    {
     "data": {
      "text/plain": [
       "['covid_usa_week01_2020-01-24.csv',\n",
       " 'covid_usa_week02_2020-01-31.csv',\n",
       " 'covid_usa_week03_2020-02-07.csv',\n",
       " 'covid_usa_week04_2020-02-14.csv',\n",
       " 'covid_usa_week05_2020-02-21.csv',\n",
       " 'covid_usa_week06_2020-02-28.csv',\n",
       " 'covid_usa_week07_2020-03-06.csv',\n",
       " 'covid_usa_week08_2020-03-13.csv',\n",
       " 'covid_usa_week09_2020-03-20.csv',\n",
       " 'covid_usa_week10_2020-03-27.csv',\n",
       " 'covid_usa_week11_2020-04-03.csv',\n",
       " 'covid_usa_week12_2020-04-10.csv',\n",
       " 'covid_usa_week13_2020-04-17.csv',\n",
       " 'covid_usa_week14_2020-04-24.csv',\n",
       " 'covid_usa_week15_2020-05-01.csv',\n",
       " 'covid_usa_week16_2020-05-08.csv',\n",
       " 'covid_usa_week17_2020-05-15.csv',\n",
       " 'covid_usa_week18_2020-05-22.csv',\n",
       " 'covid_usa_week19_2020-05-29.csv',\n",
       " 'covid_usa_week20_2020-06-05.csv',\n",
       " 'covid_usa_week21_2020-06-12.csv',\n",
       " 'covid_usa_week22_2020-06-19.csv',\n",
       " 'covid_usa_week23_2020-06-26.csv',\n",
       " 'covid_usa_week24_2020-07-03.csv',\n",
       " 'covid_usa_week25_2020-07-10.csv',\n",
       " 'covid_usa_week26_2020-07-17.csv',\n",
       " 'covid_usa_week27_2020-07-24.csv',\n",
       " 'covid_usa_week28_2020-07-31.csv',\n",
       " 'covid_usa_week29_2020-08-07.csv',\n",
       " 'covid_usa_week30_2020-08-14.csv',\n",
       " 'covid_usa_week31_2020-08-21.csv',\n",
       " 'covid_usa_week32_2020-08-28.csv',\n",
       " 'covid_usa_week33_2020-09-04.csv',\n",
       " 'covid_usa_week34_2020-09-11.csv',\n",
       " 'covid_usa_week35_2020-09-18.csv',\n",
       " 'covid_usa_week36_2020-09-25.csv',\n",
       " 'covid_usa_week37_2020-10-02.csv',\n",
       " 'covid_usa_week38_2020-10-09.csv',\n",
       " 'covid_usa_week39_2020-10-16.csv',\n",
       " 'covid_usa_week40_2020-10-23.csv',\n",
       " 'covid_usa_week41_2020-10-30.csv',\n",
       " 'covid_usa_week42_2020-11-06.csv',\n",
       " 'covid_usa_week43_2020-11-13.csv',\n",
       " 'covid_usa_week44_2020-11-20.csv',\n",
       " 'covid_usa_week45_2020-11-27.csv',\n",
       " 'covid_usa_week46_2020-12-04.csv',\n",
       " 'covid_usa_week47_2020-12-11.csv',\n",
       " 'covid_usa_week48_2020-12-18.csv',\n",
       " 'covid_usa_week49_2020-12-25.csv',\n",
       " 'covid_usa_week50_2021-01-01.csv',\n",
       " 'covid_usa_week51_2021-01-08.csv',\n",
       " 'covid_usa_week52_2021-01-15.csv']"
      ]
     },
     "execution_count": 20,
     "metadata": {},
     "output_type": "execute_result"
    }
   ],
   "source": [
    "files = os.listdir('../data_week/usa')\n",
    "files.sort()\n",
    "files"
   ]
  },
  {
   "cell_type": "code",
   "execution_count": 47,
   "metadata": {},
   "outputs": [
    {
     "name": "stdout",
     "output_type": "stream",
     "text": [
      "['covid_usa_week13_2020-4-17.csv', 'covid_usa_week21_2020-6-12.csv', 'covid_usa_week14_2020-4-24.csv', 'covid_usa_week23_2020-6-26.csv', 'covid_usa_week11_2020-4-3.csv', 'covid_usa_week18_2020-5-22.csv', 'covid_usa_week22_2020-6-19.csv', 'covid_usa_week16_2020-5-8.csv', 'covid_usa_week19_2020-5-29.csv', 'covid_usa_week17_2020-5-15.csv', 'covid_usa_week15_2020-5-1.csv', 'covid_usa_week12_2020-4-10.csv']\n"
     ]
    }
   ],
   "source": [
    "files2 = []\n",
    "for f in files:\n",
    "    m = re.match(\"covid_usa_week[0-9][1-9].*\", f)\n",
    "    if m is not None:\n",
    "        files2.append(m.group(0))\n",
    "files = files2     \n",
    "print(files)"
   ]
  },
  {
   "cell_type": "code",
   "execution_count": 17,
   "metadata": {},
   "outputs": [
    {
     "data": {
      "text/plain": [
       "['covid_usa_week01.csv',\n",
       " 'covid_usa_week02.csv',\n",
       " 'covid_usa_week03.csv',\n",
       " 'covid_usa_week04.csv',\n",
       " 'covid_usa_week05.csv',\n",
       " 'covid_usa_week06_2020-2-28.csv',\n",
       " 'covid_usa_week07_2020-3-6.csv',\n",
       " 'covid_usa_week08_2020-3-13.csv',\n",
       " 'covid_usa_week09_2020-3-20.csv',\n",
       " 'covid_usa_week10_2020-3-27.csv']"
      ]
     },
     "execution_count": 17,
     "metadata": {},
     "output_type": "execute_result"
    }
   ],
   "source": [
    "files = files[0:10]\n",
    "files"
   ]
  },
  {
   "cell_type": "code",
   "execution_count": 21,
   "metadata": {},
   "outputs": [
    {
     "name": "stdout",
     "output_type": "stream",
     "text": [
      "covid_usa_week01_2020-01-24.csv\n",
      "covid_usa_week02_2020-01-31.csv\n",
      "covid_usa_week03_2020-02-07.csv\n"
     ]
    },
    {
     "name": "stderr",
     "output_type": "stream",
     "text": [
      "/home/lingshu/.local/lib/python3.7/site-packages/IPython/core/interactiveshell.py:3166: DtypeWarning: Columns (17) have mixed types. Specify dtype option on import or set low_memory=False.\n",
      "  interactivity=interactivity, compiler=compiler, result=result)\n"
     ]
    },
    {
     "name": "stdout",
     "output_type": "stream",
     "text": [
      "covid_usa_week04_2020-02-14.csv\n",
      "covid_usa_week05_2020-02-21.csv\n",
      "covid_usa_week06_2020-02-28.csv\n",
      "covid_usa_week07_2020-03-06.csv\n"
     ]
    },
    {
     "name": "stderr",
     "output_type": "stream",
     "text": [
      "/home/lingshu/.local/lib/python3.7/site-packages/IPython/core/interactiveshell.py:3166: DtypeWarning: Columns (17) have mixed types. Specify dtype option on import or set low_memory=False.\n",
      "  interactivity=interactivity, compiler=compiler, result=result)\n"
     ]
    },
    {
     "name": "stdout",
     "output_type": "stream",
     "text": [
      "covid_usa_week08_2020-03-13.csv\n"
     ]
    },
    {
     "name": "stderr",
     "output_type": "stream",
     "text": [
      "/home/lingshu/.local/lib/python3.7/site-packages/IPython/core/interactiveshell.py:3166: DtypeWarning: Columns (17) have mixed types. Specify dtype option on import or set low_memory=False.\n",
      "  interactivity=interactivity, compiler=compiler, result=result)\n"
     ]
    },
    {
     "name": "stdout",
     "output_type": "stream",
     "text": [
      "covid_usa_week09_2020-03-20.csv\n"
     ]
    },
    {
     "name": "stderr",
     "output_type": "stream",
     "text": [
      "/home/lingshu/.local/lib/python3.7/site-packages/IPython/core/interactiveshell.py:3166: DtypeWarning: Columns (17) have mixed types. Specify dtype option on import or set low_memory=False.\n",
      "  interactivity=interactivity, compiler=compiler, result=result)\n"
     ]
    },
    {
     "name": "stdout",
     "output_type": "stream",
     "text": [
      "covid_usa_week10_2020-03-27.csv\n"
     ]
    },
    {
     "name": "stderr",
     "output_type": "stream",
     "text": [
      "/home/lingshu/.local/lib/python3.7/site-packages/IPython/core/interactiveshell.py:3166: DtypeWarning: Columns (17) have mixed types. Specify dtype option on import or set low_memory=False.\n",
      "  interactivity=interactivity, compiler=compiler, result=result)\n"
     ]
    },
    {
     "name": "stdout",
     "output_type": "stream",
     "text": [
      "covid_usa_week11_2020-04-03.csv\n"
     ]
    },
    {
     "name": "stderr",
     "output_type": "stream",
     "text": [
      "/home/lingshu/.local/lib/python3.7/site-packages/IPython/core/interactiveshell.py:3166: DtypeWarning: Columns (17) have mixed types. Specify dtype option on import or set low_memory=False.\n",
      "  interactivity=interactivity, compiler=compiler, result=result)\n"
     ]
    },
    {
     "name": "stdout",
     "output_type": "stream",
     "text": [
      "covid_usa_week12_2020-04-10.csv\n"
     ]
    },
    {
     "name": "stderr",
     "output_type": "stream",
     "text": [
      "/home/lingshu/.local/lib/python3.7/site-packages/IPython/core/interactiveshell.py:3166: DtypeWarning: Columns (17) have mixed types. Specify dtype option on import or set low_memory=False.\n",
      "  interactivity=interactivity, compiler=compiler, result=result)\n"
     ]
    },
    {
     "name": "stdout",
     "output_type": "stream",
     "text": [
      "covid_usa_week13_2020-04-17.csv\n"
     ]
    },
    {
     "name": "stderr",
     "output_type": "stream",
     "text": [
      "/home/lingshu/.local/lib/python3.7/site-packages/IPython/core/interactiveshell.py:3166: DtypeWarning: Columns (17) have mixed types. Specify dtype option on import or set low_memory=False.\n",
      "  interactivity=interactivity, compiler=compiler, result=result)\n"
     ]
    },
    {
     "name": "stdout",
     "output_type": "stream",
     "text": [
      "covid_usa_week14_2020-04-24.csv\n"
     ]
    },
    {
     "name": "stderr",
     "output_type": "stream",
     "text": [
      "/home/lingshu/.local/lib/python3.7/site-packages/IPython/core/interactiveshell.py:3166: DtypeWarning: Columns (17) have mixed types. Specify dtype option on import or set low_memory=False.\n",
      "  interactivity=interactivity, compiler=compiler, result=result)\n"
     ]
    },
    {
     "name": "stdout",
     "output_type": "stream",
     "text": [
      "covid_usa_week15_2020-05-01.csv\n",
      "covid_usa_week16_2020-05-08.csv\n"
     ]
    },
    {
     "name": "stderr",
     "output_type": "stream",
     "text": [
      "/home/lingshu/.local/lib/python3.7/site-packages/IPython/core/interactiveshell.py:3166: DtypeWarning: Columns (17) have mixed types. Specify dtype option on import or set low_memory=False.\n",
      "  interactivity=interactivity, compiler=compiler, result=result)\n"
     ]
    },
    {
     "name": "stdout",
     "output_type": "stream",
     "text": [
      "covid_usa_week17_2020-05-15.csv\n"
     ]
    },
    {
     "name": "stderr",
     "output_type": "stream",
     "text": [
      "/home/lingshu/.local/lib/python3.7/site-packages/IPython/core/interactiveshell.py:3166: DtypeWarning: Columns (17) have mixed types. Specify dtype option on import or set low_memory=False.\n",
      "  interactivity=interactivity, compiler=compiler, result=result)\n"
     ]
    },
    {
     "name": "stdout",
     "output_type": "stream",
     "text": [
      "covid_usa_week18_2020-05-22.csv\n"
     ]
    },
    {
     "name": "stderr",
     "output_type": "stream",
     "text": [
      "/home/lingshu/.local/lib/python3.7/site-packages/IPython/core/interactiveshell.py:3166: DtypeWarning: Columns (17) have mixed types. Specify dtype option on import or set low_memory=False.\n",
      "  interactivity=interactivity, compiler=compiler, result=result)\n"
     ]
    },
    {
     "name": "stdout",
     "output_type": "stream",
     "text": [
      "covid_usa_week19_2020-05-29.csv\n",
      "covid_usa_week20_2020-06-05.csv\n",
      "covid_usa_week21_2020-06-12.csv\n",
      "covid_usa_week22_2020-06-19.csv\n",
      "covid_usa_week23_2020-06-26.csv\n"
     ]
    },
    {
     "name": "stderr",
     "output_type": "stream",
     "text": [
      "/home/lingshu/.local/lib/python3.7/site-packages/IPython/core/interactiveshell.py:3166: DtypeWarning: Columns (17) have mixed types. Specify dtype option on import or set low_memory=False.\n",
      "  interactivity=interactivity, compiler=compiler, result=result)\n"
     ]
    },
    {
     "name": "stdout",
     "output_type": "stream",
     "text": [
      "covid_usa_week24_2020-07-03.csv\n"
     ]
    },
    {
     "name": "stderr",
     "output_type": "stream",
     "text": [
      "/home/lingshu/.local/lib/python3.7/site-packages/IPython/core/interactiveshell.py:3166: DtypeWarning: Columns (17) have mixed types. Specify dtype option on import or set low_memory=False.\n",
      "  interactivity=interactivity, compiler=compiler, result=result)\n"
     ]
    },
    {
     "name": "stdout",
     "output_type": "stream",
     "text": [
      "covid_usa_week25_2020-07-10.csv\n"
     ]
    },
    {
     "name": "stderr",
     "output_type": "stream",
     "text": [
      "/home/lingshu/.local/lib/python3.7/site-packages/IPython/core/interactiveshell.py:3166: DtypeWarning: Columns (17) have mixed types. Specify dtype option on import or set low_memory=False.\n",
      "  interactivity=interactivity, compiler=compiler, result=result)\n"
     ]
    },
    {
     "name": "stdout",
     "output_type": "stream",
     "text": [
      "covid_usa_week26_2020-07-17.csv\n"
     ]
    },
    {
     "name": "stderr",
     "output_type": "stream",
     "text": [
      "/home/lingshu/.local/lib/python3.7/site-packages/IPython/core/interactiveshell.py:3166: DtypeWarning: Columns (17) have mixed types. Specify dtype option on import or set low_memory=False.\n",
      "  interactivity=interactivity, compiler=compiler, result=result)\n"
     ]
    },
    {
     "name": "stdout",
     "output_type": "stream",
     "text": [
      "covid_usa_week27_2020-07-24.csv\n",
      "covid_usa_week28_2020-07-31.csv\n",
      "covid_usa_week29_2020-08-07.csv\n",
      "covid_usa_week30_2020-08-14.csv\n",
      "covid_usa_week31_2020-08-21.csv\n",
      "covid_usa_week32_2020-08-28.csv\n",
      "covid_usa_week33_2020-09-04.csv\n"
     ]
    },
    {
     "name": "stderr",
     "output_type": "stream",
     "text": [
      "/home/lingshu/.local/lib/python3.7/site-packages/IPython/core/interactiveshell.py:3166: DtypeWarning: Columns (17) have mixed types. Specify dtype option on import or set low_memory=False.\n",
      "  interactivity=interactivity, compiler=compiler, result=result)\n"
     ]
    },
    {
     "name": "stdout",
     "output_type": "stream",
     "text": [
      "covid_usa_week34_2020-09-11.csv\n",
      "covid_usa_week35_2020-09-18.csv\n"
     ]
    },
    {
     "name": "stderr",
     "output_type": "stream",
     "text": [
      "/home/lingshu/.local/lib/python3.7/site-packages/IPython/core/interactiveshell.py:3166: DtypeWarning: Columns (17) have mixed types. Specify dtype option on import or set low_memory=False.\n",
      "  interactivity=interactivity, compiler=compiler, result=result)\n"
     ]
    },
    {
     "name": "stdout",
     "output_type": "stream",
     "text": [
      "covid_usa_week36_2020-09-25.csv\n",
      "covid_usa_week37_2020-10-02.csv\n"
     ]
    },
    {
     "name": "stderr",
     "output_type": "stream",
     "text": [
      "/home/lingshu/.local/lib/python3.7/site-packages/IPython/core/interactiveshell.py:3166: DtypeWarning: Columns (17) have mixed types. Specify dtype option on import or set low_memory=False.\n",
      "  interactivity=interactivity, compiler=compiler, result=result)\n"
     ]
    },
    {
     "name": "stdout",
     "output_type": "stream",
     "text": [
      "covid_usa_week38_2020-10-09.csv\n"
     ]
    },
    {
     "name": "stderr",
     "output_type": "stream",
     "text": [
      "/home/lingshu/.local/lib/python3.7/site-packages/IPython/core/interactiveshell.py:3166: DtypeWarning: Columns (17) have mixed types. Specify dtype option on import or set low_memory=False.\n",
      "  interactivity=interactivity, compiler=compiler, result=result)\n"
     ]
    },
    {
     "name": "stdout",
     "output_type": "stream",
     "text": [
      "covid_usa_week39_2020-10-16.csv\n",
      "covid_usa_week40_2020-10-23.csv\n"
     ]
    },
    {
     "name": "stderr",
     "output_type": "stream",
     "text": [
      "/home/lingshu/.local/lib/python3.7/site-packages/IPython/core/interactiveshell.py:3166: DtypeWarning: Columns (17) have mixed types. Specify dtype option on import or set low_memory=False.\n",
      "  interactivity=interactivity, compiler=compiler, result=result)\n"
     ]
    },
    {
     "name": "stdout",
     "output_type": "stream",
     "text": [
      "covid_usa_week41_2020-10-30.csv\n"
     ]
    },
    {
     "name": "stderr",
     "output_type": "stream",
     "text": [
      "/home/lingshu/.local/lib/python3.7/site-packages/IPython/core/interactiveshell.py:3166: DtypeWarning: Columns (17) have mixed types. Specify dtype option on import or set low_memory=False.\n",
      "  interactivity=interactivity, compiler=compiler, result=result)\n"
     ]
    },
    {
     "name": "stdout",
     "output_type": "stream",
     "text": [
      "covid_usa_week42_2020-11-06.csv\n"
     ]
    },
    {
     "name": "stderr",
     "output_type": "stream",
     "text": [
      "/home/lingshu/.local/lib/python3.7/site-packages/IPython/core/interactiveshell.py:3166: DtypeWarning: Columns (17) have mixed types. Specify dtype option on import or set low_memory=False.\n",
      "  interactivity=interactivity, compiler=compiler, result=result)\n"
     ]
    },
    {
     "name": "stdout",
     "output_type": "stream",
     "text": [
      "covid_usa_week43_2020-11-13.csv\n"
     ]
    },
    {
     "name": "stderr",
     "output_type": "stream",
     "text": [
      "/home/lingshu/.local/lib/python3.7/site-packages/IPython/core/interactiveshell.py:3166: DtypeWarning: Columns (17) have mixed types. Specify dtype option on import or set low_memory=False.\n",
      "  interactivity=interactivity, compiler=compiler, result=result)\n"
     ]
    },
    {
     "name": "stdout",
     "output_type": "stream",
     "text": [
      "covid_usa_week44_2020-11-20.csv\n"
     ]
    },
    {
     "name": "stderr",
     "output_type": "stream",
     "text": [
      "/home/lingshu/.local/lib/python3.7/site-packages/IPython/core/interactiveshell.py:3166: DtypeWarning: Columns (17) have mixed types. Specify dtype option on import or set low_memory=False.\n",
      "  interactivity=interactivity, compiler=compiler, result=result)\n"
     ]
    },
    {
     "name": "stdout",
     "output_type": "stream",
     "text": [
      "covid_usa_week45_2020-11-27.csv\n"
     ]
    },
    {
     "name": "stderr",
     "output_type": "stream",
     "text": [
      "/home/lingshu/.local/lib/python3.7/site-packages/IPython/core/interactiveshell.py:3166: DtypeWarning: Columns (17) have mixed types. Specify dtype option on import or set low_memory=False.\n",
      "  interactivity=interactivity, compiler=compiler, result=result)\n"
     ]
    },
    {
     "name": "stdout",
     "output_type": "stream",
     "text": [
      "covid_usa_week46_2020-12-04.csv\n"
     ]
    },
    {
     "name": "stderr",
     "output_type": "stream",
     "text": [
      "/home/lingshu/.local/lib/python3.7/site-packages/IPython/core/interactiveshell.py:3166: DtypeWarning: Columns (17) have mixed types. Specify dtype option on import or set low_memory=False.\n",
      "  interactivity=interactivity, compiler=compiler, result=result)\n"
     ]
    },
    {
     "name": "stdout",
     "output_type": "stream",
     "text": [
      "covid_usa_week47_2020-12-11.csv\n"
     ]
    },
    {
     "name": "stderr",
     "output_type": "stream",
     "text": [
      "/home/lingshu/.local/lib/python3.7/site-packages/IPython/core/interactiveshell.py:3166: DtypeWarning: Columns (17) have mixed types. Specify dtype option on import or set low_memory=False.\n",
      "  interactivity=interactivity, compiler=compiler, result=result)\n"
     ]
    },
    {
     "name": "stdout",
     "output_type": "stream",
     "text": [
      "covid_usa_week48_2020-12-18.csv\n"
     ]
    },
    {
     "name": "stderr",
     "output_type": "stream",
     "text": [
      "/home/lingshu/.local/lib/python3.7/site-packages/IPython/core/interactiveshell.py:3166: DtypeWarning: Columns (17) have mixed types. Specify dtype option on import or set low_memory=False.\n",
      "  interactivity=interactivity, compiler=compiler, result=result)\n"
     ]
    },
    {
     "name": "stdout",
     "output_type": "stream",
     "text": [
      "covid_usa_week49_2020-12-25.csv\n"
     ]
    },
    {
     "name": "stderr",
     "output_type": "stream",
     "text": [
      "/home/lingshu/.local/lib/python3.7/site-packages/IPython/core/interactiveshell.py:3166: DtypeWarning: Columns (17) have mixed types. Specify dtype option on import or set low_memory=False.\n",
      "  interactivity=interactivity, compiler=compiler, result=result)\n"
     ]
    },
    {
     "name": "stdout",
     "output_type": "stream",
     "text": [
      "covid_usa_week50_2021-01-01.csv\n"
     ]
    },
    {
     "name": "stderr",
     "output_type": "stream",
     "text": [
      "/home/lingshu/.local/lib/python3.7/site-packages/IPython/core/interactiveshell.py:3166: DtypeWarning: Columns (17) have mixed types. Specify dtype option on import or set low_memory=False.\n",
      "  interactivity=interactivity, compiler=compiler, result=result)\n"
     ]
    },
    {
     "name": "stdout",
     "output_type": "stream",
     "text": [
      "covid_usa_week51_2021-01-08.csv\n",
      "covid_usa_week52_2021-01-15.csv\n"
     ]
    },
    {
     "name": "stderr",
     "output_type": "stream",
     "text": [
      "/home/lingshu/.local/lib/python3.7/site-packages/IPython/core/interactiveshell.py:3166: DtypeWarning: Columns (17) have mixed types. Specify dtype option on import or set low_memory=False.\n",
      "  interactivity=interactivity, compiler=compiler, result=result)\n"
     ]
    }
   ],
   "source": [
    "for i in range(len(files)):\n",
    "    print(files[i])\n",
    "    df = pd.read_csv('../data_week/usa/'+files[i], encoding = \"UTF-8\")\n",
    "    textp = df.text.apply(lambda x: preprocess(x))\n",
    "    ## save text into a txt file\n",
    "    with open(\"../data_week_text/usa/\"+re.sub(\"\\.csv\", \"\",files[i])+\".txt\", 'w') as f:\n",
    "        for entry in textp:\n",
    "            f.write(entry+\"\\n\")\n",
    "    documents = [_text.split() for _text in textp] \n",
    "    w2v_model = gensim.models.word2vec.Word2Vec(size=100, \n",
    "                                            window=7, \n",
    "                                            min_count=10, \n",
    "                                            workers=8)\n",
    "    w2v_model.build_vocab(documents)\n",
    "    words = w2v_model.wv.vocab.keys()\n",
    "    vocab_size = len(words)\n",
    "    w2v_model.train(documents, total_examples=len(documents), epochs=32)\n",
    "    w2v_model.save(\"../embedding/Word2Vec/usa/\"+re.sub(\"\\.csv\", \"\",files[i])+\".w2v\")"
   ]
  },
  {
   "cell_type": "code",
   "execution_count": 86,
   "metadata": {},
   "outputs": [
    {
     "data": {
      "text/plain": [
       "'new target corpor ceo brian cornel issu statement covid19 weekend we start limit number key item per purchas allow guest get they need covid19 covid19'"
      ]
     },
     "execution_count": 86,
     "metadata": {},
     "output_type": "execute_result"
    }
   ],
   "source": [
    "textp[100]"
   ]
  },
  {
   "cell_type": "markdown",
   "metadata": {},
   "source": [
    "# End"
   ]
  },
  {
   "cell_type": "code",
   "execution_count": 6,
   "metadata": {},
   "outputs": [],
   "source": [
    "# read dataset\n",
    "df = pd.read_csv(\"../data/covid_usa_jan24-mar10_21pm-23pm_onethird_text.csv\", encoding = \"ISO-8859-1\")\n",
    "#df = pd.read_csv(\"../data/covid_usa_mar11-may25_21pm-23pm_onethird_text.csv\", encoding = \"ISO-8859-1\")"
   ]
  },
  {
   "cell_type": "code",
   "execution_count": 7,
   "metadata": {},
   "outputs": [
    {
     "name": "stdout",
     "output_type": "stream",
     "text": [
      "CPU times: user 30.9 s, sys: 0 ns, total: 30.9 s\n",
      "Wall time: 30.9 s\n"
     ]
    }
   ],
   "source": [
    "%%time\n",
    "# clean texts\n",
    "textp = df.text.apply(lambda x: preprocess(x))"
   ]
  },
  {
   "cell_type": "code",
   "execution_count": 8,
   "metadata": {},
   "outputs": [
    {
     "data": {
      "text/plain": [
       "pandas.core.series.Series"
      ]
     },
     "execution_count": 8,
     "metadata": {},
     "output_type": "execute_result"
    }
   ],
   "source": [
    "type(textp)"
   ]
  },
  {
   "cell_type": "code",
   "execution_count": 9,
   "metadata": {},
   "outputs": [],
   "source": [
    "#textp.rename = [\"textp\"]\n",
    "df = pd.concat([df, textp], axis=1)\n",
    "df.columns = [\"user_id\", \"status_id\", \"created_at\", \"screen_name\", \"text\", \"textp\"]"
   ]
  },
  {
   "cell_type": "code",
   "execution_count": 10,
   "metadata": {},
   "outputs": [],
   "source": [
    "df.to_csv(\"../data/covid_usa_jan24-mar10_21pm-23pm_onethird_text_clean.csv\", index = False)"
   ]
  },
  {
   "cell_type": "code",
   "execution_count": 16,
   "metadata": {},
   "outputs": [
    {
     "data": {
      "text/html": [
       "<div>\n",
       "<style scoped>\n",
       "    .dataframe tbody tr th:only-of-type {\n",
       "        vertical-align: middle;\n",
       "    }\n",
       "\n",
       "    .dataframe tbody tr th {\n",
       "        vertical-align: top;\n",
       "    }\n",
       "\n",
       "    .dataframe thead th {\n",
       "        text-align: right;\n",
       "    }\n",
       "</style>\n",
       "<table border=\"1\" class=\"dataframe\">\n",
       "  <thead>\n",
       "    <tr style=\"text-align: right;\">\n",
       "      <th></th>\n",
       "      <th>user_id</th>\n",
       "      <th>status_id</th>\n",
       "      <th>created_at</th>\n",
       "      <th>screen_name</th>\n",
       "      <th>text</th>\n",
       "      <th>text</th>\n",
       "    </tr>\n",
       "  </thead>\n",
       "  <tbody>\n",
       "    <tr>\n",
       "      <th>0</th>\n",
       "      <td>x948078367</td>\n",
       "      <td>x1232793538569457664</td>\n",
       "      <td>2020-02-26 22:24:18</td>\n",
       "      <td>srmduke87</td>\n",
       "      <td>â¼ï¸\\nAzar refuses to promise a coronavirus ...</td>\n",
       "      <td>â ¼ï azar refuses promise covid19 vaccine affo...</td>\n",
       "    </tr>\n",
       "    <tr>\n",
       "      <th>1</th>\n",
       "      <td>x14317928</td>\n",
       "      <td>x1232787852473270277</td>\n",
       "      <td>2020-02-26 22:01:42</td>\n",
       "      <td>rawells</td>\n",
       "      <td>The significance of the Miami man who feared h...</td>\n",
       "      <td>significance miami man feared he might covid19</td>\n",
       "    </tr>\n",
       "    <tr>\n",
       "      <th>2</th>\n",
       "      <td>x836361828494094336</td>\n",
       "      <td>x1233150596481536000</td>\n",
       "      <td>2020-02-27 22:03:07</td>\n",
       "      <td>DuckyTetzloff</td>\n",
       "      <td>Pocahontas: I'm gonna introduce a plan to take...</td>\n",
       "      <td>pocahontas i gonna introduce plan take every d...</td>\n",
       "    </tr>\n",
       "    <tr>\n",
       "      <th>3</th>\n",
       "      <td>x61170702</td>\n",
       "      <td>x1233154633746538497</td>\n",
       "      <td>2020-02-27 22:19:10</td>\n",
       "      <td>discovertlife</td>\n",
       "      <td>California health officials are monitoring 8,4...</td>\n",
       "      <td>california health officials monitoring 8 400 p...</td>\n",
       "    </tr>\n",
       "    <tr>\n",
       "      <th>4</th>\n",
       "      <td>x371981714</td>\n",
       "      <td>x1233138902061535233</td>\n",
       "      <td>2020-02-27 21:16:39</td>\n",
       "      <td>RhondaJonesLevy</td>\n",
       "      <td>Republicans who acquitted Trump on articles of...</td>\n",
       "      <td>republicans acquitted trump articles impeachme...</td>\n",
       "    </tr>\n",
       "    <tr>\n",
       "      <th>...</th>\n",
       "      <td>...</td>\n",
       "      <td>...</td>\n",
       "      <td>...</td>\n",
       "      <td>...</td>\n",
       "      <td>...</td>\n",
       "      <td>...</td>\n",
       "    </tr>\n",
       "    <tr>\n",
       "      <th>379345</th>\n",
       "      <td>x2181460182</td>\n",
       "      <td>x1236396565444669440</td>\n",
       "      <td>2020-03-07 21:01:26</td>\n",
       "      <td>4nnette_</td>\n",
       "      <td>Trump lied about Russian interference. He atta...</td>\n",
       "      <td>trump lied russian interference he attacked an...</td>\n",
       "    </tr>\n",
       "    <tr>\n",
       "      <th>379346</th>\n",
       "      <td>x1177400099648880640</td>\n",
       "      <td>x1236038831859617792</td>\n",
       "      <td>2020-03-06 21:19:56</td>\n",
       "      <td>Carolyn83103672</td>\n",
       "      <td>@ThisisShannonVB @madisongesiotto He should be...</td>\n",
       "      <td>thisisshannonvb madisongesiotto he forced star...</td>\n",
       "    </tr>\n",
       "    <tr>\n",
       "      <th>379347</th>\n",
       "      <td>x20032020</td>\n",
       "      <td>x1237124910603890688</td>\n",
       "      <td>2020-03-09 21:15:38</td>\n",
       "      <td>LLight</td>\n",
       "      <td>@GOP @GOPHouse @GOPSenate @SenatorCollins @Tho...</td>\n",
       "      <td>gop gophouse gopsenate senatorcollins thomtill...</td>\n",
       "    </tr>\n",
       "    <tr>\n",
       "      <th>379348</th>\n",
       "      <td>x784494741153013760</td>\n",
       "      <td>x1237140816512135169</td>\n",
       "      <td>2020-03-09 22:18:50</td>\n",
       "      <td>captainleebip</td>\n",
       "      <td>Democrat Gavin Newsome was asked how President...</td>\n",
       "      <td>democrat gavin newsome asked president trump h...</td>\n",
       "    </tr>\n",
       "    <tr>\n",
       "      <th>379349</th>\n",
       "      <td>x17703035</td>\n",
       "      <td>x1236038316463722496</td>\n",
       "      <td>2020-03-06 21:17:53</td>\n",
       "      <td>DonMcKenzie</td>\n",
       "      <td>The #coronavirus issue, over-hyped or not, has...</td>\n",
       "      <td>covid19 issue hyped show desperate need medica...</td>\n",
       "    </tr>\n",
       "  </tbody>\n",
       "</table>\n",
       "<p>379350 rows × 6 columns</p>\n",
       "</div>"
      ],
      "text/plain": [
       "                     user_id             status_id           created_at  \\\n",
       "0                 x948078367  x1232793538569457664  2020-02-26 22:24:18   \n",
       "1                  x14317928  x1232787852473270277  2020-02-26 22:01:42   \n",
       "2        x836361828494094336  x1233150596481536000  2020-02-27 22:03:07   \n",
       "3                  x61170702  x1233154633746538497  2020-02-27 22:19:10   \n",
       "4                 x371981714  x1233138902061535233  2020-02-27 21:16:39   \n",
       "...                      ...                   ...                  ...   \n",
       "379345           x2181460182  x1236396565444669440  2020-03-07 21:01:26   \n",
       "379346  x1177400099648880640  x1236038831859617792  2020-03-06 21:19:56   \n",
       "379347             x20032020  x1237124910603890688  2020-03-09 21:15:38   \n",
       "379348   x784494741153013760  x1237140816512135169  2020-03-09 22:18:50   \n",
       "379349             x17703035  x1236038316463722496  2020-03-06 21:17:53   \n",
       "\n",
       "            screen_name                                               text  \\\n",
       "0             srmduke87  â¼ï¸\\nAzar refuses to promise a coronavirus ...   \n",
       "1               rawells  The significance of the Miami man who feared h...   \n",
       "2         DuckyTetzloff  Pocahontas: I'm gonna introduce a plan to take...   \n",
       "3         discovertlife  California health officials are monitoring 8,4...   \n",
       "4       RhondaJonesLevy  Republicans who acquitted Trump on articles of...   \n",
       "...                 ...                                                ...   \n",
       "379345         4nnette_  Trump lied about Russian interference. He atta...   \n",
       "379346  Carolyn83103672  @ThisisShannonVB @madisongesiotto He should be...   \n",
       "379347           LLight  @GOP @GOPHouse @GOPSenate @SenatorCollins @Tho...   \n",
       "379348    captainleebip  Democrat Gavin Newsome was asked how President...   \n",
       "379349      DonMcKenzie  The #coronavirus issue, over-hyped or not, has...   \n",
       "\n",
       "                                                     text  \n",
       "0       â ¼ï azar refuses promise covid19 vaccine affo...  \n",
       "1          significance miami man feared he might covid19  \n",
       "2       pocahontas i gonna introduce plan take every d...  \n",
       "3       california health officials monitoring 8 400 p...  \n",
       "4       republicans acquitted trump articles impeachme...  \n",
       "...                                                   ...  \n",
       "379345  trump lied russian interference he attacked an...  \n",
       "379346  thisisshannonvb madisongesiotto he forced star...  \n",
       "379347  gop gophouse gopsenate senatorcollins thomtill...  \n",
       "379348  democrat gavin newsome asked president trump h...  \n",
       "379349  covid19 issue hyped show desperate need medica...  \n",
       "\n",
       "[379350 rows x 6 columns]"
      ]
     },
     "execution_count": 16,
     "metadata": {},
     "output_type": "execute_result"
    }
   ],
   "source": [
    "%%time\n",
    "documents = [_text.split() for _text in textp] "
   ]
  },
  {
   "cell_type": "code",
   "execution_count": 2,
   "metadata": {},
   "outputs": [],
   "source": [
    "dfc = pd.read_csv(\"../data/covid_usa_jan24-mar10_21pm-23pm_onethird_text_clean.csv\", encoding = \"ISO-8859-1\")"
   ]
  },
  {
   "cell_type": "code",
   "execution_count": null,
   "metadata": {},
   "outputs": [],
   "source": [
    "re.sub"
   ]
  },
  {
   "cell_type": "markdown",
   "metadata": {},
   "source": [
    "## Get words frequency"
   ]
  },
  {
   "cell_type": "code",
   "execution_count": 82,
   "metadata": {},
   "outputs": [],
   "source": [
    "## check weird words\n",
    "for i in range(len(textp)):\n",
    "    if textp[i].find(\"covid19virus\")>-1:\n",
    "        print(i)\n",
    "        break"
   ]
  },
  {
   "cell_type": "code",
   "execution_count": 12,
   "metadata": {},
   "outputs": [
    {
     "name": "stdout",
     "output_type": "stream",
     "text": [
      "CPU times: user 991 ms, sys: 0 ns, total: 991 ms\n",
      "Wall time: 989 ms\n"
     ]
    }
   ],
   "source": [
    "%%time\n",
    "documents = [_text.split() for _text in textp] "
   ]
  },
  {
   "cell_type": "code",
   "execution_count": 45,
   "metadata": {},
   "outputs": [
    {
     "name": "stdout",
     "output_type": "stream",
     "text": [
      "CPU times: user 10.1 s, sys: 88 ms, total: 10.2 s\n",
      "Wall time: 10.2 s\n"
     ]
    }
   ],
   "source": [
    "%%time\n",
    "# obtain words frequency\n",
    "# less effecient\n",
    "all_words = []\n",
    "for tweet in range(len(documents)):\n",
    "    for word in documents[tweet]:\n",
    "        all_words.append(word)\n",
    "        \n",
    "c = Counter(all_words)\n",
    "c200 = c.most_common(200)"
   ]
  },
  {
   "cell_type": "code",
   "execution_count": 47,
   "metadata": {},
   "outputs": [
    {
     "name": "stdout",
     "output_type": "stream",
     "text": [
      "CPU times: user 9.14 s, sys: 716 ms, total: 9.85 s\n",
      "Wall time: 9.87 s\n"
     ]
    }
   ],
   "source": [
    "%%time\n",
    "# obtain words frequency\n",
    "words = []\n",
    "for t in textp:\n",
    "    words += t.split()\n",
    "\n",
    "c = Counter(words)\n",
    "c200 = c.most_common(200)"
   ]
  },
  {
   "cell_type": "code",
   "execution_count": 27,
   "metadata": {},
   "outputs": [],
   "source": [
    "with open(\"../results/mar11-may25_common_words200.txt\", \"w\") as fp:\n",
    "    json.dump(c200, fp)"
   ]
  },
  {
   "cell_type": "code",
   "execution_count": 26,
   "metadata": {},
   "outputs": [],
   "source": [
    "with open(\"../results/jan24-mar10_common_words200.txt\") as fp:\n",
    "    c200_1 = json.load(fp)\n",
    "with open(\"../results/mar11-may25_common_words200.txt\") as fp:\n",
    "    c200_2 = json.load(fp)"
   ]
  },
  {
   "cell_type": "code",
   "execution_count": 27,
   "metadata": {},
   "outputs": [],
   "source": [
    "fw1 = pd.DataFrame(data=c200_1)\n",
    "fw2 = pd.DataFrame(data=c200_2)"
   ]
  },
  {
   "cell_type": "code",
   "execution_count": 35,
   "metadata": {},
   "outputs": [],
   "source": [
    "fw = pd.concat([fw1, fw2], axis = 1)\n",
    "fw.columns = [\"jan24-mar10\", \"jan24-mar10_freq\", \"mar11-may25\", \"mar11-may25_freq\"]"
   ]
  },
  {
   "cell_type": "code",
   "execution_count": 38,
   "metadata": {},
   "outputs": [],
   "source": [
    "fw.to_csv(\"../results/words_frequency_top200.csv\", index = False)"
   ]
  },
  {
   "cell_type": "markdown",
   "metadata": {},
   "source": [
    "## Train Word2Vec model"
   ]
  },
  {
   "cell_type": "code",
   "execution_count": 17,
   "metadata": {},
   "outputs": [],
   "source": [
    "w2v_model = gensim.models.word2vec.Word2Vec(size=100, \n",
    "                                            window=7, \n",
    "                                            min_count=10, \n",
    "                                            workers=8)"
   ]
  },
  {
   "cell_type": "code",
   "execution_count": 18,
   "metadata": {},
   "outputs": [
    {
     "name": "stdout",
     "output_type": "stream",
     "text": [
      "Vocab size 19526\n"
     ]
    }
   ],
   "source": [
    "w2v_model.build_vocab(documents)\n",
    "words = w2v_model.wv.vocab.keys()\n",
    "#print(len(w2v_model.wv[\"u\"]))\n",
    "#print(list(w2v_model.wv.vocab.items())[0:5])\n",
    "vocab_size = len(words)\n",
    "print(\"Vocab size\", vocab_size)"
   ]
  },
  {
   "cell_type": "code",
   "execution_count": null,
   "metadata": {},
   "outputs": [],
   "source": [
    "%%time\n",
    "w2v_model.train(documents, total_examples=len(documents), epochs=32)"
   ]
  },
  {
   "cell_type": "code",
   "execution_count": null,
   "metadata": {},
   "outputs": [],
   "source": [
    "w2v_model.save(\"../results/jan24-mar10_w2vmodel_7window.w2v\")\n",
    "#w2v_model.save(\"../results/mar11-may25_w2vmodel_7window.w2v\")"
   ]
  },
  {
   "cell_type": "code",
   "execution_count": 16,
   "metadata": {},
   "outputs": [
    {
     "name": "stderr",
     "output_type": "stream",
     "text": [
      "/home/lingshu/anaconda3/envs/my_env/lib/python3.7/site-packages/ipykernel_launcher.py:1: DeprecationWarning: Call to deprecated `most_similar` (Method will be removed in 4.0.0, use self.wv.most_similar() instead).\n",
      "  \"\"\"Entry point for launching an IPython kernel.\n"
     ]
    },
    {
     "data": {
      "text/plain": [
       "[('virus', 0.7791696190834045),\n",
       " ('it', 0.6020281910896301),\n",
       " ('â', 0.4675745964050293),\n",
       " ('we', 0.45767682790756226),\n",
       " ('unfortunately', 0.4559614062309265),\n",
       " ('unreported', 0.4474548399448395),\n",
       " ('yet', 0.44092321395874023),\n",
       " ('disease', 0.4294845461845398),\n",
       " ('they', 0.40226098895072937),\n",
       " ('thus', 0.395939439535141)]"
      ]
     },
     "execution_count": 16,
     "metadata": {},
     "output_type": "execute_result"
    }
   ],
   "source": [
    "w2v_model.most_similar(\"covid19\")"
   ]
  },
  {
   "cell_type": "code",
   "execution_count": 39,
   "metadata": {},
   "outputs": [
    {
     "data": {
      "text/plain": [
       "list"
      ]
     },
     "execution_count": 39,
     "metadata": {},
     "output_type": "execute_result"
    }
   ],
   "source": [
    "cosine_similarity([[1, 0, -1]], [[-1,-1, 0]])\n",
    "type([[1, 0, -1]])"
   ]
  },
  {
   "cell_type": "code",
   "execution_count": 5,
   "metadata": {},
   "outputs": [],
   "source": [
    "w2v_model1 = gensim.models.Word2Vec.load(\"../results/jan24-mar12_w2vmodel.w2v\")\n",
    "w2v_model2 = gensim.models.Word2Vec.load(\"../results/mar13-may25_w2vmodel.w2v\")"
   ]
  },
  {
   "cell_type": "code",
   "execution_count": 6,
   "metadata": {},
   "outputs": [],
   "source": [
    "def simi_compare(word1, word2):\n",
    "    wd11 = w2v_model1.wv[word1]\n",
    "    wd12 = w2v_model1.wv[word2]\n",
    "    wd21 = w2v_model2.wv[word1]\n",
    "    wd22 = w2v_model2.wv[word2]\n",
    "    print(\"jan24-mar12: \", cosine_similarity([wd11], [wd12]))\n",
    "    print(\"mar13-may25: \", cosine_similarity([wd21], [wd22]))"
   ]
  },
  {
   "cell_type": "code",
   "execution_count": 7,
   "metadata": {},
   "outputs": [
    {
     "name": "stdout",
     "output_type": "stream",
     "text": [
      "jan24-mar12:  [[-0.02310156]]\n",
      "mar13-may25:  [[-0.00771967]]\n"
     ]
    }
   ],
   "source": [
    "# china, cases, death, asian, black, distance, hoax\n",
    "# metaphors, distrust, misinformation\n",
    "\n",
    "\n",
    "simi_compare(\"covid19\", \"mistrust\")"
   ]
  },
  {
   "cell_type": "code",
   "execution_count": 60,
   "metadata": {},
   "outputs": [
    {
     "data": {
      "text/plain": [
       "array([[0.01677959]], dtype=float32)"
      ]
     },
     "execution_count": 60,
     "metadata": {},
     "output_type": "execute_result"
    }
   ],
   "source": [
    "wd1 = w2v_model.wv[\"covid19\"]\n",
    "wd2 = w2v_model.wv[\"china\"]\n",
    "cosine_similarity([wd1], [wd2])"
   ]
  },
  {
   "cell_type": "code",
   "execution_count": 33,
   "metadata": {},
   "outputs": [
    {
     "name": "stdout",
     "output_type": "stream",
     "text": [
      "[('coronavirus', 1), ('covid19', 2), ('trump', 3), ('people', 4), ('health', 5), ('amp', 6), ('us', 7), ('virus', 8), ('china', 9), ('cases', 10)]\n",
      "Total words 101545\n",
      "CPU times: user 9.04 s, sys: 3.64 ms, total: 9.04 s\n",
      "Wall time: 9.04 s\n"
     ]
    }
   ],
   "source": [
    "%%time\n",
    "tokenizer = Tokenizer()\n",
    "tokenizer.fit_on_texts(df.textp)\n",
    "print(list(tokenizer.word_index.items())[0:10])\n",
    "\n",
    "vocab_size = len(tokenizer.word_index) + 1\n",
    "print(\"Total words\", vocab_size)"
   ]
  },
  {
   "cell_type": "code",
   "execution_count": null,
   "metadata": {},
   "outputs": [],
   "source": [
    "embedding_matrix = np.zeros((vocab_size, W2V_SIZE)) #Return a new array of given shape and type, filled with zeros.\n",
    "for word, i in tokenizer.word_index.items():\n",
    "  if word in w2v_model.wv:\n",
    "    embedding_matrix[i] = w2v_model.wv[word]\n",
    "print(embedding_matrix.shape)\n",
    "print(len(embedding_matrix[0]))"
   ]
  }
 ],
 "metadata": {
  "kernelspec": {
   "display_name": "Python 3",
   "language": "python",
   "name": "python3"
  },
  "language_info": {
   "codemirror_mode": {
    "name": "ipython",
    "version": 3
   },
   "file_extension": ".py",
   "mimetype": "text/x-python",
   "name": "python",
   "nbconvert_exporter": "python",
   "pygments_lexer": "ipython3",
   "version": "3.7.5"
  }
 },
 "nbformat": 4,
 "nbformat_minor": 2
}
