{
 "cells": [
  {
   "cell_type": "code",
   "execution_count": 1,
   "id": "f28e1b93",
   "metadata": {},
   "outputs": [
    {
     "name": "stderr",
     "output_type": "stream",
     "text": [
      "Using TensorFlow backend.\n"
     ]
    }
   ],
   "source": [
    "# Word2vec\n",
    "import gensim\n",
    "# nltk\n",
    "import nltk\n",
    "from nltk.corpus import stopwords\n",
    "from  nltk.stem import SnowballStemmer\n",
    "from keras.preprocessing.text import Tokenizer\n",
    "from sklearn.metrics.pairwise import cosine_similarity\n",
    "from collections import Counter\n",
    "\n",
    "import numpy as np\n",
    "import pandas as pd\n",
    "import re\n",
    "import os\n",
    "import string\n",
    "import json"
   ]
  },
  {
   "cell_type": "code",
   "execution_count": 26,
   "id": "20d44951",
   "metadata": {},
   "outputs": [
    {
     "data": {
      "text/plain": [
       "139"
      ]
     },
     "execution_count": 26,
     "metadata": {},
     "output_type": "execute_result"
    }
   ],
   "source": [
    "## read metaphor and misinformation words pairs\n",
    "with open('../data/all_keywords_pairs.json') as f:\n",
    "  kwp = json.load(f)\n",
    "\n",
    "## get unique key words\n",
    "kw = []\n",
    "for p in kwp:\n",
    "    for w in p:\n",
    "        kw.append(w)\n",
    "kw = list(set(kw))\n",
    "len(kw)"
   ]
  },
  {
   "cell_type": "code",
   "execution_count": 22,
   "id": "3f061a53",
   "metadata": {},
   "outputs": [],
   "source": [
    "all_pairs = []\n",
    "for i in range(len(kw)):\n",
    "    for j in range(len(kw)):\n",
    "        all_pairs.append([kw[i], kw[j]])"
   ]
  },
  {
   "cell_type": "code",
   "execution_count": 23,
   "id": "ff16740a",
   "metadata": {},
   "outputs": [
    {
     "data": {
      "text/plain": [
       "19321"
      ]
     },
     "execution_count": 23,
     "metadata": {},
     "output_type": "execute_result"
    }
   ],
   "source": [
    "len(all_pairs)"
   ]
  },
  {
   "cell_type": "code",
   "execution_count": 17,
   "id": "597ae25b",
   "metadata": {},
   "outputs": [],
   "source": [
    "def simi_compare(word1, word2, method = \"cosine\", negative = False):\n",
    "    if word1 in w2v_model.wv and word2 in w2v_model.wv:\n",
    "        wv1 = w2v_model.wv[word1]\n",
    "        wv2 = w2v_model.wv[word2]\n",
    "        if method == \"cosine\":\n",
    "            sm = cosine_similarity([wv1], [wv2])\n",
    "            if negative:           \n",
    "                sm = float(sm[0])\n",
    "            else:\n",
    "                sm = float(sm[0])\n",
    "                sm = 1-((1-sm)/2)\n",
    "        if method == \"euclidean\":\n",
    "            sm = np.linalg.norm(wv1-wv2)\n",
    "    else: sm = 9\n",
    "    return(sm)"
   ]
  },
  {
   "cell_type": "code",
   "execution_count": 20,
   "id": "4e5022c8",
   "metadata": {},
   "outputs": [
    {
     "data": {
      "text/plain": [
       "['covid_usa_week01_2020-01-24.w2v',\n",
       " 'covid_usa_week02_2020-01-31.w2v',\n",
       " 'covid_usa_week03_2020-02-07.w2v',\n",
       " 'covid_usa_week04_2020-02-14.w2v',\n",
       " 'covid_usa_week05_2020-02-21.w2v',\n",
       " 'covid_usa_week06_2020-02-28.w2v',\n",
       " 'covid_usa_week07_2020-03-06.w2v',\n",
       " 'covid_usa_week08_2020-03-13.w2v',\n",
       " 'covid_usa_week09_2020-03-20.w2v',\n",
       " 'covid_usa_week10_2020-03-27.w2v',\n",
       " 'covid_usa_week11_2020-04-03.w2v',\n",
       " 'covid_usa_week12_2020-04-10.w2v',\n",
       " 'covid_usa_week13_2020-04-17.w2v',\n",
       " 'covid_usa_week14_2020-04-24.w2v',\n",
       " 'covid_usa_week15_2020-05-01.w2v',\n",
       " 'covid_usa_week16_2020-05-08.w2v',\n",
       " 'covid_usa_week17_2020-05-15.w2v',\n",
       " 'covid_usa_week18_2020-05-22.w2v',\n",
       " 'covid_usa_week19_2020-05-29.w2v',\n",
       " 'covid_usa_week20_2020-06-05.w2v',\n",
       " 'covid_usa_week21_2020-06-12.w2v',\n",
       " 'covid_usa_week22_2020-06-19.w2v',\n",
       " 'covid_usa_week23_2020-06-26.w2v',\n",
       " 'covid_usa_week24_2020-07-03.w2v',\n",
       " 'covid_usa_week25_2020-07-10.w2v',\n",
       " 'covid_usa_week26_2020-07-17.w2v',\n",
       " 'covid_usa_week27_2020-07-24.w2v',\n",
       " 'covid_usa_week28_2020-07-31.w2v',\n",
       " 'covid_usa_week29_2020-08-07.w2v',\n",
       " 'covid_usa_week30_2020-08-14.w2v',\n",
       " 'covid_usa_week31_2020-08-21.w2v',\n",
       " 'covid_usa_week32_2020-08-28.w2v',\n",
       " 'covid_usa_week33_2020-09-04.w2v',\n",
       " 'covid_usa_week34_2020-09-11.w2v',\n",
       " 'covid_usa_week35_2020-09-18.w2v',\n",
       " 'covid_usa_week36_2020-09-25.w2v',\n",
       " 'covid_usa_week37_2020-10-02.w2v',\n",
       " 'covid_usa_week38_2020-10-09.w2v',\n",
       " 'covid_usa_week39_2020-10-16.w2v',\n",
       " 'covid_usa_week40_2020-10-23.w2v',\n",
       " 'covid_usa_week41_2020-10-30.w2v',\n",
       " 'covid_usa_week42_2020-11-06.w2v',\n",
       " 'covid_usa_week43_2020-11-13.w2v',\n",
       " 'covid_usa_week44_2020-11-20.w2v',\n",
       " 'covid_usa_week45_2020-11-27.w2v',\n",
       " 'covid_usa_week46_2020-12-04.w2v',\n",
       " 'covid_usa_week47_2020-12-11.w2v',\n",
       " 'covid_usa_week48_2020-12-18.w2v',\n",
       " 'covid_usa_week49_2020-12-25.w2v',\n",
       " 'covid_usa_week50_2021-01-01.w2v',\n",
       " 'covid_usa_week51_2021-01-08.w2v',\n",
       " 'covid_usa_week52_2021-01-15.w2v']"
      ]
     },
     "execution_count": 20,
     "metadata": {},
     "output_type": "execute_result"
    }
   ],
   "source": [
    "models = os.listdir('../embedding/Word2Vec/usa')\n",
    "models.sort()\n",
    "models"
   ]
  },
  {
   "cell_type": "code",
   "execution_count": 24,
   "id": "ad0c8d92",
   "metadata": {},
   "outputs": [
    {
     "name": "stdout",
     "output_type": "stream",
     "text": [
      "covid_usa_week01_2020-01-24.w2v\n",
      "covid_usa_week02_2020-01-31.w2v\n",
      "covid_usa_week03_2020-02-07.w2v\n",
      "covid_usa_week04_2020-02-14.w2v\n",
      "covid_usa_week05_2020-02-21.w2v\n",
      "covid_usa_week06_2020-02-28.w2v\n",
      "covid_usa_week07_2020-03-06.w2v\n",
      "covid_usa_week08_2020-03-13.w2v\n",
      "covid_usa_week09_2020-03-20.w2v\n",
      "covid_usa_week10_2020-03-27.w2v\n",
      "covid_usa_week11_2020-04-03.w2v\n",
      "covid_usa_week12_2020-04-10.w2v\n",
      "covid_usa_week13_2020-04-17.w2v\n",
      "covid_usa_week14_2020-04-24.w2v\n",
      "covid_usa_week15_2020-05-01.w2v\n",
      "covid_usa_week16_2020-05-08.w2v\n",
      "covid_usa_week17_2020-05-15.w2v\n",
      "covid_usa_week18_2020-05-22.w2v\n",
      "covid_usa_week19_2020-05-29.w2v\n",
      "covid_usa_week20_2020-06-05.w2v\n",
      "covid_usa_week21_2020-06-12.w2v\n",
      "covid_usa_week22_2020-06-19.w2v\n",
      "covid_usa_week23_2020-06-26.w2v\n",
      "covid_usa_week24_2020-07-03.w2v\n",
      "covid_usa_week25_2020-07-10.w2v\n",
      "covid_usa_week26_2020-07-17.w2v\n",
      "covid_usa_week27_2020-07-24.w2v\n",
      "covid_usa_week28_2020-07-31.w2v\n",
      "covid_usa_week29_2020-08-07.w2v\n",
      "covid_usa_week30_2020-08-14.w2v\n",
      "covid_usa_week31_2020-08-21.w2v\n",
      "covid_usa_week32_2020-08-28.w2v\n",
      "covid_usa_week33_2020-09-04.w2v\n",
      "covid_usa_week34_2020-09-11.w2v\n",
      "covid_usa_week35_2020-09-18.w2v\n",
      "covid_usa_week36_2020-09-25.w2v\n",
      "covid_usa_week37_2020-10-02.w2v\n",
      "covid_usa_week38_2020-10-09.w2v\n",
      "covid_usa_week39_2020-10-16.w2v\n",
      "covid_usa_week40_2020-10-23.w2v\n",
      "covid_usa_week41_2020-10-30.w2v\n",
      "covid_usa_week42_2020-11-06.w2v\n",
      "covid_usa_week43_2020-11-13.w2v\n",
      "covid_usa_week44_2020-11-20.w2v\n",
      "covid_usa_week45_2020-11-27.w2v\n",
      "covid_usa_week46_2020-12-04.w2v\n",
      "covid_usa_week47_2020-12-11.w2v\n",
      "covid_usa_week48_2020-12-18.w2v\n",
      "covid_usa_week49_2020-12-25.w2v\n",
      "covid_usa_week50_2021-01-01.w2v\n",
      "covid_usa_week51_2021-01-08.w2v\n",
      "covid_usa_week52_2021-01-15.w2v\n"
     ]
    }
   ],
   "source": [
    "results = []\n",
    "for i in range(len(models)):\n",
    "    print(models[i])\n",
    "    w2v_model = gensim.models.Word2Vec.load(\"../embedding/Word2Vec/usa/\"+models[i])\n",
    "    sm = []\n",
    "    for j in range(len(all_pairs)):\n",
    "        #print(all_pairs[j])\n",
    "        sm.append(simi_compare(all_pairs[j][0], all_pairs[j][1], method = \"cosine\"))\n",
    "        \n",
    "    results.append(sm) "
   ]
  },
  {
   "cell_type": "code",
   "execution_count": 25,
   "id": "3831bfa3",
   "metadata": {},
   "outputs": [],
   "source": [
    "rs_df = pd.DataFrame(results)\n",
    "pair_names = pd.DataFrame(all_pairs)\n",
    "rs_df2 = pd.concat([pair_names, rs_df.T], axis=1)\n",
    "rs_df2.to_csv(\"../results/simi_usa01-52_word2vec_non-neg_all_connections.csv\", index=False)"
   ]
  },
  {
   "cell_type": "code",
   "execution_count": null,
   "id": "371aa485",
   "metadata": {},
   "outputs": [],
   "source": []
  }
 ],
 "metadata": {
  "kernelspec": {
   "display_name": "Python 3",
   "language": "python",
   "name": "python3"
  },
  "language_info": {
   "codemirror_mode": {
    "name": "ipython",
    "version": 3
   },
   "file_extension": ".py",
   "mimetype": "text/x-python",
   "name": "python",
   "nbconvert_exporter": "python",
   "pygments_lexer": "ipython3",
   "version": "3.7.5"
  }
 },
 "nbformat": 4,
 "nbformat_minor": 5
}
