{
 "cells": [
  {
   "cell_type": "code",
   "execution_count": 2,
   "metadata": {},
   "outputs": [],
   "source": [
    "# Word2vec\n",
    "import gensim\n",
    "# nltk\n",
    "import nltk\n",
    "from nltk.corpus import stopwords\n",
    "from  nltk.stem import SnowballStemmer\n",
    "from keras.preprocessing.text import Tokenizer\n",
    "from sklearn.metrics.pairwise import cosine_similarity\n",
    "from collections import Counter\n",
    "\n",
    "import numpy as np\n",
    "import pandas as pd\n",
    "import re\n",
    "import os\n",
    "import string\n",
    "import json\n",
    "stemmer = SnowballStemmer(\"english\")"
   ]
  },
  {
   "cell_type": "code",
   "execution_count": 2,
   "metadata": {},
   "outputs": [],
   "source": [
    "# load metaphor words 1\n",
    "my_file = open(\"../data/keywords1.txt\", \"r\")\n",
    "content = my_file.read()\n",
    "content = re.sub(r'\\n+|\\s+', '', content.lower())\n",
    "kw1 = content.split(\",\")\n",
    "my_file.close()"
   ]
  },
  {
   "cell_type": "code",
   "execution_count": 3,
   "metadata": {},
   "outputs": [],
   "source": [
    "kw1_stem = []\n",
    "for tk in kw1:\n",
    "    kw1_stem.append(stemmer.stem(tk))"
   ]
  },
  {
   "cell_type": "code",
   "execution_count": 4,
   "metadata": {},
   "outputs": [],
   "source": [
    "kw1_stem = list(set(kw1_stem))"
   ]
  },
  {
   "cell_type": "code",
   "execution_count": 5,
   "metadata": {},
   "outputs": [],
   "source": [
    "kw2 = \"unreported, 5G, radiation, electromagnetic, Chip, microchip, microchipping, implant, Gates, Hoax, Overblown, flu, Bleach, chlorine, Antibiotics\"\n",
    "kw2 = kw2.lower().split(\", \")\n",
    "kw2\n",
    "kw2_stem = []\n",
    "for tk in kw2:\n",
    "    kw2_stem.append(stemmer.stem(tk))\n",
    "kw2_stem = list(set(kw2_stem))"
   ]
  },
  {
   "cell_type": "code",
   "execution_count": 6,
   "metadata": {},
   "outputs": [],
   "source": [
    "kw_stem = kw1_stem + kw2_stem\n",
    "\n",
    "kw_stem_pairs = []\n",
    "for i in range(len(kw_stem)):\n",
    "    kw_stem_pairs.append([kw_stem[i], \"covid19\"])"
   ]
  },
  {
   "cell_type": "code",
   "execution_count": 47,
   "metadata": {},
   "outputs": [
    {
     "data": {
      "text/plain": [
       "[['tactic', 'covid19'],\n",
       " ['violenc', 'covid19'],\n",
       " ['arsenal', 'covid19'],\n",
       " ['truce', 'covid19'],\n",
       " ['conquest', 'covid19'],\n",
       " ['weapon', 'covid19'],\n",
       " ['rebellion', 'covid19'],\n",
       " ['front', 'covid19'],\n",
       " ['liber', 'covid19'],\n",
       " ['kill', 'covid19'],\n",
       " ['campaign', 'covid19'],\n",
       " ['conflict', 'covid19'],\n",
       " ['hostil', 'covid19'],\n",
       " ['sieg', 'covid19'],\n",
       " ['frontlin', 'covid19'],\n",
       " ['resist', 'covid19'],\n",
       " ['battleplan', 'covid19'],\n",
       " ['homefront', 'covid19'],\n",
       " ['upris', 'covid19'],\n",
       " ['threat', 'covid19'],\n",
       " ['win', 'covid19'],\n",
       " ['bombard', 'covid19'],\n",
       " ['unitedfront', 'covid19'],\n",
       " ['vanquish', 'covid19'],\n",
       " ['flank', 'covid19'],\n",
       " ['artilleri', 'covid19'],\n",
       " ['destruct', 'covid19'],\n",
       " ['escal', 'covid19'],\n",
       " ['treati', 'covid19'],\n",
       " ['crusad', 'covid19'],\n",
       " ['command', 'covid19'],\n",
       " ['death', 'covid19'],\n",
       " ['fought', 'covid19'],\n",
       " ['battleground', 'covid19'],\n",
       " ['peac', 'covid19'],\n",
       " ['retreat', 'covid19'],\n",
       " ['wartim', 'covid19'],\n",
       " ['fire', 'covid19'],\n",
       " ['battlefront', 'covid19'],\n",
       " ['struggl', 'covid19'],\n",
       " ['fighter', 'covid19'],\n",
       " ['fortifi', 'covid19'],\n",
       " ['gun', 'covid19'],\n",
       " ['holocaust', 'covid19'],\n",
       " ['tank', 'covid19'],\n",
       " ['insurg', 'covid19'],\n",
       " ['allianc', 'covid19'],\n",
       " ['defens', 'covid19'],\n",
       " ['warzon', 'covid19'],\n",
       " ['warrior', 'covid19'],\n",
       " ['alli', 'covid19'],\n",
       " ['beat', 'covid19'],\n",
       " ['minefield', 'covid19'],\n",
       " ['bloodsh', 'covid19'],\n",
       " ['riot', 'covid19'],\n",
       " ['battl', 'covid19'],\n",
       " ['gunfight', 'covid19'],\n",
       " ['soldier', 'covid19'],\n",
       " ['fight', 'covid19'],\n",
       " ['grenad', 'covid19'],\n",
       " ['blitzkrieg', 'covid19'],\n",
       " ['attack', 'covid19'],\n",
       " ['arm', 'covid19'],\n",
       " ['homeland', 'covid19'],\n",
       " ['warfar', 'covid19'],\n",
       " ['bomb', 'covid19'],\n",
       " ['raider', 'covid19'],\n",
       " ['target', 'covid19'],\n",
       " ['won', 'covid19'],\n",
       " ['crossfir', 'covid19'],\n",
       " ['war', 'covid19'],\n",
       " ['troop', 'covid19'],\n",
       " ['ammunit', 'covid19'],\n",
       " ['foe', 'covid19'],\n",
       " ['conquer', 'covid19'],\n",
       " ['strategi', 'covid19'],\n",
       " ['enemi', 'covid19'],\n",
       " ['guerrilla', 'covid19'],\n",
       " ['victori', 'covid19'],\n",
       " ['disarma', 'covid19'],\n",
       " ['militari', 'covid19'],\n",
       " ['ceasefir', 'covid19'],\n",
       " ['defeat', 'covid19'],\n",
       " ['captur', 'covid19'],\n",
       " ['defend', 'covid19'],\n",
       " ['guard', 'covid19'],\n",
       " ['shoot', 'covid19'],\n",
       " ['besieg', 'covid19'],\n",
       " ['salvo', 'covid19'],\n",
       " ['armament', 'covid19'],\n",
       " ['invad', 'covid19'],\n",
       " ['peacetim', 'covid19'],\n",
       " ['killer', 'covid19'],\n",
       " ['armor', 'covid19'],\n",
       " ['battlefield', 'covid19'],\n",
       " ['die', 'covid19'],\n",
       " ['armi', 'covid19'],\n",
       " ['combat', 'covid19'],\n",
       " ['invas', 'covid19'],\n",
       " ['trench', 'covid19'],\n",
       " ['casualti', 'covid19'],\n",
       " ['unreport', 'covid19'],\n",
       " ['bleach', 'covid19'],\n",
       " ['5g', 'covid19'],\n",
       " ['microchip', 'covid19'],\n",
       " ['hoax', 'covid19'],\n",
       " ['flu', 'covid19'],\n",
       " ['electromagnet', 'covid19'],\n",
       " ['implant', 'covid19'],\n",
       " ['overblown', 'covid19'],\n",
       " ['chlorin', 'covid19'],\n",
       " ['antibiot', 'covid19'],\n",
       " ['radiat', 'covid19'],\n",
       " ['gate', 'covid19'],\n",
       " ['chip', 'covid19']]"
      ]
     },
     "execution_count": 47,
     "metadata": {},
     "output_type": "execute_result"
    }
   ],
   "source": [
    "kw_stem_pairs"
   ]
  },
  {
   "cell_type": "code",
   "execution_count": 46,
   "metadata": {},
   "outputs": [
    {
     "data": {
      "text/plain": [
       "'microchip'"
      ]
     },
     "execution_count": 46,
     "metadata": {},
     "output_type": "execute_result"
    }
   ],
   "source": [
    "stemmer.stem(\"microchip\")"
   ]
  },
  {
   "cell_type": "code",
   "execution_count": 7,
   "metadata": {},
   "outputs": [],
   "source": [
    "pairs1 = [[\"mandatori\", \"vaccin\"],[\"overcount\", \"death\"], [\"dioxid\", \"mask\"], [\"lab\", \"china\"]]"
   ]
  },
  {
   "cell_type": "code",
   "execution_count": 8,
   "metadata": {},
   "outputs": [],
   "source": [
    "race = [\"black\", \"africa\", \"african\", \"melanin\", \"poc\"]\n",
    "racemis = [\"genocide\", \"immune\", \"immunity\", \"inoculated\", \"depopulate\", \"depopulation\", \"vitamin\", \"vit\", \"zinc\", \"supplements\", \"garlic\", \"water\", \"colloid\", \"vaccine\", \"vaccinate\", \"vaccination\"]\n",
    "\n",
    "race_stem = []\n",
    "for tk in race:\n",
    "    race_stem.append(stemmer.stem(tk))\n",
    "race_stem = list(set(race_stem))\n",
    "\n",
    "racemis_stem = []\n",
    "for tk in racemis:\n",
    "    racemis_stem.append(stemmer.stem(tk))\n",
    "racemis_stem = list(set(racemis_stem))\n",
    "\n",
    "pairs = []\n",
    "for i in range(len(race_stem)):\n",
    "    for j in range(len(racemis_stem)):\n",
    "        pairs.append([race_stem[i], racemis_stem[j]])\n",
    "pairs = pairs + pairs1"
   ]
  },
  {
   "cell_type": "code",
   "execution_count": 9,
   "metadata": {},
   "outputs": [],
   "source": [
    "all_pairs = kw_stem_pairs+pairs"
   ]
  },
  {
   "cell_type": "code",
   "execution_count": 16,
   "metadata": {},
   "outputs": [],
   "source": [
    "## write all_pairs to a json file\n",
    "import json\n",
    "\n",
    "with open('../data/all_keywords_pairs.json', 'w') as outfile:\n",
    "    json.dump(all_pairs, outfile)"
   ]
  },
  {
   "cell_type": "code",
   "execution_count": 3,
   "metadata": {},
   "outputs": [],
   "source": [
    "## load all_pairs\n",
    "with open('../data/all_keywords_pairs.json', 'r') as json_file:\n",
    "    all_pairs = json.load(json_file)"
   ]
  },
  {
   "cell_type": "code",
   "execution_count": 5,
   "metadata": {},
   "outputs": [],
   "source": [
    "def simi_compare(word1, word2, method = \"cosine\", negative = False):\n",
    "    if word1 in w2v_model.wv and word2 in w2v_model.wv:\n",
    "        wv1 = w2v_model.wv[word1]\n",
    "        wv2 = w2v_model.wv[word2]\n",
    "        if method == \"cosine\":\n",
    "            sm = cosine_similarity([wv1], [wv2])\n",
    "            if negative:           \n",
    "                sm = float(sm[0])\n",
    "            else:\n",
    "                sm = float(sm[0])\n",
    "                sm = 1-((1-sm)/2)\n",
    "        if method == \"euclidean\":\n",
    "            sm = np.linalg.norm(wv1-wv2)\n",
    "    else: sm = 9\n",
    "    return(sm)"
   ]
  },
  {
   "cell_type": "code",
   "execution_count": 6,
   "metadata": {},
   "outputs": [],
   "source": [
    "models = os.listdir('../embedding/Word2Vec/russia')"
   ]
  },
  {
   "cell_type": "code",
   "execution_count": 7,
   "metadata": {},
   "outputs": [
    {
     "data": {
      "text/plain": [
       "['covid_russia_week01_2020-01-24.w2v',\n",
       " 'covid_russia_week02_2020-01-31.w2v',\n",
       " 'covid_russia_week03_2020-02-07.w2v',\n",
       " 'covid_russia_week04_2020-02-14.w2v',\n",
       " 'covid_russia_week05_2020-02-21.w2v',\n",
       " 'covid_russia_week06_2020-02-28.w2v',\n",
       " 'covid_russia_week07_2020-03-06.w2v',\n",
       " 'covid_russia_week08_2020-03-13.w2v',\n",
       " 'covid_russia_week09_2020-03-20.w2v',\n",
       " 'covid_russia_week10_2020-03-27.w2v',\n",
       " 'covid_russia_week11_2020-04-03.w2v',\n",
       " 'covid_russia_week12_2020-04-10.w2v',\n",
       " 'covid_russia_week13_2020-04-17.w2v',\n",
       " 'covid_russia_week14_2020-04-24.w2v',\n",
       " 'covid_russia_week15_2020-05-01.w2v',\n",
       " 'covid_russia_week16_2020-05-08.w2v',\n",
       " 'covid_russia_week17_2020-05-15.w2v',\n",
       " 'covid_russia_week18_2020-05-22.w2v',\n",
       " 'covid_russia_week19_2020-05-29.w2v',\n",
       " 'covid_russia_week20_2020-06-05.w2v',\n",
       " 'covid_russia_week21_2020-06-12.w2v',\n",
       " 'covid_russia_week22_2020-06-19.w2v',\n",
       " 'covid_russia_week23_2020-06-26.w2v',\n",
       " 'covid_russia_week24_2020-07-03.w2v',\n",
       " 'covid_russia_week25_2020-07-10.w2v',\n",
       " 'covid_russia_week26_2020-07-17.w2v',\n",
       " 'covid_russia_week27_2020-07-24.w2v',\n",
       " 'covid_russia_week28_2020-07-31.w2v',\n",
       " 'covid_russia_week29_2020-08-07.w2v',\n",
       " 'covid_russia_week30_2020-08-14.w2v',\n",
       " 'covid_russia_week31_2020-08-21.w2v',\n",
       " 'covid_russia_week32_2020-08-28.w2v',\n",
       " 'covid_russia_week33_2020-09-04.w2v',\n",
       " 'covid_russia_week34_2020-09-11.w2v',\n",
       " 'covid_russia_week35_2020-09-18.w2v',\n",
       " 'covid_russia_week36_2020-09-25.w2v',\n",
       " 'covid_russia_week37_2020-10-02.w2v',\n",
       " 'covid_russia_week38_2020-10-09.w2v',\n",
       " 'covid_russia_week39_2020-10-16.w2v',\n",
       " 'covid_russia_week40_2020-10-23.w2v',\n",
       " 'covid_russia_week41_2020-10-30.w2v',\n",
       " 'covid_russia_week42_2020-11-06.w2v',\n",
       " 'covid_russia_week43_2020-11-13.w2v',\n",
       " 'covid_russia_week44_2020-11-20.w2v',\n",
       " 'covid_russia_week45_2020-11-27.w2v',\n",
       " 'covid_russia_week46_2020-12-04.w2v',\n",
       " 'covid_russia_week47_2020-12-11.w2v',\n",
       " 'covid_russia_week48_2020-12-18.w2v',\n",
       " 'covid_russia_week49_2020-12-25.w2v',\n",
       " 'covid_russia_week50_2021-01-01.w2v',\n",
       " 'covid_russia_week51_2021-01-08.w2v',\n",
       " 'covid_russia_week52_2021-01-15.w2v']"
      ]
     },
     "execution_count": 7,
     "metadata": {},
     "output_type": "execute_result"
    }
   ],
   "source": [
    "models.sort()\n",
    "models"
   ]
  },
  {
   "cell_type": "code",
   "execution_count": 8,
   "metadata": {},
   "outputs": [
    {
     "name": "stdout",
     "output_type": "stream",
     "text": [
      "covid_russia_week01_2020-01-24.w2v\n"
     ]
    },
    {
     "ename": "FileNotFoundError",
     "evalue": "[Errno 2] No such file or directory: '../results/russia/covid_russia_week01_2020-01-24.w2v'",
     "output_type": "error",
     "traceback": [
      "\u001b[0;31m---------------------------------------------------------------------------\u001b[0m",
      "\u001b[0;31mFileNotFoundError\u001b[0m                         Traceback (most recent call last)",
      "\u001b[0;32m<ipython-input-8-67e628c04df4>\u001b[0m in \u001b[0;36m<module>\u001b[0;34m\u001b[0m\n\u001b[1;32m      2\u001b[0m \u001b[0;32mfor\u001b[0m \u001b[0mi\u001b[0m \u001b[0;32min\u001b[0m \u001b[0mrange\u001b[0m\u001b[0;34m(\u001b[0m\u001b[0mlen\u001b[0m\u001b[0;34m(\u001b[0m\u001b[0mmodels\u001b[0m\u001b[0;34m)\u001b[0m\u001b[0;34m)\u001b[0m\u001b[0;34m:\u001b[0m\u001b[0;34m\u001b[0m\u001b[0;34m\u001b[0m\u001b[0m\n\u001b[1;32m      3\u001b[0m     \u001b[0mprint\u001b[0m\u001b[0;34m(\u001b[0m\u001b[0mmodels\u001b[0m\u001b[0;34m[\u001b[0m\u001b[0mi\u001b[0m\u001b[0;34m]\u001b[0m\u001b[0;34m)\u001b[0m\u001b[0;34m\u001b[0m\u001b[0;34m\u001b[0m\u001b[0m\n\u001b[0;32m----> 4\u001b[0;31m     \u001b[0mw2v_model\u001b[0m \u001b[0;34m=\u001b[0m \u001b[0mgensim\u001b[0m\u001b[0;34m.\u001b[0m\u001b[0mmodels\u001b[0m\u001b[0;34m.\u001b[0m\u001b[0mWord2Vec\u001b[0m\u001b[0;34m.\u001b[0m\u001b[0mload\u001b[0m\u001b[0;34m(\u001b[0m\u001b[0;34m\"../results/russia/\"\u001b[0m\u001b[0;34m+\u001b[0m\u001b[0mmodels\u001b[0m\u001b[0;34m[\u001b[0m\u001b[0mi\u001b[0m\u001b[0;34m]\u001b[0m\u001b[0;34m)\u001b[0m\u001b[0;34m\u001b[0m\u001b[0;34m\u001b[0m\u001b[0m\n\u001b[0m\u001b[1;32m      5\u001b[0m     \u001b[0msm\u001b[0m \u001b[0;34m=\u001b[0m \u001b[0;34m[\u001b[0m\u001b[0;34m]\u001b[0m\u001b[0;34m\u001b[0m\u001b[0;34m\u001b[0m\u001b[0m\n\u001b[1;32m      6\u001b[0m     \u001b[0;32mfor\u001b[0m \u001b[0mj\u001b[0m \u001b[0;32min\u001b[0m \u001b[0mrange\u001b[0m\u001b[0;34m(\u001b[0m\u001b[0mlen\u001b[0m\u001b[0;34m(\u001b[0m\u001b[0mall_pairs\u001b[0m\u001b[0;34m)\u001b[0m\u001b[0;34m)\u001b[0m\u001b[0;34m:\u001b[0m\u001b[0;34m\u001b[0m\u001b[0;34m\u001b[0m\u001b[0m\n",
      "\u001b[0;32m~/anaconda3/envs/my_env/lib/python3.7/site-packages/gensim/models/word2vec.py\u001b[0m in \u001b[0;36mload\u001b[0;34m(cls, *args, **kwargs)\u001b[0m\n\u001b[1;32m   1328\u001b[0m         \"\"\"\n\u001b[1;32m   1329\u001b[0m         \u001b[0;32mtry\u001b[0m\u001b[0;34m:\u001b[0m\u001b[0;34m\u001b[0m\u001b[0;34m\u001b[0m\u001b[0m\n\u001b[0;32m-> 1330\u001b[0;31m             \u001b[0mmodel\u001b[0m \u001b[0;34m=\u001b[0m \u001b[0msuper\u001b[0m\u001b[0;34m(\u001b[0m\u001b[0mWord2Vec\u001b[0m\u001b[0;34m,\u001b[0m \u001b[0mcls\u001b[0m\u001b[0;34m)\u001b[0m\u001b[0;34m.\u001b[0m\u001b[0mload\u001b[0m\u001b[0;34m(\u001b[0m\u001b[0;34m*\u001b[0m\u001b[0margs\u001b[0m\u001b[0;34m,\u001b[0m \u001b[0;34m**\u001b[0m\u001b[0mkwargs\u001b[0m\u001b[0;34m)\u001b[0m\u001b[0;34m\u001b[0m\u001b[0;34m\u001b[0m\u001b[0m\n\u001b[0m\u001b[1;32m   1331\u001b[0m \u001b[0;34m\u001b[0m\u001b[0m\n\u001b[1;32m   1332\u001b[0m             \u001b[0;31m# for backward compatibility for `max_final_vocab` feature\u001b[0m\u001b[0;34m\u001b[0m\u001b[0;34m\u001b[0m\u001b[0;34m\u001b[0m\u001b[0m\n",
      "\u001b[0;32m~/anaconda3/envs/my_env/lib/python3.7/site-packages/gensim/models/base_any2vec.py\u001b[0m in \u001b[0;36mload\u001b[0;34m(cls, *args, **kwargs)\u001b[0m\n\u001b[1;32m   1242\u001b[0m \u001b[0;34m\u001b[0m\u001b[0m\n\u001b[1;32m   1243\u001b[0m         \"\"\"\n\u001b[0;32m-> 1244\u001b[0;31m         \u001b[0mmodel\u001b[0m \u001b[0;34m=\u001b[0m \u001b[0msuper\u001b[0m\u001b[0;34m(\u001b[0m\u001b[0mBaseWordEmbeddingsModel\u001b[0m\u001b[0;34m,\u001b[0m \u001b[0mcls\u001b[0m\u001b[0;34m)\u001b[0m\u001b[0;34m.\u001b[0m\u001b[0mload\u001b[0m\u001b[0;34m(\u001b[0m\u001b[0;34m*\u001b[0m\u001b[0margs\u001b[0m\u001b[0;34m,\u001b[0m \u001b[0;34m**\u001b[0m\u001b[0mkwargs\u001b[0m\u001b[0;34m)\u001b[0m\u001b[0;34m\u001b[0m\u001b[0;34m\u001b[0m\u001b[0m\n\u001b[0m\u001b[1;32m   1245\u001b[0m         \u001b[0;32mif\u001b[0m \u001b[0;32mnot\u001b[0m \u001b[0mhasattr\u001b[0m\u001b[0;34m(\u001b[0m\u001b[0mmodel\u001b[0m\u001b[0;34m,\u001b[0m \u001b[0;34m'ns_exponent'\u001b[0m\u001b[0;34m)\u001b[0m\u001b[0;34m:\u001b[0m\u001b[0;34m\u001b[0m\u001b[0;34m\u001b[0m\u001b[0m\n\u001b[1;32m   1246\u001b[0m             \u001b[0mmodel\u001b[0m\u001b[0;34m.\u001b[0m\u001b[0mns_exponent\u001b[0m \u001b[0;34m=\u001b[0m \u001b[0;36m0.75\u001b[0m\u001b[0;34m\u001b[0m\u001b[0;34m\u001b[0m\u001b[0m\n",
      "\u001b[0;32m~/anaconda3/envs/my_env/lib/python3.7/site-packages/gensim/models/base_any2vec.py\u001b[0m in \u001b[0;36mload\u001b[0;34m(cls, fname_or_handle, **kwargs)\u001b[0m\n\u001b[1;32m    601\u001b[0m \u001b[0;34m\u001b[0m\u001b[0m\n\u001b[1;32m    602\u001b[0m         \"\"\"\n\u001b[0;32m--> 603\u001b[0;31m         \u001b[0;32mreturn\u001b[0m \u001b[0msuper\u001b[0m\u001b[0;34m(\u001b[0m\u001b[0mBaseAny2VecModel\u001b[0m\u001b[0;34m,\u001b[0m \u001b[0mcls\u001b[0m\u001b[0;34m)\u001b[0m\u001b[0;34m.\u001b[0m\u001b[0mload\u001b[0m\u001b[0;34m(\u001b[0m\u001b[0mfname_or_handle\u001b[0m\u001b[0;34m,\u001b[0m \u001b[0;34m**\u001b[0m\u001b[0mkwargs\u001b[0m\u001b[0;34m)\u001b[0m\u001b[0;34m\u001b[0m\u001b[0;34m\u001b[0m\u001b[0m\n\u001b[0m\u001b[1;32m    604\u001b[0m \u001b[0;34m\u001b[0m\u001b[0m\n\u001b[1;32m    605\u001b[0m     \u001b[0;32mdef\u001b[0m \u001b[0msave\u001b[0m\u001b[0;34m(\u001b[0m\u001b[0mself\u001b[0m\u001b[0;34m,\u001b[0m \u001b[0mfname_or_handle\u001b[0m\u001b[0;34m,\u001b[0m \u001b[0;34m**\u001b[0m\u001b[0mkwargs\u001b[0m\u001b[0;34m)\u001b[0m\u001b[0;34m:\u001b[0m\u001b[0;34m\u001b[0m\u001b[0;34m\u001b[0m\u001b[0m\n",
      "\u001b[0;32m~/anaconda3/envs/my_env/lib/python3.7/site-packages/gensim/utils.py\u001b[0m in \u001b[0;36mload\u001b[0;34m(cls, fname, mmap)\u001b[0m\n\u001b[1;32m    424\u001b[0m         \u001b[0mcompress\u001b[0m\u001b[0;34m,\u001b[0m \u001b[0msubname\u001b[0m \u001b[0;34m=\u001b[0m \u001b[0mSaveLoad\u001b[0m\u001b[0;34m.\u001b[0m\u001b[0m_adapt_by_suffix\u001b[0m\u001b[0;34m(\u001b[0m\u001b[0mfname\u001b[0m\u001b[0;34m)\u001b[0m\u001b[0;34m\u001b[0m\u001b[0;34m\u001b[0m\u001b[0m\n\u001b[1;32m    425\u001b[0m \u001b[0;34m\u001b[0m\u001b[0m\n\u001b[0;32m--> 426\u001b[0;31m         \u001b[0mobj\u001b[0m \u001b[0;34m=\u001b[0m \u001b[0munpickle\u001b[0m\u001b[0;34m(\u001b[0m\u001b[0mfname\u001b[0m\u001b[0;34m)\u001b[0m\u001b[0;34m\u001b[0m\u001b[0;34m\u001b[0m\u001b[0m\n\u001b[0m\u001b[1;32m    427\u001b[0m         \u001b[0mobj\u001b[0m\u001b[0;34m.\u001b[0m\u001b[0m_load_specials\u001b[0m\u001b[0;34m(\u001b[0m\u001b[0mfname\u001b[0m\u001b[0;34m,\u001b[0m \u001b[0mmmap\u001b[0m\u001b[0;34m,\u001b[0m \u001b[0mcompress\u001b[0m\u001b[0;34m,\u001b[0m \u001b[0msubname\u001b[0m\u001b[0;34m)\u001b[0m\u001b[0;34m\u001b[0m\u001b[0;34m\u001b[0m\u001b[0m\n\u001b[1;32m    428\u001b[0m         \u001b[0mlogger\u001b[0m\u001b[0;34m.\u001b[0m\u001b[0minfo\u001b[0m\u001b[0;34m(\u001b[0m\u001b[0;34m\"loaded %s\"\u001b[0m\u001b[0;34m,\u001b[0m \u001b[0mfname\u001b[0m\u001b[0;34m)\u001b[0m\u001b[0;34m\u001b[0m\u001b[0;34m\u001b[0m\u001b[0m\n",
      "\u001b[0;32m~/anaconda3/envs/my_env/lib/python3.7/site-packages/gensim/utils.py\u001b[0m in \u001b[0;36munpickle\u001b[0;34m(fname)\u001b[0m\n\u001b[1;32m   1379\u001b[0m \u001b[0;34m\u001b[0m\u001b[0m\n\u001b[1;32m   1380\u001b[0m     \"\"\"\n\u001b[0;32m-> 1381\u001b[0;31m     \u001b[0;32mwith\u001b[0m \u001b[0mopen\u001b[0m\u001b[0;34m(\u001b[0m\u001b[0mfname\u001b[0m\u001b[0;34m,\u001b[0m \u001b[0;34m'rb'\u001b[0m\u001b[0;34m)\u001b[0m \u001b[0;32mas\u001b[0m \u001b[0mf\u001b[0m\u001b[0;34m:\u001b[0m\u001b[0;34m\u001b[0m\u001b[0;34m\u001b[0m\u001b[0m\n\u001b[0m\u001b[1;32m   1382\u001b[0m         \u001b[0;31m# Because of loading from S3 load can't be used (missing readline in smart_open)\u001b[0m\u001b[0;34m\u001b[0m\u001b[0;34m\u001b[0m\u001b[0;34m\u001b[0m\u001b[0m\n\u001b[1;32m   1383\u001b[0m         \u001b[0;32mif\u001b[0m \u001b[0msys\u001b[0m\u001b[0;34m.\u001b[0m\u001b[0mversion_info\u001b[0m \u001b[0;34m>\u001b[0m \u001b[0;34m(\u001b[0m\u001b[0;36m3\u001b[0m\u001b[0;34m,\u001b[0m \u001b[0;36m0\u001b[0m\u001b[0;34m)\u001b[0m\u001b[0;34m:\u001b[0m\u001b[0;34m\u001b[0m\u001b[0;34m\u001b[0m\u001b[0m\n",
      "\u001b[0;32m~/anaconda3/envs/my_env/lib/python3.7/site-packages/smart_open/smart_open_lib.py\u001b[0m in \u001b[0;36mopen\u001b[0;34m(uri, mode, buffering, encoding, errors, newline, closefd, opener, ignore_ext, transport_params)\u001b[0m\n\u001b[1;32m    305\u001b[0m         \u001b[0mbuffering\u001b[0m\u001b[0;34m=\u001b[0m\u001b[0mbuffering\u001b[0m\u001b[0;34m,\u001b[0m\u001b[0;34m\u001b[0m\u001b[0;34m\u001b[0m\u001b[0m\n\u001b[1;32m    306\u001b[0m         \u001b[0mencoding\u001b[0m\u001b[0;34m=\u001b[0m\u001b[0mencoding\u001b[0m\u001b[0;34m,\u001b[0m\u001b[0;34m\u001b[0m\u001b[0;34m\u001b[0m\u001b[0m\n\u001b[0;32m--> 307\u001b[0;31m         \u001b[0merrors\u001b[0m\u001b[0;34m=\u001b[0m\u001b[0merrors\u001b[0m\u001b[0;34m,\u001b[0m\u001b[0;34m\u001b[0m\u001b[0;34m\u001b[0m\u001b[0m\n\u001b[0m\u001b[1;32m    308\u001b[0m     )\n\u001b[1;32m    309\u001b[0m     \u001b[0;32mif\u001b[0m \u001b[0mfobj\u001b[0m \u001b[0;32mis\u001b[0m \u001b[0;32mnot\u001b[0m \u001b[0;32mNone\u001b[0m\u001b[0;34m:\u001b[0m\u001b[0;34m\u001b[0m\u001b[0;34m\u001b[0m\u001b[0m\n",
      "\u001b[0;32m~/anaconda3/envs/my_env/lib/python3.7/site-packages/smart_open/smart_open_lib.py\u001b[0m in \u001b[0;36m_shortcut_open\u001b[0;34m(uri, mode, ignore_ext, buffering, encoding, errors)\u001b[0m\n\u001b[1;32m    510\u001b[0m     \u001b[0;31m#\u001b[0m\u001b[0;34m\u001b[0m\u001b[0;34m\u001b[0m\u001b[0;34m\u001b[0m\u001b[0m\n\u001b[1;32m    511\u001b[0m     \u001b[0;32mif\u001b[0m \u001b[0msix\u001b[0m\u001b[0;34m.\u001b[0m\u001b[0mPY3\u001b[0m\u001b[0;34m:\u001b[0m\u001b[0;34m\u001b[0m\u001b[0;34m\u001b[0m\u001b[0m\n\u001b[0;32m--> 512\u001b[0;31m         \u001b[0;32mreturn\u001b[0m \u001b[0m_builtin_open\u001b[0m\u001b[0;34m(\u001b[0m\u001b[0mparsed_uri\u001b[0m\u001b[0;34m.\u001b[0m\u001b[0muri_path\u001b[0m\u001b[0;34m,\u001b[0m \u001b[0mmode\u001b[0m\u001b[0;34m,\u001b[0m \u001b[0mbuffering\u001b[0m\u001b[0;34m=\u001b[0m\u001b[0mbuffering\u001b[0m\u001b[0;34m,\u001b[0m \u001b[0;34m**\u001b[0m\u001b[0mopen_kwargs\u001b[0m\u001b[0;34m)\u001b[0m\u001b[0;34m\u001b[0m\u001b[0;34m\u001b[0m\u001b[0m\n\u001b[0m\u001b[1;32m    513\u001b[0m     \u001b[0;32melif\u001b[0m \u001b[0;32mnot\u001b[0m \u001b[0mopen_kwargs\u001b[0m\u001b[0;34m:\u001b[0m\u001b[0;34m\u001b[0m\u001b[0;34m\u001b[0m\u001b[0m\n\u001b[1;32m    514\u001b[0m         \u001b[0;32mreturn\u001b[0m \u001b[0m_builtin_open\u001b[0m\u001b[0;34m(\u001b[0m\u001b[0mparsed_uri\u001b[0m\u001b[0;34m.\u001b[0m\u001b[0muri_path\u001b[0m\u001b[0;34m,\u001b[0m \u001b[0mmode\u001b[0m\u001b[0;34m,\u001b[0m \u001b[0mbuffering\u001b[0m\u001b[0;34m=\u001b[0m\u001b[0mbuffering\u001b[0m\u001b[0;34m)\u001b[0m\u001b[0;34m\u001b[0m\u001b[0;34m\u001b[0m\u001b[0m\n",
      "\u001b[0;31mFileNotFoundError\u001b[0m: [Errno 2] No such file or directory: '../results/russia/covid_russia_week01_2020-01-24.w2v'"
     ]
    }
   ],
   "source": [
    "results = []\n",
    "for i in range(len(models)):\n",
    "    print(models[i])\n",
    "    w2v_model = gensim.models.Word2Vec.load(\"../embedding/Word2Vec/russia/\"+models[i])\n",
    "    sm = []\n",
    "    for j in range(len(all_pairs)):\n",
    "        #print(all_pairs[j])\n",
    "        sm.append(simi_compare(all_pairs[j][0], all_pairs[j][1], method = \"cosine\"))\n",
    "        \n",
    "    results.append(sm) \n"
   ]
  },
  {
   "cell_type": "code",
   "execution_count": 21,
   "metadata": {},
   "outputs": [],
   "source": [
    "rs_df = pd.DataFrame(results)"
   ]
  },
  {
   "cell_type": "code",
   "execution_count": 22,
   "metadata": {},
   "outputs": [],
   "source": [
    "pair_names = pd.DataFrame(all_pairs)"
   ]
  },
  {
   "cell_type": "code",
   "execution_count": 23,
   "metadata": {},
   "outputs": [],
   "source": [
    "rs_df2 = pd.concat([pair_names, rs_df.T], axis=1)"
   ]
  },
  {
   "cell_type": "code",
   "execution_count": 24,
   "metadata": {},
   "outputs": [],
   "source": [
    "rs_df2.to_csv(\"../results/simi_russia01-23_word2vec.csv\", index=False)"
   ]
  },
  {
   "cell_type": "code",
   "execution_count": 25,
   "metadata": {},
   "outputs": [],
   "source": [
    "models = os.listdir('../results/usa')"
   ]
  },
  {
   "cell_type": "code",
   "execution_count": 26,
   "metadata": {},
   "outputs": [
    {
     "data": {
      "text/plain": [
       "['covid_usa_week01.w2v',\n",
       " 'covid_usa_week02.w2v',\n",
       " 'covid_usa_week03.w2v',\n",
       " 'covid_usa_week04.w2v',\n",
       " 'covid_usa_week05.w2v',\n",
       " 'covid_usa_week06_2020-2-28.w2v',\n",
       " 'covid_usa_week07_2020-3-6.w2v',\n",
       " 'covid_usa_week08_2020-3-13.w2v',\n",
       " 'covid_usa_week09_2020-3-20.w2v',\n",
       " 'covid_usa_week10_2020-3-27.w2v',\n",
       " 'covid_usa_week11_2020-4-3.w2v',\n",
       " 'covid_usa_week12_2020-4-10.w2v',\n",
       " 'covid_usa_week13_2020-4-17.w2v',\n",
       " 'covid_usa_week14_2020-4-24.w2v',\n",
       " 'covid_usa_week15_2020-5-1.w2v',\n",
       " 'covid_usa_week16_2020-5-8.w2v',\n",
       " 'covid_usa_week17_2020-5-15.w2v',\n",
       " 'covid_usa_week18_2020-5-22.w2v',\n",
       " 'covid_usa_week19_2020-5-29.w2v',\n",
       " 'covid_usa_week21_2020-6-12.w2v',\n",
       " 'covid_usa_week22_2020-6-19.w2v',\n",
       " 'covid_usa_week23_2020-6-26.w2v']"
      ]
     },
     "execution_count": 26,
     "metadata": {},
     "output_type": "execute_result"
    }
   ],
   "source": [
    "models.sort()\n",
    "models"
   ]
  },
  {
   "cell_type": "code",
   "execution_count": 27,
   "metadata": {},
   "outputs": [
    {
     "name": "stdout",
     "output_type": "stream",
     "text": [
      "covid_usa_week01.w2v\n",
      "covid_usa_week02.w2v\n",
      "covid_usa_week03.w2v\n",
      "covid_usa_week04.w2v\n",
      "covid_usa_week05.w2v\n",
      "covid_usa_week06_2020-2-28.w2v\n",
      "covid_usa_week07_2020-3-6.w2v\n",
      "covid_usa_week08_2020-3-13.w2v\n",
      "covid_usa_week09_2020-3-20.w2v\n",
      "covid_usa_week10_2020-3-27.w2v\n",
      "covid_usa_week11_2020-4-3.w2v\n",
      "covid_usa_week12_2020-4-10.w2v\n",
      "covid_usa_week13_2020-4-17.w2v\n",
      "covid_usa_week14_2020-4-24.w2v\n",
      "covid_usa_week15_2020-5-1.w2v\n",
      "covid_usa_week16_2020-5-8.w2v\n",
      "covid_usa_week17_2020-5-15.w2v\n",
      "covid_usa_week18_2020-5-22.w2v\n",
      "covid_usa_week19_2020-5-29.w2v\n",
      "covid_usa_week21_2020-6-12.w2v\n",
      "covid_usa_week22_2020-6-19.w2v\n",
      "covid_usa_week23_2020-6-26.w2v\n"
     ]
    }
   ],
   "source": [
    "results = []\n",
    "for i in range(len(models)):\n",
    "    print(models[i])\n",
    "    w2v_model = gensim.models.Word2Vec.load(\"../results/usa/\"+models[i])\n",
    "    sm = []\n",
    "    for j in range(len(all_pairs)):\n",
    "        #print(all_pairs[j])\n",
    "        sm.append(simi_compare(all_pairs[j][0], all_pairs[j][1], method = \"cosine\"))\n",
    "        \n",
    "    results.append(sm) "
   ]
  },
  {
   "cell_type": "code",
   "execution_count": 28,
   "metadata": {},
   "outputs": [],
   "source": [
    "rs_df = pd.DataFrame(results)\n",
    "pair_names = pd.DataFrame(all_pairs)\n",
    "rs_df2 = pd.concat([pair_names, rs_df.T], axis=1)\n",
    "rs_df2.to_csv(\"../results/simi_usa01-23_word2vec.csv\", index=False)"
   ]
  },
  {
   "cell_type": "markdown",
   "metadata": {},
   "source": [
    "# End"
   ]
  },
  {
   "cell_type": "code",
   "execution_count": 65,
   "metadata": {},
   "outputs": [
    {
     "data": {
      "text/plain": [
       "9"
      ]
     },
     "execution_count": 65,
     "metadata": {},
     "output_type": "execute_result"
    }
   ],
   "source": [
    "simi_compare(all_pairs[0][0], all_pairs[0][1], method = \"cosine\")"
   ]
  },
  {
   "cell_type": "code",
   "execution_count": 31,
   "metadata": {},
   "outputs": [
    {
     "data": {
      "text/plain": [
       "array([[-0.17748141]], dtype=float32)"
      ]
     },
     "execution_count": 31,
     "metadata": {},
     "output_type": "execute_result"
    }
   ],
   "source": [
    "cosine_similarity([w2v_model2.wv[\"building\"]], [w2v_model2.wv[\"china\"]])"
   ]
  },
  {
   "cell_type": "code",
   "execution_count": 13,
   "metadata": {},
   "outputs": [
    {
     "data": {
      "text/plain": [
       "42.246334"
      ]
     },
     "execution_count": 13,
     "metadata": {},
     "output_type": "execute_result"
    }
   ],
   "source": [
    "np.linalg.norm(w2v_model2.wv[\"flu\"]-w2v_model2.wv[\"covid19\"])"
   ]
  },
  {
   "cell_type": "code",
   "execution_count": 9,
   "metadata": {},
   "outputs": [],
   "source": [
    "from scipy.spatial import distance"
   ]
  },
  {
   "cell_type": "code",
   "execution_count": 12,
   "metadata": {},
   "outputs": [
    {
     "data": {
      "text/plain": [
       "42.246334075927734"
      ]
     },
     "execution_count": 12,
     "metadata": {},
     "output_type": "execute_result"
    }
   ],
   "source": [
    "distance.euclidean(w2v_model2.wv[\"flu\"],w2v_model2.wv[\"covid19\"])"
   ]
  },
  {
   "cell_type": "code",
   "execution_count": 19,
   "metadata": {},
   "outputs": [],
   "source": [
    "def simi_covid(word, method = \"cosine\"):\n",
    "    \n",
    "    if word in w2v_model1.wv:\n",
    "        covid1 = w2v_model1.wv[\"covid19\"]\n",
    "        wd1 = w2v_model1.wv[word]\n",
    "        if method == \"cosine\":\n",
    "            sm1 = cosine_similarity([covid1], [wd1])\n",
    "            sm1 = float(sm1[0])\n",
    "        if method == \"euclidean\":\n",
    "            sm1 = np.linalg.norm(covid1-wd1)\n",
    "    else: sm1 = 9\n",
    "        \n",
    "    if word in w2v_model2.wv:\n",
    "        covid2 = w2v_model2.wv[\"covid19\"]\n",
    "        wd2 = w2v_model2.wv[word]\n",
    "        if method == \"cosine\":\n",
    "            sm2 = cosine_similarity([covid2], [wd2])\n",
    "            sm2 = float(sm2[0])\n",
    "        if method == \"euclidean\":\n",
    "            sm2 = np.linalg.norm(covid2-wd2)     \n",
    "    else: sm2 = 9\n",
    "        \n",
    "    return(sm1, sm2)"
   ]
  },
  {
   "cell_type": "code",
   "execution_count": 40,
   "metadata": {},
   "outputs": [
    {
     "data": {
      "text/plain": [
       "(9, -0.10928481072187424)"
      ]
     },
     "execution_count": 40,
     "metadata": {},
     "output_type": "execute_result"
    }
   ],
   "source": [
    "simi_covid(\"truce\")"
   ]
  },
  {
   "cell_type": "code",
   "execution_count": 20,
   "metadata": {},
   "outputs": [],
   "source": [
    "before = []\n",
    "after = []\n",
    "for i in range(len(kw1)):\n",
    "    before.append(simi_covid(kw1[i], method = \"euclidean\")[0])\n",
    "    after.append(simi_covid(kw1[i], method = \"euclidean\")[1])"
   ]
  },
  {
   "cell_type": "code",
   "execution_count": 21,
   "metadata": {},
   "outputs": [],
   "source": [
    "result1 = pd.DataFrame(list(zip(kw1, before, after)), columns =['keyword', 'before', 'after']) "
   ]
  },
  {
   "cell_type": "code",
   "execution_count": 22,
   "metadata": {},
   "outputs": [],
   "source": [
    "result1.to_csv(\"../results/covid-metaphor_distance_word2vec.csv\", index=False)"
   ]
  },
  {
   "cell_type": "code",
   "execution_count": 144,
   "metadata": {},
   "outputs": [
    {
     "data": {
      "text/plain": [
       "['unreported',\n",
       " '5g',\n",
       " 'radiation',\n",
       " 'electromagnetic',\n",
       " 'chip',\n",
       " 'microchip',\n",
       " 'microchipping',\n",
       " 'implant',\n",
       " 'gates',\n",
       " 'hoax',\n",
       " 'overblown',\n",
       " 'flu',\n",
       " 'bleach',\n",
       " 'chlorine',\n",
       " 'antibiotics']"
      ]
     },
     "execution_count": 144,
     "metadata": {},
     "output_type": "execute_result"
    }
   ],
   "source": [
    "## misinformation\n",
    "\n",
    "kw2 = \"unreported, 5G, radiation, electromagnetic, Chip, microchip, microchipping, implant, Gates, Hoax, Overblown, flu, Bleach, chlorine, Antibiotics\"\n",
    "kw2 = kw2.lower().split(\", \")\n",
    "kw2"
   ]
  },
  {
   "cell_type": "code",
   "execution_count": 145,
   "metadata": {},
   "outputs": [],
   "source": [
    "before = []\n",
    "after = []\n",
    "for i in range(len(kw2)):\n",
    "    before.append(simi_covid(kw2[i])[0])\n",
    "    after.append(simi_covid(kw2[i])[1])\n",
    "    \n",
    "result2 = pd.DataFrame(list(zip(kw2, before, after)), columns =['keyword', 'before', 'after']) "
   ]
  },
  {
   "cell_type": "code",
   "execution_count": 146,
   "metadata": {},
   "outputs": [
    {
     "data": {
      "text/html": [
       "<div>\n",
       "<style scoped>\n",
       "    .dataframe tbody tr th:only-of-type {\n",
       "        vertical-align: middle;\n",
       "    }\n",
       "\n",
       "    .dataframe tbody tr th {\n",
       "        vertical-align: top;\n",
       "    }\n",
       "\n",
       "    .dataframe thead th {\n",
       "        text-align: right;\n",
       "    }\n",
       "</style>\n",
       "<table border=\"1\" class=\"dataframe\">\n",
       "  <thead>\n",
       "    <tr style=\"text-align: right;\">\n",
       "      <th></th>\n",
       "      <th>keyword</th>\n",
       "      <th>before</th>\n",
       "      <th>after</th>\n",
       "    </tr>\n",
       "  </thead>\n",
       "  <tbody>\n",
       "    <tr>\n",
       "      <th>0</th>\n",
       "      <td>unreported</td>\n",
       "      <td>0.406032</td>\n",
       "      <td>0.233535</td>\n",
       "    </tr>\n",
       "    <tr>\n",
       "      <th>1</th>\n",
       "      <td>5g</td>\n",
       "      <td>0.065812</td>\n",
       "      <td>0.188567</td>\n",
       "    </tr>\n",
       "    <tr>\n",
       "      <th>2</th>\n",
       "      <td>radiation</td>\n",
       "      <td>-0.122521</td>\n",
       "      <td>0.239064</td>\n",
       "    </tr>\n",
       "    <tr>\n",
       "      <th>3</th>\n",
       "      <td>electromagnetic</td>\n",
       "      <td>9.000000</td>\n",
       "      <td>0.075392</td>\n",
       "    </tr>\n",
       "    <tr>\n",
       "      <th>4</th>\n",
       "      <td>chip</td>\n",
       "      <td>9.000000</td>\n",
       "      <td>9.000000</td>\n",
       "    </tr>\n",
       "    <tr>\n",
       "      <th>5</th>\n",
       "      <td>microchip</td>\n",
       "      <td>-0.122246</td>\n",
       "      <td>-0.102266</td>\n",
       "    </tr>\n",
       "    <tr>\n",
       "      <th>6</th>\n",
       "      <td>microchipping</td>\n",
       "      <td>9.000000</td>\n",
       "      <td>-0.051780</td>\n",
       "    </tr>\n",
       "    <tr>\n",
       "      <th>7</th>\n",
       "      <td>implant</td>\n",
       "      <td>9.000000</td>\n",
       "      <td>9.000000</td>\n",
       "    </tr>\n",
       "    <tr>\n",
       "      <th>8</th>\n",
       "      <td>gates</td>\n",
       "      <td>-0.009743</td>\n",
       "      <td>0.066845</td>\n",
       "    </tr>\n",
       "    <tr>\n",
       "      <th>9</th>\n",
       "      <td>hoax</td>\n",
       "      <td>-0.096686</td>\n",
       "      <td>-0.063197</td>\n",
       "    </tr>\n",
       "    <tr>\n",
       "      <th>10</th>\n",
       "      <td>overblown</td>\n",
       "      <td>0.088785</td>\n",
       "      <td>-0.080797</td>\n",
       "    </tr>\n",
       "    <tr>\n",
       "      <th>11</th>\n",
       "      <td>flu</td>\n",
       "      <td>0.239640</td>\n",
       "      <td>0.229268</td>\n",
       "    </tr>\n",
       "    <tr>\n",
       "      <th>12</th>\n",
       "      <td>bleach</td>\n",
       "      <td>0.059694</td>\n",
       "      <td>0.019502</td>\n",
       "    </tr>\n",
       "    <tr>\n",
       "      <th>13</th>\n",
       "      <td>chlorine</td>\n",
       "      <td>-0.019542</td>\n",
       "      <td>0.042504</td>\n",
       "    </tr>\n",
       "    <tr>\n",
       "      <th>14</th>\n",
       "      <td>antibiotics</td>\n",
       "      <td>-0.000782</td>\n",
       "      <td>0.019193</td>\n",
       "    </tr>\n",
       "  </tbody>\n",
       "</table>\n",
       "</div>"
      ],
      "text/plain": [
       "            keyword    before     after\n",
       "0        unreported  0.406032  0.233535\n",
       "1                5g  0.065812  0.188567\n",
       "2         radiation -0.122521  0.239064\n",
       "3   electromagnetic  9.000000  0.075392\n",
       "4              chip  9.000000  9.000000\n",
       "5         microchip -0.122246 -0.102266\n",
       "6     microchipping  9.000000 -0.051780\n",
       "7           implant  9.000000  9.000000\n",
       "8             gates -0.009743  0.066845\n",
       "9              hoax -0.096686 -0.063197\n",
       "10        overblown  0.088785 -0.080797\n",
       "11              flu  0.239640  0.229268\n",
       "12           bleach  0.059694  0.019502\n",
       "13         chlorine -0.019542  0.042504\n",
       "14      antibiotics -0.000782  0.019193"
      ]
     },
     "execution_count": 146,
     "metadata": {},
     "output_type": "execute_result"
    }
   ],
   "source": [
    "result2"
   ]
  },
  {
   "cell_type": "code",
   "execution_count": 147,
   "metadata": {},
   "outputs": [],
   "source": [
    "result2.to_csv(\"../results/covid-misinfo_simi_word2vec.csv\", index=False)"
   ]
  },
  {
   "cell_type": "code",
   "execution_count": 3,
   "metadata": {},
   "outputs": [],
   "source": [
    "## other pairs\n",
    "\n",
    "def simi_compare(word1, word2, method = \"cosine\"):\n",
    "    if word1 in w2v_model1.wv and word2 in w2v_model1.wv:\n",
    "        wd11 = w2v_model1.wv[word1]\n",
    "        wd12 = w2v_model1.wv[word2]\n",
    "        if method == \"cosine\":\n",
    "            sm1 = cosine_similarity([wd11], [wd12])\n",
    "        if method == \"euclidean\":\n",
    "            sm1 = np.linalg.norm(wd11-wd12)\n",
    "    else: sm1 = 9\n",
    "        \n",
    "    if word1 in w2v_model2.wv and word2 in w2v_model2.wv:\n",
    "        wd21 = w2v_model2.wv[word1]\n",
    "        wd22 = w2v_model2.wv[word2]\n",
    "        if method == \"cosine\":\n",
    "            sm2 = cosine_similarity([wd21], [wd22])\n",
    "        if method == \"euclidean\":\n",
    "            sm2 = np.linalg.norm(wd21-wd22)\n",
    "    else: sm2 = 9 \n",
    "    print(\"jan24-mar12: \", sm1)\n",
    "    print(\"mar13-may25: \", sm2)"
   ]
  },
  {
   "cell_type": "code",
   "execution_count": 16,
   "metadata": {},
   "outputs": [
    {
     "name": "stdout",
     "output_type": "stream",
     "text": [
      "mandatory vaccine: \n",
      "jan24-mar12:  [[-0.0479909]]\n",
      "mar13-may25:  [[0.11549301]]\n",
      "mandatory vaccination: \n",
      "jan24-mar12:  9\n",
      "mar13-may25:  9\n",
      "overcount  death: \n",
      "jan24-mar12:  9\n",
      "mar13-may25:  [[0.06988795]]\n",
      "dioxide mask: \n",
      "jan24-mar12:  [[-0.01186491]]\n",
      "mar13-may25:  [[-0.05162056]]\n",
      "lab china: \n",
      "jan24-mar12:  [[0.13334897]]\n",
      "mar13-may25:  [[0.35133922]]\n",
      "laboratory china: \n",
      "jan24-mar12:  9\n",
      "mar13-may25:  9\n",
      "weapon china: \n",
      "jan24-mar12:  9\n",
      "mar13-may25:  9\n",
      "warfare china: \n",
      "jan24-mar12:  [[0.1447269]]\n",
      "mar13-may25:  [[0.17612326]]\n",
      "covid19 vaccine: \n",
      "jan24-mar12:  [[-0.13216178]]\n",
      "mar13-may25:  [[-0.12503892]]\n",
      "covid19 vaccine: \n",
      "jan24-mar12:  [[-0.0473458]]\n",
      "mar13-may25:  [[0.0861937]]\n"
     ]
    }
   ],
   "source": [
    "print(\"mandatory vaccine: \")\n",
    "simi_compare(\"mandatory\", \"vaccine\")\n",
    "\n",
    "print(\"mandatory vaccination: \")\n",
    "simi_compare(\"mandatory\", \"vaccination\")\n",
    "\n",
    "print(\"overcount  death: \")\n",
    "simi_compare(\"overcount\", \"death\")\n",
    "\n",
    "print(\"dioxide mask: \")\n",
    "simi_compare(\"dioxide\", \"mask\")\n",
    "\n",
    "print(\"lab china: \")\n",
    "simi_compare(\"lab\", \"china\")\n",
    "\n",
    "print(\"laboratory china: \")\n",
    "simi_compare(\"laboratory\", \"china\")\n",
    "\n",
    "print(\"weapon china: \")\n",
    "simi_compare(\"weapon\", \"china\")\n",
    "\n",
    "print(\"warfare china: \")\n",
    "simi_compare(\"warfare\", \"china\")\n",
    "\n",
    "print(\"covid19 vaccine: \")\n",
    "simi_compare(\"covid19\", \"vaccine\")\n",
    "\n",
    "print(\"covid19 vaccine: \")\n",
    "simi_compare(\"genocide\", \"covid19\")\n",
    "#Lab/laboratory/weapon/biological warfare paired with China "
   ]
  },
  {
   "cell_type": "code",
   "execution_count": 23,
   "metadata": {},
   "outputs": [],
   "source": [
    "pairs1 = [[\"mandatory\", \"vaccine\"],[\"overcount\", \"death\"], [\"dioxide\", \"mask\"], [\"lab\", \"china\"]]"
   ]
  },
  {
   "cell_type": "code",
   "execution_count": 24,
   "metadata": {},
   "outputs": [],
   "source": [
    "race = [\"black\", \"africa\", \"african\", \"melanin\", \"poc\"]\n",
    "racemis = [\"genocide\", \"immune\", \"immunity\", \"inoculated\", \"depopulate\", \"depopulation\", \"vitamin\", \"vit\", \"zinc\", \"supplements\", \"garlic\", \"water\", \"colloid\", \"vaccine\", \"vaccinate\", \"vaccination\"]\n"
   ]
  },
  {
   "cell_type": "code",
   "execution_count": 25,
   "metadata": {},
   "outputs": [],
   "source": [
    "pairs = []\n",
    "for i in range(len(race)):\n",
    "    for j in range(len(racemis)):\n",
    "        pairs.append([race[i], racemis[j]])"
   ]
  },
  {
   "cell_type": "code",
   "execution_count": 26,
   "metadata": {},
   "outputs": [],
   "source": [
    "pairs = pairs + pairs1"
   ]
  },
  {
   "cell_type": "code",
   "execution_count": 27,
   "metadata": {},
   "outputs": [
    {
     "data": {
      "text/plain": [
       "[['black', 'genocide'],\n",
       " ['black', 'immune'],\n",
       " ['black', 'immunity'],\n",
       " ['black', 'inoculated'],\n",
       " ['black', 'depopulate'],\n",
       " ['black', 'depopulation'],\n",
       " ['black', 'vitamin'],\n",
       " ['black', 'vit'],\n",
       " ['black', 'zinc'],\n",
       " ['black', 'supplements'],\n",
       " ['black', 'garlic'],\n",
       " ['black', 'water'],\n",
       " ['black', 'colloid'],\n",
       " ['black', 'vaccine'],\n",
       " ['black', 'vaccinate'],\n",
       " ['black', 'vaccination'],\n",
       " ['africa', 'genocide'],\n",
       " ['africa', 'immune'],\n",
       " ['africa', 'immunity'],\n",
       " ['africa', 'inoculated'],\n",
       " ['africa', 'depopulate'],\n",
       " ['africa', 'depopulation'],\n",
       " ['africa', 'vitamin'],\n",
       " ['africa', 'vit'],\n",
       " ['africa', 'zinc'],\n",
       " ['africa', 'supplements'],\n",
       " ['africa', 'garlic'],\n",
       " ['africa', 'water'],\n",
       " ['africa', 'colloid'],\n",
       " ['africa', 'vaccine'],\n",
       " ['africa', 'vaccinate'],\n",
       " ['africa', 'vaccination'],\n",
       " ['african', 'genocide'],\n",
       " ['african', 'immune'],\n",
       " ['african', 'immunity'],\n",
       " ['african', 'inoculated'],\n",
       " ['african', 'depopulate'],\n",
       " ['african', 'depopulation'],\n",
       " ['african', 'vitamin'],\n",
       " ['african', 'vit'],\n",
       " ['african', 'zinc'],\n",
       " ['african', 'supplements'],\n",
       " ['african', 'garlic'],\n",
       " ['african', 'water'],\n",
       " ['african', 'colloid'],\n",
       " ['african', 'vaccine'],\n",
       " ['african', 'vaccinate'],\n",
       " ['african', 'vaccination'],\n",
       " ['melanin', 'genocide'],\n",
       " ['melanin', 'immune'],\n",
       " ['melanin', 'immunity'],\n",
       " ['melanin', 'inoculated'],\n",
       " ['melanin', 'depopulate'],\n",
       " ['melanin', 'depopulation'],\n",
       " ['melanin', 'vitamin'],\n",
       " ['melanin', 'vit'],\n",
       " ['melanin', 'zinc'],\n",
       " ['melanin', 'supplements'],\n",
       " ['melanin', 'garlic'],\n",
       " ['melanin', 'water'],\n",
       " ['melanin', 'colloid'],\n",
       " ['melanin', 'vaccine'],\n",
       " ['melanin', 'vaccinate'],\n",
       " ['melanin', 'vaccination'],\n",
       " ['poc', 'genocide'],\n",
       " ['poc', 'immune'],\n",
       " ['poc', 'immunity'],\n",
       " ['poc', 'inoculated'],\n",
       " ['poc', 'depopulate'],\n",
       " ['poc', 'depopulation'],\n",
       " ['poc', 'vitamin'],\n",
       " ['poc', 'vit'],\n",
       " ['poc', 'zinc'],\n",
       " ['poc', 'supplements'],\n",
       " ['poc', 'garlic'],\n",
       " ['poc', 'water'],\n",
       " ['poc', 'colloid'],\n",
       " ['poc', 'vaccine'],\n",
       " ['poc', 'vaccinate'],\n",
       " ['poc', 'vaccination'],\n",
       " ['mandatory', 'vaccine'],\n",
       " ['overcount', 'death'],\n",
       " ['dioxide', 'mask'],\n",
       " ['lab', 'china']]"
      ]
     },
     "execution_count": 27,
     "metadata": {},
     "output_type": "execute_result"
    }
   ],
   "source": [
    "pairs"
   ]
  },
  {
   "cell_type": "code",
   "execution_count": 30,
   "metadata": {},
   "outputs": [],
   "source": [
    "def simi_compare2(word1, word2, method = \"cosine\"):\n",
    "    if word1 in w2v_model1.wv and word2 in w2v_model1.wv:\n",
    "        wd11 = w2v_model1.wv[word1]\n",
    "        wd12 = w2v_model1.wv[word2]\n",
    "        if method == \"cosine\":\n",
    "            sm1 = cosine_similarity([wd11], [wd12])\n",
    "            sm1 = float(sm1[0])\n",
    "        if method == \"euclidean\":\n",
    "            sm1 = np.linalg.norm(wd11-wd12)\n",
    "    else: sm1 = 9\n",
    "        \n",
    "    if word1 in w2v_model2.wv and word2 in w2v_model2.wv:\n",
    "        wd21 = w2v_model2.wv[word1]\n",
    "        wd22 = w2v_model2.wv[word2]\n",
    "        if method == \"cosine\":\n",
    "            sm2 = cosine_similarity([wd21], [wd22])\n",
    "            sm2 = float(sm2[0])\n",
    "        if method == \"euclidean\":\n",
    "            sm2 = np.linalg.norm(wd21-wd22)        \n",
    "    else: sm2 = 9 \n",
    "    return(sm1, sm2)"
   ]
  },
  {
   "cell_type": "code",
   "execution_count": 31,
   "metadata": {},
   "outputs": [],
   "source": [
    "before = []\n",
    "after = []\n",
    "for i in range(len(pairs)):\n",
    "    before.append(simi_compare2(pairs[i][0], pairs[i][1], method = \"euclidean\")[0])\n",
    "    after.append(simi_compare2(pairs[i][0], pairs[i][1], method = \"euclidean\")[1])\n",
    "    \n",
    "result3 = pd.DataFrame(list(zip(pairs, before, after)), columns =['keyword', 'before', 'after']) "
   ]
  },
  {
   "cell_type": "code",
   "execution_count": 32,
   "metadata": {},
   "outputs": [],
   "source": [
    "result3.to_csv(\"../results/covid-misinforace_distance_word2vec.csv\", index=False)"
   ]
  },
  {
   "cell_type": "code",
   "execution_count": 81,
   "metadata": {},
   "outputs": [
    {
     "data": {
      "text/plain": [
       "array([[0.59001446]], dtype=float32)"
      ]
     },
     "execution_count": 81,
     "metadata": {},
     "output_type": "execute_result"
    }
   ],
   "source": [
    "cosine_similarity([w2v_model2.wv[\"men\"]], [w2v_model2.wv[\"women\"]])"
   ]
  },
  {
   "cell_type": "markdown",
   "metadata": {},
   "source": [
    "## One-Hot encoding"
   ]
  },
  {
   "cell_type": "code",
   "execution_count": 120,
   "metadata": {},
   "outputs": [],
   "source": [
    "from sklearn.feature_extraction.text import CountVectorizer\n",
    "from sklearn.metrics.pairwise import cosine_similarity"
   ]
  },
  {
   "cell_type": "code",
   "execution_count": 86,
   "metadata": {},
   "outputs": [],
   "source": [
    "stop_words = stopwords.words(\"english\")\n",
    "stemmer = SnowballStemmer(\"english\")\n",
    "stop_words2 = stop_words[35:] # include i, we, they, it, etc.\n",
    "\n",
    "def preprocess(text, stem=False):\n",
    "    # remove link, user and special characters\n",
    "    #text = re.sub(\"@\\S+|https?:\\S+|http?:\\S|[^A-Za-z0-9]+\", ' ', str(text).lower()).strip()\n",
    "    # Remove link\n",
    "    text = re.sub(r'https?:\\S+|http?:\\S', ' ', str(text).lower()).strip()\n",
    "    # change all to covid19\n",
    "    text = re.sub(r'(covid|c|cv)(\\s+|\\-|\\_)19', 'covid19 ', text)\n",
    "    text = re.sub(r'covid(\\s+|\\W|$)', 'covid19 ', text)\n",
    "    text = re.sub(r'coronavirus|caronavirus', 'covid19 ', text)\n",
    "    text = re.sub(r'corona', 'covid19 ', text)\n",
    "    text = re.sub(r'rona', 'covid19 ', text)\n",
    "    text = re.sub(r'c\\-19|c19|cv19|cv\\-19', 'covid19 ', text)\n",
    "    # remove puctuations and special characters\n",
    "    text = re.sub(r'\\W', ' ', text)\n",
    "    # Substituting multiple spaces with single space\n",
    "    text = re.sub(r'\\s+', ' ', text, flags=re.I)\n",
    "    # remove first space\n",
    "    text = re.sub(r'^\\s+', '', text)\n",
    "    # Removing prefixed 'b'\n",
    "    text = re.sub(r'^b\\s+', '', text)\n",
    "    \n",
    "    tokens = []\n",
    "    for token in text.split():\n",
    "        if token not in stop_words2:\n",
    "            if stem:\n",
    "                tokens.append(stemmer.stem(token))\n",
    "            else:\n",
    "                tokens.append(token)\n",
    "    return \" \".join(tokens)"
   ]
  },
  {
   "cell_type": "code",
   "execution_count": 87,
   "metadata": {},
   "outputs": [],
   "source": [
    "# read dataset\n",
    "df = pd.read_csv(\"../data/covid_usa_jan24-mar10_21pm-23pm_onethird_text_clean.csv\", encoding = \"ISO-8859-1\")\n",
    "#df = pd.read_csv(\"../data/covid_usa_mar11-may25_21pm-23pm_onethird_text.csv\", encoding = \"ISO-8859-1\")"
   ]
  },
  {
   "cell_type": "code",
   "execution_count": 93,
   "metadata": {},
   "outputs": [],
   "source": [
    "df.columns = [\"user_id\", \"status_id\", \"created_at\", \"screen_name\", \"text\", \"textp\"]"
   ]
  },
  {
   "cell_type": "code",
   "execution_count": 94,
   "metadata": {},
   "outputs": [
    {
     "data": {
      "text/html": [
       "<div>\n",
       "<style scoped>\n",
       "    .dataframe tbody tr th:only-of-type {\n",
       "        vertical-align: middle;\n",
       "    }\n",
       "\n",
       "    .dataframe tbody tr th {\n",
       "        vertical-align: top;\n",
       "    }\n",
       "\n",
       "    .dataframe thead th {\n",
       "        text-align: right;\n",
       "    }\n",
       "</style>\n",
       "<table border=\"1\" class=\"dataframe\">\n",
       "  <thead>\n",
       "    <tr style=\"text-align: right;\">\n",
       "      <th></th>\n",
       "      <th>user_id</th>\n",
       "      <th>status_id</th>\n",
       "      <th>created_at</th>\n",
       "      <th>screen_name</th>\n",
       "      <th>text</th>\n",
       "      <th>textp</th>\n",
       "    </tr>\n",
       "  </thead>\n",
       "  <tbody>\n",
       "    <tr>\n",
       "      <th>0</th>\n",
       "      <td>x948078367</td>\n",
       "      <td>x1232793538569457664</td>\n",
       "      <td>2020-02-26 22:24:18</td>\n",
       "      <td>srmduke87</td>\n",
       "      <td>Ã¢ÂÂ¼Ã¯Â¸Â\\nAzar refuses to promise a corona...</td>\n",
       "      <td>Ã¢ Â¼Ã¯ azar refuses promise covid19 vaccine a...</td>\n",
       "    </tr>\n",
       "    <tr>\n",
       "      <th>1</th>\n",
       "      <td>x14317928</td>\n",
       "      <td>x1232787852473270277</td>\n",
       "      <td>2020-02-26 22:01:42</td>\n",
       "      <td>rawells</td>\n",
       "      <td>The significance of the Miami man who feared h...</td>\n",
       "      <td>significance miami man feared he might covid19</td>\n",
       "    </tr>\n",
       "    <tr>\n",
       "      <th>2</th>\n",
       "      <td>x836361828494094336</td>\n",
       "      <td>x1233150596481536000</td>\n",
       "      <td>2020-02-27 22:03:07</td>\n",
       "      <td>DuckyTetzloff</td>\n",
       "      <td>Pocahontas: I'm gonna introduce a plan to take...</td>\n",
       "      <td>pocahontas i gonna introduce plan take every d...</td>\n",
       "    </tr>\n",
       "    <tr>\n",
       "      <th>3</th>\n",
       "      <td>x61170702</td>\n",
       "      <td>x1233154633746538497</td>\n",
       "      <td>2020-02-27 22:19:10</td>\n",
       "      <td>discovertlife</td>\n",
       "      <td>California health officials are monitoring 8,4...</td>\n",
       "      <td>california health officials monitoring 8 400 p...</td>\n",
       "    </tr>\n",
       "    <tr>\n",
       "      <th>4</th>\n",
       "      <td>x371981714</td>\n",
       "      <td>x1233138902061535233</td>\n",
       "      <td>2020-02-27 21:16:39</td>\n",
       "      <td>RhondaJonesLevy</td>\n",
       "      <td>Republicans who acquitted Trump on articles of...</td>\n",
       "      <td>republicans acquitted trump articles impeachme...</td>\n",
       "    </tr>\n",
       "    <tr>\n",
       "      <th>...</th>\n",
       "      <td>...</td>\n",
       "      <td>...</td>\n",
       "      <td>...</td>\n",
       "      <td>...</td>\n",
       "      <td>...</td>\n",
       "      <td>...</td>\n",
       "    </tr>\n",
       "    <tr>\n",
       "      <th>379345</th>\n",
       "      <td>x2181460182</td>\n",
       "      <td>x1236396565444669440</td>\n",
       "      <td>2020-03-07 21:01:26</td>\n",
       "      <td>4nnette_</td>\n",
       "      <td>Trump lied about Russian interference. He atta...</td>\n",
       "      <td>trump lied russian interference he attacked an...</td>\n",
       "    </tr>\n",
       "    <tr>\n",
       "      <th>379346</th>\n",
       "      <td>x1177400099648880640</td>\n",
       "      <td>x1236038831859617792</td>\n",
       "      <td>2020-03-06 21:19:56</td>\n",
       "      <td>Carolyn83103672</td>\n",
       "      <td>@ThisisShannonVB @madisongesiotto He should be...</td>\n",
       "      <td>thisisshannonvb madisongesiotto he forced star...</td>\n",
       "    </tr>\n",
       "    <tr>\n",
       "      <th>379347</th>\n",
       "      <td>x20032020</td>\n",
       "      <td>x1237124910603890688</td>\n",
       "      <td>2020-03-09 21:15:38</td>\n",
       "      <td>LLight</td>\n",
       "      <td>@GOP @GOPHouse @GOPSenate @SenatorCollins @Tho...</td>\n",
       "      <td>gop gophouse gopsenate senatorcollins thomtill...</td>\n",
       "    </tr>\n",
       "    <tr>\n",
       "      <th>379348</th>\n",
       "      <td>x784494741153013760</td>\n",
       "      <td>x1237140816512135169</td>\n",
       "      <td>2020-03-09 22:18:50</td>\n",
       "      <td>captainleebip</td>\n",
       "      <td>Democrat Gavin Newsome was asked how President...</td>\n",
       "      <td>democrat gavin newsome asked president trump h...</td>\n",
       "    </tr>\n",
       "    <tr>\n",
       "      <th>379349</th>\n",
       "      <td>x17703035</td>\n",
       "      <td>x1236038316463722496</td>\n",
       "      <td>2020-03-06 21:17:53</td>\n",
       "      <td>DonMcKenzie</td>\n",
       "      <td>The #coronavirus issue, over-hyped or not, has...</td>\n",
       "      <td>covid19 issue hyped show desperate need medica...</td>\n",
       "    </tr>\n",
       "  </tbody>\n",
       "</table>\n",
       "<p>379350 rows × 6 columns</p>\n",
       "</div>"
      ],
      "text/plain": [
       "                     user_id             status_id           created_at  \\\n",
       "0                 x948078367  x1232793538569457664  2020-02-26 22:24:18   \n",
       "1                  x14317928  x1232787852473270277  2020-02-26 22:01:42   \n",
       "2        x836361828494094336  x1233150596481536000  2020-02-27 22:03:07   \n",
       "3                  x61170702  x1233154633746538497  2020-02-27 22:19:10   \n",
       "4                 x371981714  x1233138902061535233  2020-02-27 21:16:39   \n",
       "...                      ...                   ...                  ...   \n",
       "379345           x2181460182  x1236396565444669440  2020-03-07 21:01:26   \n",
       "379346  x1177400099648880640  x1236038831859617792  2020-03-06 21:19:56   \n",
       "379347             x20032020  x1237124910603890688  2020-03-09 21:15:38   \n",
       "379348   x784494741153013760  x1237140816512135169  2020-03-09 22:18:50   \n",
       "379349             x17703035  x1236038316463722496  2020-03-06 21:17:53   \n",
       "\n",
       "            screen_name                                               text  \\\n",
       "0             srmduke87  Ã¢ÂÂ¼Ã¯Â¸Â\\nAzar refuses to promise a corona...   \n",
       "1               rawells  The significance of the Miami man who feared h...   \n",
       "2         DuckyTetzloff  Pocahontas: I'm gonna introduce a plan to take...   \n",
       "3         discovertlife  California health officials are monitoring 8,4...   \n",
       "4       RhondaJonesLevy  Republicans who acquitted Trump on articles of...   \n",
       "...                 ...                                                ...   \n",
       "379345         4nnette_  Trump lied about Russian interference. He atta...   \n",
       "379346  Carolyn83103672  @ThisisShannonVB @madisongesiotto He should be...   \n",
       "379347           LLight  @GOP @GOPHouse @GOPSenate @SenatorCollins @Tho...   \n",
       "379348    captainleebip  Democrat Gavin Newsome was asked how President...   \n",
       "379349      DonMcKenzie  The #coronavirus issue, over-hyped or not, has...   \n",
       "\n",
       "                                                    textp  \n",
       "0       Ã¢ Â¼Ã¯ azar refuses promise covid19 vaccine a...  \n",
       "1          significance miami man feared he might covid19  \n",
       "2       pocahontas i gonna introduce plan take every d...  \n",
       "3       california health officials monitoring 8 400 p...  \n",
       "4       republicans acquitted trump articles impeachme...  \n",
       "...                                                   ...  \n",
       "379345  trump lied russian interference he attacked an...  \n",
       "379346  thisisshannonvb madisongesiotto he forced star...  \n",
       "379347  gop gophouse gopsenate senatorcollins thomtill...  \n",
       "379348  democrat gavin newsome asked president trump h...  \n",
       "379349  covid19 issue hyped show desperate need medica...  \n",
       "\n",
       "[379350 rows x 6 columns]"
      ]
     },
     "execution_count": 94,
     "metadata": {},
     "output_type": "execute_result"
    }
   ],
   "source": [
    "df"
   ]
  },
  {
   "cell_type": "code",
   "execution_count": 105,
   "metadata": {},
   "outputs": [],
   "source": [
    "doc = df.textp.apply(lambda x: np.str_(x))"
   ]
  },
  {
   "cell_type": "code",
   "execution_count": 106,
   "metadata": {},
   "outputs": [
    {
     "data": {
      "text/plain": [
       "0         Ã¢ Â¼Ã¯ azar refuses promise covid19 vaccine a...\n",
       "1            significance miami man feared he might covid19\n",
       "2         pocahontas i gonna introduce plan take every d...\n",
       "3         california health officials monitoring 8 400 p...\n",
       "4         republicans acquitted trump articles impeachme...\n",
       "                                ...                        \n",
       "379345    trump lied russian interference he attacked an...\n",
       "379346    thisisshannonvb madisongesiotto he forced star...\n",
       "379347    gop gophouse gopsenate senatorcollins thomtill...\n",
       "379348    democrat gavin newsome asked president trump h...\n",
       "379349    covid19 issue hyped show desperate need medica...\n",
       "Name: textp, Length: 379350, dtype: object"
      ]
     },
     "execution_count": 106,
     "metadata": {},
     "output_type": "execute_result"
    }
   ],
   "source": [
    "doc"
   ]
  },
  {
   "cell_type": "code",
   "execution_count": 107,
   "metadata": {},
   "outputs": [],
   "source": [
    "vectorizer = CountVectorizer()\n",
    "X = vectorizer.fit_transform(doc)"
   ]
  },
  {
   "cell_type": "code",
   "execution_count": 132,
   "metadata": {},
   "outputs": [
    {
     "data": {
      "text/plain": [
       "(379350, 98097)"
      ]
     },
     "execution_count": 132,
     "metadata": {},
     "output_type": "execute_result"
    }
   ],
   "source": [
    "X.shape"
   ]
  },
  {
   "cell_type": "code",
   "execution_count": 139,
   "metadata": {},
   "outputs": [
    {
     "data": {
      "text/plain": [
       "array([[0],\n",
       "       [0],\n",
       "       [0],\n",
       "       ...,\n",
       "       [0],\n",
       "       [0],\n",
       "       [0]])"
      ]
     },
     "execution_count": 139,
     "metadata": {},
     "output_type": "execute_result"
    }
   ],
   "source": [
    "X[:,1].toarray()"
   ]
  },
  {
   "cell_type": "code",
   "execution_count": 136,
   "metadata": {},
   "outputs": [
    {
     "ename": "ValueError",
     "evalue": "Shape of passed values is (379350, 1), indices imply (379350, 98097)",
     "output_type": "error",
     "traceback": [
      "\u001b[0;31m---------------------------------------------------------------------------\u001b[0m",
      "\u001b[0;31mValueError\u001b[0m                                Traceback (most recent call last)",
      "\u001b[0;32m~/anaconda3/envs/my_env/lib/python3.7/site-packages/pandas/core/internals/managers.py\u001b[0m in \u001b[0;36mcreate_block_manager_from_blocks\u001b[0;34m(blocks, axes)\u001b[0m\n\u001b[1;32m   1677\u001b[0m                 blocks = [\n\u001b[0;32m-> 1678\u001b[0;31m                     \u001b[0mmake_block\u001b[0m\u001b[0;34m(\u001b[0m\u001b[0mvalues\u001b[0m\u001b[0;34m=\u001b[0m\u001b[0mblocks\u001b[0m\u001b[0;34m[\u001b[0m\u001b[0;36m0\u001b[0m\u001b[0;34m]\u001b[0m\u001b[0;34m,\u001b[0m \u001b[0mplacement\u001b[0m\u001b[0;34m=\u001b[0m\u001b[0mslice\u001b[0m\u001b[0;34m(\u001b[0m\u001b[0;36m0\u001b[0m\u001b[0;34m,\u001b[0m \u001b[0mlen\u001b[0m\u001b[0;34m(\u001b[0m\u001b[0maxes\u001b[0m\u001b[0;34m[\u001b[0m\u001b[0;36m0\u001b[0m\u001b[0;34m]\u001b[0m\u001b[0;34m)\u001b[0m\u001b[0;34m)\u001b[0m\u001b[0;34m)\u001b[0m\u001b[0;34m\u001b[0m\u001b[0;34m\u001b[0m\u001b[0m\n\u001b[0m\u001b[1;32m   1679\u001b[0m                 ]\n",
      "\u001b[0;32m~/anaconda3/envs/my_env/lib/python3.7/site-packages/pandas/core/internals/blocks.py\u001b[0m in \u001b[0;36mmake_block\u001b[0;34m(values, placement, klass, ndim, dtype, fastpath)\u001b[0m\n\u001b[1;32m   3283\u001b[0m \u001b[0;34m\u001b[0m\u001b[0m\n\u001b[0;32m-> 3284\u001b[0;31m     \u001b[0;32mreturn\u001b[0m \u001b[0mklass\u001b[0m\u001b[0;34m(\u001b[0m\u001b[0mvalues\u001b[0m\u001b[0;34m,\u001b[0m \u001b[0mndim\u001b[0m\u001b[0;34m=\u001b[0m\u001b[0mndim\u001b[0m\u001b[0;34m,\u001b[0m \u001b[0mplacement\u001b[0m\u001b[0;34m=\u001b[0m\u001b[0mplacement\u001b[0m\u001b[0;34m)\u001b[0m\u001b[0;34m\u001b[0m\u001b[0;34m\u001b[0m\u001b[0m\n\u001b[0m\u001b[1;32m   3285\u001b[0m \u001b[0;34m\u001b[0m\u001b[0m\n",
      "\u001b[0;32m~/anaconda3/envs/my_env/lib/python3.7/site-packages/pandas/core/internals/blocks.py\u001b[0m in \u001b[0;36m__init__\u001b[0;34m(self, values, placement, ndim)\u001b[0m\n\u001b[1;32m   2791\u001b[0m \u001b[0;34m\u001b[0m\u001b[0m\n\u001b[0;32m-> 2792\u001b[0;31m         \u001b[0msuper\u001b[0m\u001b[0;34m(\u001b[0m\u001b[0;34m)\u001b[0m\u001b[0;34m.\u001b[0m\u001b[0m__init__\u001b[0m\u001b[0;34m(\u001b[0m\u001b[0mvalues\u001b[0m\u001b[0;34m,\u001b[0m \u001b[0mndim\u001b[0m\u001b[0;34m=\u001b[0m\u001b[0mndim\u001b[0m\u001b[0;34m,\u001b[0m \u001b[0mplacement\u001b[0m\u001b[0;34m=\u001b[0m\u001b[0mplacement\u001b[0m\u001b[0;34m)\u001b[0m\u001b[0;34m\u001b[0m\u001b[0;34m\u001b[0m\u001b[0m\n\u001b[0m\u001b[1;32m   2793\u001b[0m \u001b[0;34m\u001b[0m\u001b[0m\n",
      "\u001b[0;32m~/anaconda3/envs/my_env/lib/python3.7/site-packages/pandas/core/internals/blocks.py\u001b[0m in \u001b[0;36m__init__\u001b[0;34m(self, values, placement, ndim)\u001b[0m\n\u001b[1;32m    127\u001b[0m                 \u001b[0;34m\"Wrong number of items passed {val}, placement implies \"\u001b[0m\u001b[0;34m\u001b[0m\u001b[0;34m\u001b[0m\u001b[0m\n\u001b[0;32m--> 128\u001b[0;31m                 \u001b[0;34m\"{mgr}\"\u001b[0m\u001b[0;34m.\u001b[0m\u001b[0mformat\u001b[0m\u001b[0;34m(\u001b[0m\u001b[0mval\u001b[0m\u001b[0;34m=\u001b[0m\u001b[0mlen\u001b[0m\u001b[0;34m(\u001b[0m\u001b[0mself\u001b[0m\u001b[0;34m.\u001b[0m\u001b[0mvalues\u001b[0m\u001b[0;34m)\u001b[0m\u001b[0;34m,\u001b[0m \u001b[0mmgr\u001b[0m\u001b[0;34m=\u001b[0m\u001b[0mlen\u001b[0m\u001b[0;34m(\u001b[0m\u001b[0mself\u001b[0m\u001b[0;34m.\u001b[0m\u001b[0mmgr_locs\u001b[0m\u001b[0;34m)\u001b[0m\u001b[0;34m)\u001b[0m\u001b[0;34m\u001b[0m\u001b[0;34m\u001b[0m\u001b[0m\n\u001b[0m\u001b[1;32m    129\u001b[0m             )\n",
      "\u001b[0;31mValueError\u001b[0m: Wrong number of items passed 1, placement implies 98097",
      "\nDuring handling of the above exception, another exception occurred:\n",
      "\u001b[0;31mValueError\u001b[0m                                Traceback (most recent call last)",
      "\u001b[0;32m<ipython-input-136-0cb4421c144e>\u001b[0m in \u001b[0;36m<module>\u001b[0;34m\u001b[0m\n\u001b[0;32m----> 1\u001b[0;31m \u001b[0mcv_dataframe\u001b[0m\u001b[0;34m=\u001b[0m\u001b[0mpd\u001b[0m\u001b[0;34m.\u001b[0m\u001b[0mDataFrame\u001b[0m\u001b[0;34m(\u001b[0m\u001b[0mX\u001b[0m\u001b[0;34m,\u001b[0m\u001b[0mcolumns\u001b[0m\u001b[0;34m=\u001b[0m\u001b[0mvectorizer\u001b[0m\u001b[0;34m.\u001b[0m\u001b[0mget_feature_names\u001b[0m\u001b[0;34m(\u001b[0m\u001b[0;34m)\u001b[0m\u001b[0;34m)\u001b[0m\u001b[0;34m\u001b[0m\u001b[0;34m\u001b[0m\u001b[0m\n\u001b[0m",
      "\u001b[0;32m~/anaconda3/envs/my_env/lib/python3.7/site-packages/pandas/core/frame.py\u001b[0m in \u001b[0;36m__init__\u001b[0;34m(self, data, index, columns, dtype, copy)\u001b[0m\n\u001b[1;32m    462\u001b[0m                     \u001b[0mmgr\u001b[0m \u001b[0;34m=\u001b[0m \u001b[0marrays_to_mgr\u001b[0m\u001b[0;34m(\u001b[0m\u001b[0marrays\u001b[0m\u001b[0;34m,\u001b[0m \u001b[0mcolumns\u001b[0m\u001b[0;34m,\u001b[0m \u001b[0mindex\u001b[0m\u001b[0;34m,\u001b[0m \u001b[0mcolumns\u001b[0m\u001b[0;34m,\u001b[0m \u001b[0mdtype\u001b[0m\u001b[0;34m=\u001b[0m\u001b[0mdtype\u001b[0m\u001b[0;34m)\u001b[0m\u001b[0;34m\u001b[0m\u001b[0;34m\u001b[0m\u001b[0m\n\u001b[1;32m    463\u001b[0m                 \u001b[0;32melse\u001b[0m\u001b[0;34m:\u001b[0m\u001b[0;34m\u001b[0m\u001b[0;34m\u001b[0m\u001b[0m\n\u001b[0;32m--> 464\u001b[0;31m                     \u001b[0mmgr\u001b[0m \u001b[0;34m=\u001b[0m \u001b[0minit_ndarray\u001b[0m\u001b[0;34m(\u001b[0m\u001b[0mdata\u001b[0m\u001b[0;34m,\u001b[0m \u001b[0mindex\u001b[0m\u001b[0;34m,\u001b[0m \u001b[0mcolumns\u001b[0m\u001b[0;34m,\u001b[0m \u001b[0mdtype\u001b[0m\u001b[0;34m=\u001b[0m\u001b[0mdtype\u001b[0m\u001b[0;34m,\u001b[0m \u001b[0mcopy\u001b[0m\u001b[0;34m=\u001b[0m\u001b[0mcopy\u001b[0m\u001b[0;34m)\u001b[0m\u001b[0;34m\u001b[0m\u001b[0;34m\u001b[0m\u001b[0m\n\u001b[0m\u001b[1;32m    465\u001b[0m             \u001b[0;32melse\u001b[0m\u001b[0;34m:\u001b[0m\u001b[0;34m\u001b[0m\u001b[0;34m\u001b[0m\u001b[0m\n\u001b[1;32m    466\u001b[0m                 \u001b[0mmgr\u001b[0m \u001b[0;34m=\u001b[0m \u001b[0minit_dict\u001b[0m\u001b[0;34m(\u001b[0m\u001b[0;34m{\u001b[0m\u001b[0;34m}\u001b[0m\u001b[0;34m,\u001b[0m \u001b[0mindex\u001b[0m\u001b[0;34m,\u001b[0m \u001b[0mcolumns\u001b[0m\u001b[0;34m,\u001b[0m \u001b[0mdtype\u001b[0m\u001b[0;34m=\u001b[0m\u001b[0mdtype\u001b[0m\u001b[0;34m)\u001b[0m\u001b[0;34m\u001b[0m\u001b[0;34m\u001b[0m\u001b[0m\n",
      "\u001b[0;32m~/anaconda3/envs/my_env/lib/python3.7/site-packages/pandas/core/internals/construction.py\u001b[0m in \u001b[0;36minit_ndarray\u001b[0;34m(values, index, columns, dtype, copy)\u001b[0m\n\u001b[1;32m    211\u001b[0m         \u001b[0mblock_values\u001b[0m \u001b[0;34m=\u001b[0m \u001b[0;34m[\u001b[0m\u001b[0mvalues\u001b[0m\u001b[0;34m]\u001b[0m\u001b[0;34m\u001b[0m\u001b[0;34m\u001b[0m\u001b[0m\n\u001b[1;32m    212\u001b[0m \u001b[0;34m\u001b[0m\u001b[0m\n\u001b[0;32m--> 213\u001b[0;31m     \u001b[0;32mreturn\u001b[0m \u001b[0mcreate_block_manager_from_blocks\u001b[0m\u001b[0;34m(\u001b[0m\u001b[0mblock_values\u001b[0m\u001b[0;34m,\u001b[0m \u001b[0;34m[\u001b[0m\u001b[0mcolumns\u001b[0m\u001b[0;34m,\u001b[0m \u001b[0mindex\u001b[0m\u001b[0;34m]\u001b[0m\u001b[0;34m)\u001b[0m\u001b[0;34m\u001b[0m\u001b[0;34m\u001b[0m\u001b[0m\n\u001b[0m\u001b[1;32m    214\u001b[0m \u001b[0;34m\u001b[0m\u001b[0m\n\u001b[1;32m    215\u001b[0m \u001b[0;34m\u001b[0m\u001b[0m\n",
      "\u001b[0;32m~/anaconda3/envs/my_env/lib/python3.7/site-packages/pandas/core/internals/managers.py\u001b[0m in \u001b[0;36mcreate_block_manager_from_blocks\u001b[0;34m(blocks, axes)\u001b[0m\n\u001b[1;32m   1686\u001b[0m         \u001b[0mblocks\u001b[0m \u001b[0;34m=\u001b[0m \u001b[0;34m[\u001b[0m\u001b[0mgetattr\u001b[0m\u001b[0;34m(\u001b[0m\u001b[0mb\u001b[0m\u001b[0;34m,\u001b[0m \u001b[0;34m\"values\"\u001b[0m\u001b[0;34m,\u001b[0m \u001b[0mb\u001b[0m\u001b[0;34m)\u001b[0m \u001b[0;32mfor\u001b[0m \u001b[0mb\u001b[0m \u001b[0;32min\u001b[0m \u001b[0mblocks\u001b[0m\u001b[0;34m]\u001b[0m\u001b[0;34m\u001b[0m\u001b[0;34m\u001b[0m\u001b[0m\n\u001b[1;32m   1687\u001b[0m         \u001b[0mtot_items\u001b[0m \u001b[0;34m=\u001b[0m \u001b[0msum\u001b[0m\u001b[0;34m(\u001b[0m\u001b[0mb\u001b[0m\u001b[0;34m.\u001b[0m\u001b[0mshape\u001b[0m\u001b[0;34m[\u001b[0m\u001b[0;36m0\u001b[0m\u001b[0;34m]\u001b[0m \u001b[0;32mfor\u001b[0m \u001b[0mb\u001b[0m \u001b[0;32min\u001b[0m \u001b[0mblocks\u001b[0m\u001b[0;34m)\u001b[0m\u001b[0;34m\u001b[0m\u001b[0;34m\u001b[0m\u001b[0m\n\u001b[0;32m-> 1688\u001b[0;31m         \u001b[0mconstruction_error\u001b[0m\u001b[0;34m(\u001b[0m\u001b[0mtot_items\u001b[0m\u001b[0;34m,\u001b[0m \u001b[0mblocks\u001b[0m\u001b[0;34m[\u001b[0m\u001b[0;36m0\u001b[0m\u001b[0;34m]\u001b[0m\u001b[0;34m.\u001b[0m\u001b[0mshape\u001b[0m\u001b[0;34m[\u001b[0m\u001b[0;36m1\u001b[0m\u001b[0;34m:\u001b[0m\u001b[0;34m]\u001b[0m\u001b[0;34m,\u001b[0m \u001b[0maxes\u001b[0m\u001b[0;34m,\u001b[0m \u001b[0me\u001b[0m\u001b[0;34m)\u001b[0m\u001b[0;34m\u001b[0m\u001b[0;34m\u001b[0m\u001b[0m\n\u001b[0m\u001b[1;32m   1689\u001b[0m \u001b[0;34m\u001b[0m\u001b[0m\n\u001b[1;32m   1690\u001b[0m \u001b[0;34m\u001b[0m\u001b[0m\n",
      "\u001b[0;32m~/anaconda3/envs/my_env/lib/python3.7/site-packages/pandas/core/internals/managers.py\u001b[0m in \u001b[0;36mconstruction_error\u001b[0;34m(tot_items, block_shape, axes, e)\u001b[0m\n\u001b[1;32m   1717\u001b[0m         \u001b[0;32mraise\u001b[0m \u001b[0mValueError\u001b[0m\u001b[0;34m(\u001b[0m\u001b[0;34m\"Empty data passed with indices specified.\"\u001b[0m\u001b[0;34m)\u001b[0m\u001b[0;34m\u001b[0m\u001b[0;34m\u001b[0m\u001b[0m\n\u001b[1;32m   1718\u001b[0m     raise ValueError(\n\u001b[0;32m-> 1719\u001b[0;31m         \u001b[0;34m\"Shape of passed values is {0}, indices imply {1}\"\u001b[0m\u001b[0;34m.\u001b[0m\u001b[0mformat\u001b[0m\u001b[0;34m(\u001b[0m\u001b[0mpassed\u001b[0m\u001b[0;34m,\u001b[0m \u001b[0mimplied\u001b[0m\u001b[0;34m)\u001b[0m\u001b[0;34m\u001b[0m\u001b[0;34m\u001b[0m\u001b[0m\n\u001b[0m\u001b[1;32m   1720\u001b[0m     )\n\u001b[1;32m   1721\u001b[0m \u001b[0;34m\u001b[0m\u001b[0m\n",
      "\u001b[0;31mValueError\u001b[0m: Shape of passed values is (379350, 1), indices imply (379350, 98097)"
     ]
    }
   ],
   "source": [
    "cv_dataframe=pd.DataFrame(X,columns=vectorizer.get_feature_names())"
   ]
  },
  {
   "cell_type": "code",
   "execution_count": 128,
   "metadata": {},
   "outputs": [
    {
     "ename": "ValueError",
     "evalue": "Iterable over raw text documents expected, string object received.",
     "output_type": "error",
     "traceback": [
      "\u001b[0;31m---------------------------------------------------------------------------\u001b[0m",
      "\u001b[0;31mValueError\u001b[0m                                Traceback (most recent call last)",
      "\u001b[0;32m<ipython-input-128-2a7844978e23>\u001b[0m in \u001b[0;36m<module>\u001b[0;34m\u001b[0m\n\u001b[0;32m----> 1\u001b[0;31m \u001b[0mwd1\u001b[0m \u001b[0;34m=\u001b[0m \u001b[0mvectorizer\u001b[0m\u001b[0;34m.\u001b[0m\u001b[0mtransform\u001b[0m\u001b[0;34m(\u001b[0m\u001b[0;34m\"covid19\"\u001b[0m\u001b[0;34m)\u001b[0m\u001b[0;34m.\u001b[0m\u001b[0mtoarray\u001b[0m\u001b[0;34m(\u001b[0m\u001b[0;34m)\u001b[0m\u001b[0;34m\u001b[0m\u001b[0;34m\u001b[0m\u001b[0m\n\u001b[0m\u001b[1;32m      2\u001b[0m \u001b[0mwd2\u001b[0m \u001b[0;34m=\u001b[0m \u001b[0mvectorizer\u001b[0m\u001b[0;34m.\u001b[0m\u001b[0mtransform\u001b[0m\u001b[0;34m(\u001b[0m\u001b[0;34m[\u001b[0m\u001b[0;34m\"china\"\u001b[0m\u001b[0;34m]\u001b[0m\u001b[0;34m)\u001b[0m\u001b[0;34m.\u001b[0m\u001b[0mtoarray\u001b[0m\u001b[0;34m(\u001b[0m\u001b[0;34m)\u001b[0m\u001b[0;34m\u001b[0m\u001b[0;34m\u001b[0m\u001b[0m\n",
      "\u001b[0;32m~/anaconda3/envs/my_env/lib/python3.7/site-packages/sklearn/feature_extraction/text.py\u001b[0m in \u001b[0;36mtransform\u001b[0;34m(self, raw_documents)\u001b[0m\n\u001b[1;32m   1243\u001b[0m         \u001b[0;32mif\u001b[0m \u001b[0misinstance\u001b[0m\u001b[0;34m(\u001b[0m\u001b[0mraw_documents\u001b[0m\u001b[0;34m,\u001b[0m \u001b[0mstr\u001b[0m\u001b[0;34m)\u001b[0m\u001b[0;34m:\u001b[0m\u001b[0;34m\u001b[0m\u001b[0;34m\u001b[0m\u001b[0m\n\u001b[1;32m   1244\u001b[0m             raise ValueError(\n\u001b[0;32m-> 1245\u001b[0;31m                 \u001b[0;34m\"Iterable over raw text documents expected, \"\u001b[0m\u001b[0;34m\u001b[0m\u001b[0;34m\u001b[0m\u001b[0m\n\u001b[0m\u001b[1;32m   1246\u001b[0m                 \"string object received.\")\n\u001b[1;32m   1247\u001b[0m         \u001b[0mself\u001b[0m\u001b[0;34m.\u001b[0m\u001b[0m_check_vocabulary\u001b[0m\u001b[0;34m(\u001b[0m\u001b[0;34m)\u001b[0m\u001b[0;34m\u001b[0m\u001b[0;34m\u001b[0m\u001b[0m\n",
      "\u001b[0;31mValueError\u001b[0m: Iterable over raw text documents expected, string object received."
     ]
    }
   ],
   "source": [
    "wd1 = vectorizer.transform(\"covid19\").toarray()\n",
    "wd2 = vectorizer.transform([\"china\"]).toarray()"
   ]
  },
  {
   "cell_type": "code",
   "execution_count": 127,
   "metadata": {},
   "outputs": [
    {
     "data": {
      "text/plain": [
       "array([[0, 0, 0, ..., 0, 0, 0]])"
      ]
     },
     "execution_count": 127,
     "metadata": {},
     "output_type": "execute_result"
    }
   ],
   "source": [
    "wd2"
   ]
  },
  {
   "cell_type": "code",
   "execution_count": 141,
   "metadata": {},
   "outputs": [
    {
     "ename": "MemoryError",
     "evalue": "Unable to allocate array with shape (379350, 379350) and data type float64",
     "output_type": "error",
     "traceback": [
      "\u001b[0;31m---------------------------------------------------------------------------\u001b[0m",
      "\u001b[0;31mMemoryError\u001b[0m                               Traceback (most recent call last)",
      "\u001b[0;32m<ipython-input-141-6040543d4361>\u001b[0m in \u001b[0;36m<module>\u001b[0;34m\u001b[0m\n\u001b[0;32m----> 1\u001b[0;31m \u001b[0mcosine_similarity\u001b[0m\u001b[0;34m(\u001b[0m\u001b[0mX\u001b[0m\u001b[0;34m[\u001b[0m\u001b[0;34m:\u001b[0m\u001b[0;34m,\u001b[0m \u001b[0;36m1\u001b[0m\u001b[0;34m]\u001b[0m\u001b[0;34m.\u001b[0m\u001b[0mtoarray\u001b[0m\u001b[0;34m(\u001b[0m\u001b[0;34m)\u001b[0m\u001b[0;34m,\u001b[0m \u001b[0mX\u001b[0m\u001b[0;34m[\u001b[0m\u001b[0;34m:\u001b[0m\u001b[0;34m,\u001b[0m \u001b[0;36m2\u001b[0m\u001b[0;34m]\u001b[0m\u001b[0;34m.\u001b[0m\u001b[0mtoarray\u001b[0m\u001b[0;34m(\u001b[0m\u001b[0;34m)\u001b[0m\u001b[0;34m)\u001b[0m\u001b[0;34m.\u001b[0m\u001b[0mflatten\u001b[0m\u001b[0;34m(\u001b[0m\u001b[0;34m)\u001b[0m\u001b[0;34m\u001b[0m\u001b[0;34m\u001b[0m\u001b[0m\n\u001b[0m",
      "\u001b[0;32m~/anaconda3/envs/my_env/lib/python3.7/site-packages/sklearn/metrics/pairwise.py\u001b[0m in \u001b[0;36mcosine_similarity\u001b[0;34m(X, Y, dense_output)\u001b[0m\n\u001b[1;32m   1186\u001b[0m \u001b[0;34m\u001b[0m\u001b[0m\n\u001b[1;32m   1187\u001b[0m     K = safe_sparse_dot(X_normalized, Y_normalized.T,\n\u001b[0;32m-> 1188\u001b[0;31m                         dense_output=dense_output)\n\u001b[0m\u001b[1;32m   1189\u001b[0m \u001b[0;34m\u001b[0m\u001b[0m\n\u001b[1;32m   1190\u001b[0m     \u001b[0;32mreturn\u001b[0m \u001b[0mK\u001b[0m\u001b[0;34m\u001b[0m\u001b[0;34m\u001b[0m\u001b[0m\n",
      "\u001b[0;32m~/anaconda3/envs/my_env/lib/python3.7/site-packages/sklearn/utils/validation.py\u001b[0m in \u001b[0;36minner_f\u001b[0;34m(*args, **kwargs)\u001b[0m\n\u001b[1;32m     70\u001b[0m                           FutureWarning)\n\u001b[1;32m     71\u001b[0m         \u001b[0mkwargs\u001b[0m\u001b[0;34m.\u001b[0m\u001b[0mupdate\u001b[0m\u001b[0;34m(\u001b[0m\u001b[0;34m{\u001b[0m\u001b[0mk\u001b[0m\u001b[0;34m:\u001b[0m \u001b[0marg\u001b[0m \u001b[0;32mfor\u001b[0m \u001b[0mk\u001b[0m\u001b[0;34m,\u001b[0m \u001b[0marg\u001b[0m \u001b[0;32min\u001b[0m \u001b[0mzip\u001b[0m\u001b[0;34m(\u001b[0m\u001b[0msig\u001b[0m\u001b[0;34m.\u001b[0m\u001b[0mparameters\u001b[0m\u001b[0;34m,\u001b[0m \u001b[0margs\u001b[0m\u001b[0;34m)\u001b[0m\u001b[0;34m}\u001b[0m\u001b[0;34m)\u001b[0m\u001b[0;34m\u001b[0m\u001b[0;34m\u001b[0m\u001b[0m\n\u001b[0;32m---> 72\u001b[0;31m         \u001b[0;32mreturn\u001b[0m \u001b[0mf\u001b[0m\u001b[0;34m(\u001b[0m\u001b[0;34m**\u001b[0m\u001b[0mkwargs\u001b[0m\u001b[0;34m)\u001b[0m\u001b[0;34m\u001b[0m\u001b[0;34m\u001b[0m\u001b[0m\n\u001b[0m\u001b[1;32m     73\u001b[0m     \u001b[0;32mreturn\u001b[0m \u001b[0minner_f\u001b[0m\u001b[0;34m\u001b[0m\u001b[0;34m\u001b[0m\u001b[0m\n\u001b[1;32m     74\u001b[0m \u001b[0;34m\u001b[0m\u001b[0m\n",
      "\u001b[0;32m~/anaconda3/envs/my_env/lib/python3.7/site-packages/sklearn/utils/extmath.py\u001b[0m in \u001b[0;36msafe_sparse_dot\u001b[0;34m(a, b, dense_output)\u001b[0m\n\u001b[1;32m    151\u001b[0m             \u001b[0mret\u001b[0m \u001b[0;34m=\u001b[0m \u001b[0mnp\u001b[0m\u001b[0;34m.\u001b[0m\u001b[0mdot\u001b[0m\u001b[0;34m(\u001b[0m\u001b[0ma\u001b[0m\u001b[0;34m,\u001b[0m \u001b[0mb\u001b[0m\u001b[0;34m)\u001b[0m\u001b[0;34m\u001b[0m\u001b[0;34m\u001b[0m\u001b[0m\n\u001b[1;32m    152\u001b[0m     \u001b[0;32melse\u001b[0m\u001b[0;34m:\u001b[0m\u001b[0;34m\u001b[0m\u001b[0;34m\u001b[0m\u001b[0m\n\u001b[0;32m--> 153\u001b[0;31m         \u001b[0mret\u001b[0m \u001b[0;34m=\u001b[0m \u001b[0ma\u001b[0m \u001b[0;34m@\u001b[0m \u001b[0mb\u001b[0m\u001b[0;34m\u001b[0m\u001b[0;34m\u001b[0m\u001b[0m\n\u001b[0m\u001b[1;32m    154\u001b[0m \u001b[0;34m\u001b[0m\u001b[0m\n\u001b[1;32m    155\u001b[0m     if (sparse.issparse(a) and sparse.issparse(b)\n",
      "\u001b[0;31mMemoryError\u001b[0m: Unable to allocate array with shape (379350, 379350) and data type float64"
     ]
    }
   ],
   "source": [
    "cosine_similarity(X[:, 1].toarray(), X[:, 2].toarray()).flatten()\n"
   ]
  },
  {
   "cell_type": "code",
   "execution_count": 110,
   "metadata": {},
   "outputs": [
    {
     "data": {
      "text/plain": [
       "21265"
      ]
     },
     "execution_count": 110,
     "metadata": {},
     "output_type": "execute_result"
    }
   ],
   "source": [
    "vectorizer.vocabulary_.get('covid19')"
   ]
  },
  {
   "cell_type": "code",
   "execution_count": 112,
   "metadata": {},
   "outputs": [
    {
     "data": {
      "text/plain": [
       "<bound method _cs_matrix.toarray of <379350x1 sparse matrix of type '<class 'numpy.int64'>'\n",
       "\twith 350605 stored elements in Compressed Sparse Row format>>"
      ]
     },
     "execution_count": 112,
     "metadata": {},
     "output_type": "execute_result"
    }
   ],
   "source": [
    "X[:, 21265].toarray"
   ]
  },
  {
   "cell_type": "code",
   "execution_count": null,
   "metadata": {},
   "outputs": [],
   "source": [
    "sklearn.metrics.pairwise.cosine_similarity(X, Y=None, dense_output=True)[source]¶"
   ]
  }
 ],
 "metadata": {
  "kernelspec": {
   "display_name": "Python 3",
   "language": "python",
   "name": "python3"
  },
  "language_info": {
   "codemirror_mode": {
    "name": "ipython",
    "version": 3
   },
   "file_extension": ".py",
   "mimetype": "text/x-python",
   "name": "python",
   "nbconvert_exporter": "python",
   "pygments_lexer": "ipython3",
   "version": "3.7.5"
  }
 },
 "nbformat": 4,
 "nbformat_minor": 2
}
