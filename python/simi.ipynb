{
 "cells": [
  {
   "cell_type": "code",
   "execution_count": 13,
   "metadata": {},
   "outputs": [],
   "source": [
    "import pickle\n",
    "from scipy.sparse import csr_matrix, load_npz, save_npz, linalg\n",
    "from scipy.spatial.distance import cosine as cosine_distance\n",
    "import numpy as np\n",
    "import logging\n",
    "from utils_ import Space"
   ]
  },
  {
   "cell_type": "code",
   "execution_count": 21,
   "metadata": {},
   "outputs": [],
   "source": [
    "space1 = Space(\"../results/tweets_multi.npz\", format='npz') "
   ]
  },
  {
   "cell_type": "code",
   "execution_count": 22,
   "metadata": {},
   "outputs": [
    {
     "data": {
      "text/plain": [
       "18297"
      ]
     },
     "execution_count": 22,
     "metadata": {},
     "output_type": "execute_result"
    }
   ],
   "source": [
    "row2id1 = space1.row2id\n",
    "row2id1[\"covid19\"]"
   ]
  },
  {
   "cell_type": "code",
   "execution_count": 23,
   "metadata": {},
   "outputs": [
    {
     "data": {
      "text/plain": [
       "<83434x100 sparse matrix of type '<class 'numpy.float64'>'\n",
       "\twith 915495 stored elements in Compressed Sparse Row format>"
      ]
     },
     "execution_count": 23,
     "metadata": {},
     "output_type": "execute_result"
    }
   ],
   "source": [
    "matrix1 = space1.matrix\n",
    "matrix1"
   ]
  },
  {
   "cell_type": "code",
   "execution_count": 33,
   "metadata": {},
   "outputs": [],
   "source": [
    "v1 = matrix1[row2id1[\"covid19\"]].toarray().flatten()\n",
    "v2 = matrix1[row2id1[\"front\"]].toarray().flatten()"
   ]
  },
  {
   "cell_type": "code",
   "execution_count": 34,
   "metadata": {},
   "outputs": [
    {
     "data": {
      "text/plain": [
       "array([ 2.56293214e+03,  1.38955790e+04,  2.75328254e+03,  1.94735255e+04,\n",
       "        7.22821645e+03,  2.46775694e+03,  1.45312134e+03,  1.11320992e+03,\n",
       "       -2.55035542e+04, -3.95996810e+02, -6.32065294e+03,  3.44194309e+04,\n",
       "        1.27993647e+04, -2.82534376e+04,  1.28469523e+04, -6.84683583e+04,\n",
       "       -8.05760032e+03, -6.29006092e+03, -3.56906996e+01,  1.46008953e+04,\n",
       "        5.02898953e+03, -1.93919468e+03,  1.29710200e+04, -2.25905133e+04,\n",
       "       -1.89211695e+04, -1.01599525e+04, -5.03748732e+03, -3.51808325e+02,\n",
       "        2.91779967e+04,  1.93919468e+03,  3.58079690e+04,  1.43850515e+04,\n",
       "        7.44592972e+04, -2.71028375e+04,  4.89472452e+03, -6.42432593e+02,\n",
       "       -5.26862708e+01,  4.10782957e+03, -2.37428130e+03,  3.82060441e+04,\n",
       "        8.61675462e+03, -2.02961112e+04, -1.80289020e+04,  4.84373780e+02,\n",
       "        1.53979875e+03,  2.16013710e+03,  1.55033601e+04,  6.72174843e+03,\n",
       "        8.50628341e+03,  1.18170207e+04,  4.69077766e+02,  6.69625507e+03,\n",
       "        2.15503843e+03, -2.67000424e+03,  2.52384233e+03, -1.49221115e+03,\n",
       "       -4.11292824e+02,  1.42847776e+04,  1.36814348e+03,  1.65213948e+04,\n",
       "        5.09867137e+00, -3.28864303e+04,  1.14822079e+04, -1.79626192e+04,\n",
       "       -7.14833726e+03, -4.57180866e+03, -9.85743132e+02, -3.14927935e+03,\n",
       "       -4.30837731e+03, -8.13917907e+03,  9.00595320e+03,  3.20536474e+03,\n",
       "        1.68766022e+04, -1.76244074e+03, -9.87612645e+03, -2.02077342e+03,\n",
       "        6.47871176e+03,  4.41884852e+01, -2.03029094e+04, -1.61695865e+04,\n",
       "        2.52044321e+03, -1.21688290e+03, -8.28534098e+03,  7.43386286e+03,\n",
       "       -3.17851173e+04,  2.77027811e+03,  2.41677023e+03,  7.90294063e+02,\n",
       "       -1.52620230e+03,  4.86073337e+03,  3.86989157e+03, -3.96166766e+03,\n",
       "        1.29200333e+04, -6.49128848e+04,  1.44751280e+04, -1.57650919e+04,\n",
       "       -3.72712877e+03, -8.16977109e+03,  1.29863160e+04,  4.87093072e+03])"
      ]
     },
     "execution_count": 34,
     "metadata": {},
     "output_type": "execute_result"
    }
   ],
   "source": [
    "v1"
   ]
  },
  {
   "cell_type": "code",
   "execution_count": 30,
   "metadata": {},
   "outputs": [
    {
     "data": {
      "text/plain": [
       "0.2942597801783211"
      ]
     },
     "execution_count": 30,
     "metadata": {},
     "output_type": "execute_result"
    }
   ],
   "source": [
    "cosine_distance(v1, v2)"
   ]
  },
  {
   "cell_type": "code",
   "execution_count": null,
   "metadata": {},
   "outputs": [],
   "source": []
  }
 ],
 "metadata": {
  "kernelspec": {
   "display_name": "Python 3",
   "language": "python",
   "name": "python3"
  },
  "language_info": {
   "codemirror_mode": {
    "name": "ipython",
    "version": 3
   },
   "file_extension": ".py",
   "mimetype": "text/x-python",
   "name": "python",
   "nbconvert_exporter": "python",
   "pygments_lexer": "ipython3",
   "version": "3.7.5"
  }
 },
 "nbformat": 4,
 "nbformat_minor": 2
}
