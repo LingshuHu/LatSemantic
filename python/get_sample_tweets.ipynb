{
 "cells": [
  {
   "cell_type": "code",
   "execution_count": 2,
   "id": "6369f1eb",
   "metadata": {},
   "outputs": [],
   "source": [
    "import numpy as np\n",
    "import pandas as pd\n",
    "import re\n",
    "import os\n",
    "import string\n",
    "import json"
   ]
  },
  {
   "cell_type": "code",
   "execution_count": 3,
   "id": "93fe8a28",
   "metadata": {},
   "outputs": [
    {
     "data": {
      "text/plain": [
       "['covid_usa_week01_2020-01-24.csv',\n",
       " 'covid_usa_week02_2020-01-31.csv',\n",
       " 'covid_usa_week03_2020-02-07.csv',\n",
       " 'covid_usa_week04_2020-02-14.csv',\n",
       " 'covid_usa_week05_2020-02-21.csv',\n",
       " 'covid_usa_week06_2020-02-28.csv',\n",
       " 'covid_usa_week07_2020-03-06.csv',\n",
       " 'covid_usa_week08_2020-03-13.csv',\n",
       " 'covid_usa_week09_2020-03-20.csv',\n",
       " 'covid_usa_week10_2020-03-27.csv',\n",
       " 'covid_usa_week11_2020-04-03.csv',\n",
       " 'covid_usa_week12_2020-04-10.csv',\n",
       " 'covid_usa_week13_2020-04-17.csv',\n",
       " 'covid_usa_week14_2020-04-24.csv',\n",
       " 'covid_usa_week15_2020-05-01.csv',\n",
       " 'covid_usa_week16_2020-05-08.csv',\n",
       " 'covid_usa_week17_2020-05-15.csv',\n",
       " 'covid_usa_week18_2020-05-22.csv',\n",
       " 'covid_usa_week19_2020-05-29.csv',\n",
       " 'covid_usa_week20_2020-06-05.csv',\n",
       " 'covid_usa_week21_2020-06-12.csv',\n",
       " 'covid_usa_week22_2020-06-19.csv',\n",
       " 'covid_usa_week23_2020-06-26.csv',\n",
       " 'covid_usa_week24_2020-07-03.csv',\n",
       " 'covid_usa_week25_2020-07-10.csv',\n",
       " 'covid_usa_week26_2020-07-17.csv',\n",
       " 'covid_usa_week27_2020-07-24.csv',\n",
       " 'covid_usa_week28_2020-07-31.csv',\n",
       " 'covid_usa_week29_2020-08-07.csv',\n",
       " 'covid_usa_week30_2020-08-14.csv',\n",
       " 'covid_usa_week31_2020-08-21.csv',\n",
       " 'covid_usa_week32_2020-08-28.csv',\n",
       " 'covid_usa_week33_2020-09-04.csv',\n",
       " 'covid_usa_week34_2020-09-11.csv',\n",
       " 'covid_usa_week35_2020-09-18.csv',\n",
       " 'covid_usa_week36_2020-09-25.csv',\n",
       " 'covid_usa_week37_2020-10-02.csv',\n",
       " 'covid_usa_week38_2020-10-09.csv',\n",
       " 'covid_usa_week39_2020-10-16.csv',\n",
       " 'covid_usa_week40_2020-10-23.csv',\n",
       " 'covid_usa_week41_2020-10-30.csv',\n",
       " 'covid_usa_week42_2020-11-06.csv',\n",
       " 'covid_usa_week43_2020-11-13.csv',\n",
       " 'covid_usa_week44_2020-11-20.csv',\n",
       " 'covid_usa_week45_2020-11-27.csv',\n",
       " 'covid_usa_week46_2020-12-04.csv',\n",
       " 'covid_usa_week47_2020-12-11.csv',\n",
       " 'covid_usa_week48_2020-12-18.csv',\n",
       " 'covid_usa_week49_2020-12-25.csv',\n",
       " 'covid_usa_week50_2021-01-01.csv',\n",
       " 'covid_usa_week51_2021-01-08.csv',\n",
       " 'covid_usa_week52_2021-01-15.csv']"
      ]
     },
     "execution_count": 3,
     "metadata": {},
     "output_type": "execute_result"
    }
   ],
   "source": [
    "files = os.listdir('../data_week/usa')\n",
    "files.sort()\n",
    "files"
   ]
  },
  {
   "cell_type": "code",
   "execution_count": 4,
   "id": "035c9f04",
   "metadata": {},
   "outputs": [
    {
     "name": "stdout",
     "output_type": "stream",
     "text": [
      "covid_usa_week01_2020-01-24.csv\n",
      "covid_usa_week02_2020-01-31.csv\n",
      "covid_usa_week03_2020-02-07.csv\n"
     ]
    },
    {
     "name": "stderr",
     "output_type": "stream",
     "text": [
      "/home/lingshu/anaconda3/envs/ml/lib/python3.9/site-packages/IPython/core/interactiveshell.py:3444: DtypeWarning: Columns (17) have mixed types.Specify dtype option on import or set low_memory=False.\n",
      "  exec(code_obj, self.user_global_ns, self.user_ns)\n"
     ]
    },
    {
     "name": "stdout",
     "output_type": "stream",
     "text": [
      "covid_usa_week04_2020-02-14.csv\n",
      "covid_usa_week05_2020-02-21.csv\n",
      "covid_usa_week06_2020-02-28.csv\n",
      "covid_usa_week07_2020-03-06.csv\n",
      "covid_usa_week08_2020-03-13.csv\n",
      "covid_usa_week09_2020-03-20.csv\n",
      "covid_usa_week10_2020-03-27.csv\n",
      "covid_usa_week11_2020-04-03.csv\n",
      "covid_usa_week12_2020-04-10.csv\n",
      "covid_usa_week13_2020-04-17.csv\n",
      "covid_usa_week14_2020-04-24.csv\n",
      "covid_usa_week15_2020-05-01.csv\n",
      "covid_usa_week16_2020-05-08.csv\n",
      "covid_usa_week17_2020-05-15.csv\n",
      "covid_usa_week18_2020-05-22.csv\n",
      "covid_usa_week19_2020-05-29.csv\n",
      "covid_usa_week20_2020-06-05.csv\n",
      "covid_usa_week21_2020-06-12.csv\n",
      "covid_usa_week22_2020-06-19.csv\n",
      "covid_usa_week23_2020-06-26.csv\n",
      "covid_usa_week24_2020-07-03.csv\n",
      "covid_usa_week25_2020-07-10.csv\n",
      "covid_usa_week26_2020-07-17.csv\n",
      "covid_usa_week27_2020-07-24.csv\n",
      "covid_usa_week28_2020-07-31.csv\n",
      "covid_usa_week29_2020-08-07.csv\n",
      "covid_usa_week30_2020-08-14.csv\n",
      "covid_usa_week31_2020-08-21.csv\n",
      "covid_usa_week32_2020-08-28.csv\n",
      "covid_usa_week33_2020-09-04.csv\n",
      "covid_usa_week34_2020-09-11.csv\n",
      "covid_usa_week35_2020-09-18.csv\n",
      "covid_usa_week36_2020-09-25.csv\n",
      "covid_usa_week37_2020-10-02.csv\n",
      "covid_usa_week38_2020-10-09.csv\n",
      "covid_usa_week39_2020-10-16.csv\n",
      "covid_usa_week40_2020-10-23.csv\n",
      "covid_usa_week41_2020-10-30.csv\n",
      "covid_usa_week42_2020-11-06.csv\n",
      "covid_usa_week43_2020-11-13.csv\n",
      "covid_usa_week44_2020-11-20.csv\n",
      "covid_usa_week45_2020-11-27.csv\n",
      "covid_usa_week46_2020-12-04.csv\n",
      "covid_usa_week47_2020-12-11.csv\n",
      "covid_usa_week48_2020-12-18.csv\n",
      "covid_usa_week49_2020-12-25.csv\n",
      "covid_usa_week50_2021-01-01.csv\n",
      "covid_usa_week51_2021-01-08.csv\n",
      "covid_usa_week52_2021-01-15.csv\n"
     ]
    }
   ],
   "source": [
    "all_samples = []\n",
    "for i in range(len(files)):\n",
    "    print(files[i])\n",
    "    df = pd.read_csv('../data_week/usa/'+files[i], encoding = \"UTF-8\")\n",
    "    dfs = df.sample(round(df.shape[0]*0.005), replace=False, random_state=111)\n",
    "    all_samples.append(dfs)\n",
    "\n",
    "df_all_samples = pd.concat(all_samples)"
   ]
  },
  {
   "cell_type": "code",
   "execution_count": 10,
   "id": "17138afa",
   "metadata": {},
   "outputs": [],
   "source": [
    "df_all_samples.to_csv(\"../data/sample_all_weeks_usa.csv\", index = False)"
   ]
  },
  {
   "cell_type": "code",
   "execution_count": 8,
   "id": "942ced4d",
   "metadata": {},
   "outputs": [],
   "source": [
    "#df_all_samples2 = df_all_samples[~df_all_samples['is_retweet']]"
   ]
  },
  {
   "cell_type": "code",
   "execution_count": 30,
   "id": "4184fc4c",
   "metadata": {},
   "outputs": [],
   "source": [
    "df_all_samples2 = df_all_samples.drop_duplicates(subset=['text'])\n",
    "#df_all_samples2 = df_all_samples2.drop_duplicates(subset=['status_id'])"
   ]
  },
  {
   "cell_type": "code",
   "execution_count": 18,
   "id": "f402b2ec",
   "metadata": {},
   "outputs": [
    {
     "data": {
      "text/plain": [
       "(190937, 90)"
      ]
     },
     "execution_count": 18,
     "metadata": {},
     "output_type": "execute_result"
    }
   ],
   "source": [
    "df_all_samples2.shape"
   ]
  },
  {
   "cell_type": "code",
   "execution_count": 31,
   "id": "f6e53138",
   "metadata": {},
   "outputs": [],
   "source": [
    "df_all_samples2 = df_all_samples2.sample(10000, replace=False, random_state = 111)"
   ]
  },
  {
   "cell_type": "code",
   "execution_count": 32,
   "id": "df5215cd",
   "metadata": {},
   "outputs": [],
   "source": [
    "df_all_samples3 = df_all_samples2.iloc[:,0:5]"
   ]
  },
  {
   "cell_type": "code",
   "execution_count": 33,
   "id": "519552d7",
   "metadata": {},
   "outputs": [],
   "source": [
    "df_all_samples3 = pd.concat([df_all_samples3, df_all_samples2['is_retweet']], axis = 1)"
   ]
  },
  {
   "cell_type": "code",
   "execution_count": 34,
   "id": "1d94cd04",
   "metadata": {},
   "outputs": [
    {
     "data": {
      "text/html": [
       "<div>\n",
       "<style scoped>\n",
       "    .dataframe tbody tr th:only-of-type {\n",
       "        vertical-align: middle;\n",
       "    }\n",
       "\n",
       "    .dataframe tbody tr th {\n",
       "        vertical-align: top;\n",
       "    }\n",
       "\n",
       "    .dataframe thead th {\n",
       "        text-align: right;\n",
       "    }\n",
       "</style>\n",
       "<table border=\"1\" class=\"dataframe\">\n",
       "  <thead>\n",
       "    <tr style=\"text-align: right;\">\n",
       "      <th></th>\n",
       "      <th>user_id</th>\n",
       "      <th>status_id</th>\n",
       "      <th>created_at</th>\n",
       "      <th>screen_name</th>\n",
       "      <th>text</th>\n",
       "      <th>is_retweet</th>\n",
       "    </tr>\n",
       "  </thead>\n",
       "  <tbody>\n",
       "    <tr>\n",
       "      <th>868080</th>\n",
       "      <td>x1375670666</td>\n",
       "      <td>x1336811615417741316</td>\n",
       "      <td>2020-12-09 23:15:00</td>\n",
       "      <td>helmsinki</td>\n",
       "      <td>Deena Hagen, nurse in COVID unit said those wh...</td>\n",
       "      <td>True</td>\n",
       "    </tr>\n",
       "    <tr>\n",
       "      <th>215399</th>\n",
       "      <td>x178995069</td>\n",
       "      <td>x1327708871582908416</td>\n",
       "      <td>2020-11-14 20:23:57</td>\n",
       "      <td>honeylieg</td>\n",
       "      <td>Have you had the coronavirus?</td>\n",
       "      <td>True</td>\n",
       "    </tr>\n",
       "    <tr>\n",
       "      <th>730890</th>\n",
       "      <td>x854122429593128960</td>\n",
       "      <td>x1295796548668973056</td>\n",
       "      <td>2020-08-18 18:55:46</td>\n",
       "      <td>KevinHSharp</td>\n",
       "      <td>The COVID-19 situation in Coleman, FL is far m...</td>\n",
       "      <td>True</td>\n",
       "    </tr>\n",
       "    <tr>\n",
       "      <th>229020</th>\n",
       "      <td>x1006282473263783937</td>\n",
       "      <td>x1228884711008800773</td>\n",
       "      <td>2020-02-16 03:32:01</td>\n",
       "      <td>xdbac0n</td>\n",
       "      <td>Solve the coronavirus by eliminating a certain...</td>\n",
       "      <td>False</td>\n",
       "    </tr>\n",
       "    <tr>\n",
       "      <th>993686</th>\n",
       "      <td>x2421256032</td>\n",
       "      <td>x1234472247466659842</td>\n",
       "      <td>2020-03-02 13:34:53</td>\n",
       "      <td>GingerEvans10</td>\n",
       "      <td>Tonight, I am addressing the nation regarding ...</td>\n",
       "      <td>True</td>\n",
       "    </tr>\n",
       "    <tr>\n",
       "      <th>...</th>\n",
       "      <td>...</td>\n",
       "      <td>...</td>\n",
       "      <td>...</td>\n",
       "      <td>...</td>\n",
       "      <td>...</td>\n",
       "      <td>...</td>\n",
       "    </tr>\n",
       "    <tr>\n",
       "      <th>284915</th>\n",
       "      <td>x1413439514</td>\n",
       "      <td>x1264523382923673602</td>\n",
       "      <td>2020-05-24 11:47:22</td>\n",
       "      <td>BetseyChace</td>\n",
       "      <td>Clara LeBeau writes about the death of her gra...</td>\n",
       "      <td>True</td>\n",
       "    </tr>\n",
       "    <tr>\n",
       "      <th>795746</th>\n",
       "      <td>x1330528548</td>\n",
       "      <td>x1275117206494261248</td>\n",
       "      <td>2020-06-22 17:23:27</td>\n",
       "      <td>AJ4VoteBlue</td>\n",
       "      <td>Amid surge in Florida COVID-19 cases, Fla. Gov...</td>\n",
       "      <td>True</td>\n",
       "    </tr>\n",
       "    <tr>\n",
       "      <th>95499</th>\n",
       "      <td>x759467405810601984</td>\n",
       "      <td>x1228161438784507904</td>\n",
       "      <td>2020-02-14 03:37:59</td>\n",
       "      <td>DebraDuGemini59</td>\n",
       "      <td>Hey @realDonaldTrump  warm weather will not ki...</td>\n",
       "      <td>False</td>\n",
       "    </tr>\n",
       "    <tr>\n",
       "      <th>30720</th>\n",
       "      <td>x460289535</td>\n",
       "      <td>x1223658304620105730</td>\n",
       "      <td>2020-02-01 17:24:08</td>\n",
       "      <td>AnneBarschall</td>\n",
       "      <td>@nytimes @CNN is the number of coronavirus cas...</td>\n",
       "      <td>False</td>\n",
       "    </tr>\n",
       "    <tr>\n",
       "      <th>347483</th>\n",
       "      <td>x132086016</td>\n",
       "      <td>x1302297508643852293</td>\n",
       "      <td>2020-09-05 17:28:16</td>\n",
       "      <td>alexheard</td>\n",
       "      <td>@RenardFantastiq @racefortheprize This reminde...</td>\n",
       "      <td>False</td>\n",
       "    </tr>\n",
       "  </tbody>\n",
       "</table>\n",
       "<p>10000 rows × 6 columns</p>\n",
       "</div>"
      ],
      "text/plain": [
       "                     user_id             status_id           created_at  \\\n",
       "868080           x1375670666  x1336811615417741316  2020-12-09 23:15:00   \n",
       "215399            x178995069  x1327708871582908416  2020-11-14 20:23:57   \n",
       "730890   x854122429593128960  x1295796548668973056  2020-08-18 18:55:46   \n",
       "229020  x1006282473263783937  x1228884711008800773  2020-02-16 03:32:01   \n",
       "993686           x2421256032  x1234472247466659842  2020-03-02 13:34:53   \n",
       "...                      ...                   ...                  ...   \n",
       "284915           x1413439514  x1264523382923673602  2020-05-24 11:47:22   \n",
       "795746           x1330528548  x1275117206494261248  2020-06-22 17:23:27   \n",
       "95499    x759467405810601984  x1228161438784507904  2020-02-14 03:37:59   \n",
       "30720             x460289535  x1223658304620105730  2020-02-01 17:24:08   \n",
       "347483            x132086016  x1302297508643852293  2020-09-05 17:28:16   \n",
       "\n",
       "            screen_name                                               text  \\\n",
       "868080        helmsinki  Deena Hagen, nurse in COVID unit said those wh...   \n",
       "215399        honeylieg                      Have you had the coronavirus?   \n",
       "730890      KevinHSharp  The COVID-19 situation in Coleman, FL is far m...   \n",
       "229020          xdbac0n  Solve the coronavirus by eliminating a certain...   \n",
       "993686    GingerEvans10  Tonight, I am addressing the nation regarding ...   \n",
       "...                 ...                                                ...   \n",
       "284915      BetseyChace  Clara LeBeau writes about the death of her gra...   \n",
       "795746      AJ4VoteBlue  Amid surge in Florida COVID-19 cases, Fla. Gov...   \n",
       "95499   DebraDuGemini59  Hey @realDonaldTrump  warm weather will not ki...   \n",
       "30720     AnneBarschall  @nytimes @CNN is the number of coronavirus cas...   \n",
       "347483        alexheard  @RenardFantastiq @racefortheprize This reminde...   \n",
       "\n",
       "        is_retweet  \n",
       "868080        True  \n",
       "215399        True  \n",
       "730890        True  \n",
       "229020       False  \n",
       "993686        True  \n",
       "...            ...  \n",
       "284915        True  \n",
       "795746        True  \n",
       "95499        False  \n",
       "30720        False  \n",
       "347483       False  \n",
       "\n",
       "[10000 rows x 6 columns]"
      ]
     },
     "execution_count": 34,
     "metadata": {},
     "output_type": "execute_result"
    }
   ],
   "source": [
    "df_all_samples3"
   ]
  },
  {
   "cell_type": "code",
   "execution_count": 35,
   "id": "a4005ba1",
   "metadata": {},
   "outputs": [],
   "source": [
    "df_all_samples3.to_csv(\"../small_data/sample_all_weeks_usa_10000.csv\", index = False)"
   ]
  },
  {
   "cell_type": "code",
   "execution_count": null,
   "id": "69f95547",
   "metadata": {},
   "outputs": [],
   "source": []
  }
 ],
 "metadata": {
  "kernelspec": {
   "display_name": "Python 3",
   "language": "python",
   "name": "python3"
  },
  "language_info": {
   "codemirror_mode": {
    "name": "ipython",
    "version": 3
   },
   "file_extension": ".py",
   "mimetype": "text/x-python",
   "name": "python",
   "nbconvert_exporter": "python",
   "pygments_lexer": "ipython3",
   "version": "3.9.7"
  }
 },
 "nbformat": 4,
 "nbformat_minor": 5
}
